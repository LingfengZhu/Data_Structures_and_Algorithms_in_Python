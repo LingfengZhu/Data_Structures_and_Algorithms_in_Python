{
 "cells": [
  {
   "cell_type": "markdown",
   "metadata": {
    "slideshow": {
     "slide_type": "slide"
    }
   },
   "source": [
    "# 排序与查找\n"
   ]
  },
  {
   "cell_type": "markdown",
   "metadata": {
    "slideshow": {
     "slide_type": "slide"
    }
   },
   "source": [
    "# 目标\n",
    "\n",
    "* 理解并实现顺序查找和二分查找；\n",
    "*  理解哈希表用于查找的技术；\n",
    "*  介绍映射的抽象数据类型；\n",
    "*  用哈希表实现映射的抽象数据类型；\n",
    "*  理解并实现选择排序，冒泡排序，合并排序，快速排序，插入排序和shell排序。\n"
   ]
  },
  {
   "cell_type": "markdown",
   "metadata": {
    "slideshow": {
     "slide_type": "slide"
    }
   },
   "source": [
    "# 查找\n",
    " "
   ]
  },
  {
   "cell_type": "markdown",
   "metadata": {
    "slideshow": {
     "slide_type": "slide"
    }
   },
   "source": [
    "在python里，可使用in操作符查询某数据是否在列表里："
   ]
  },
  {
   "cell_type": "code",
   "execution_count": 3,
   "metadata": {
    "slideshow": {
     "slide_type": "fragment"
    }
   },
   "outputs": [
    {
     "data": {
      "text/plain": [
       "False"
      ]
     },
     "execution_count": 3,
     "metadata": {},
     "output_type": "execute_result"
    }
   ],
   "source": [
    "15 in [3, 5, 2, 4, 1] "
   ]
  },
  {
   "cell_type": "code",
   "execution_count": 3,
   "metadata": {
    "slideshow": {
     "slide_type": "fragment"
    }
   },
   "outputs": [
    {
     "data": {
      "text/plain": [
       "True"
      ]
     },
     "execution_count": 3,
     "metadata": {},
     "output_type": "execute_result"
    }
   ],
   "source": [
    "3 in [3,5,2,4,1]"
   ]
  },
  {
   "cell_type": "markdown",
   "metadata": {
    "slideshow": {
     "slide_type": "skip"
    }
   },
   "source": [
    "虽然这样写很简单，不过这个算法后面的处理过程我们还是要学习，查找有很多种方法，我们感兴趣的是算法以及算法之间的比较。"
   ]
  },
  {
   "cell_type": "markdown",
   "metadata": {
    "slideshow": {
     "slide_type": "slide"
    }
   },
   "source": [
    "### 顺序查找"
   ]
  },
  {
   "cell_type": "markdown",
   "metadata": {
    "slideshow": {
     "slide_type": "slide"
    }
   },
   "source": [
    "从列表的第一个元素开始，逐个检查，要么找到，要么全部检查完还没找到。\n",
    "\n",
    "<img src='images/seqsearch.png'><img>"
   ]
  },
  {
   "cell_type": "code",
   "execution_count": 5,
   "metadata": {
    "collapsed": true,
    "slideshow": {
     "slide_type": "slide"
    }
   },
   "outputs": [],
   "source": [
    "def sequentialSearch(alist, item):\n",
    "    pos = 0\n",
    "    found = False\n",
    "    \n",
    "    while pos < len(alist) and not found:\n",
    "        if alist[pos] == item:\n",
    "            return True\n",
    "        else:\n",
    "            pos += 1\n",
    "    return found"
   ]
  },
  {
   "cell_type": "code",
   "execution_count": 8,
   "metadata": {
    "slideshow": {
     "slide_type": "subslide"
    }
   },
   "outputs": [
    {
     "name": "stdout",
     "output_type": "stream",
     "text": [
      "True\n",
      "False\n"
     ]
    }
   ],
   "source": [
    "testlist = [1, 2, 32, 8, 9, 12, 4]\n",
    "print(sequentialSearch(testlist, 32))\n",
    "print(sequentialSearch(testlist, 21))\n"
   ]
  },
  {
   "cell_type": "markdown",
   "metadata": {
    "slideshow": {
     "slide_type": "slide"
    }
   },
   "source": [
    "# 顺序查找的性能分析  "
   ]
  },
  {
   "cell_type": "markdown",
   "metadata": {
    "slideshow": {
     "slide_type": "slide"
    }
   },
   "source": [
    "对长度为$n$的无序列表进行查找时，可能有三种情形：\n",
    "\n",
    "* 最好情况：第一个元素就是我们要找的，只需1次比较；\n",
    "\n",
    "* 最坏情况：全部检查完还没找到，需要$n$次比较；\n",
    "\n",
    "* 平均情况： \n",
    "\n",
    "    定义平均查找长度（Averaged Search Length, ASL）:\n",
    "    $$\n",
    "    ASL = \\sum_{i=1}^n p_i c_i\n",
    "    $$\n",
    "    其中\n",
    "    * $p_i$表示查找表中第$i$个元素的概率\n",
    "    * $c_i$表示找到第$i$个元素时已经比较过的次数"
   ]
  },
  {
   "cell_type": "markdown",
   "metadata": {
    "slideshow": {
     "slide_type": "fragment"
    }
   },
   "source": [
    "假设每个元素被查找的概率相等，则列表的平均查找长度为\n",
    "$$\n",
    "    ASL = \\frac1n(1+2+\\cdots+n)=\\frac{n+1}2\n",
    "$$"
   ]
  },
  {
   "cell_type": "markdown",
   "metadata": {
    "slideshow": {
     "slide_type": "slide"
    }
   },
   "source": [
    "对有序列表（假设是升序排列）进行顺序查找时，\n",
    "\n",
    "* 若元素在列表中，比较次数跟无序列表一样。\n",
    "\n",
    "* 若元素不在列表中，性能上会稍有提高。"
   ]
  },
  {
   "cell_type": "markdown",
   "metadata": {
    "slideshow": {
     "slide_type": "fragment"
    }
   },
   "source": [
    "<table><tr>\n",
    "<td><img src='images/seqsearch2.png' border=0></td>\n",
    "<td>查找50</td>\n",
    "</tr></table>\n",
    "\n",
    " \n",
    "让50与列表中的元素逐个进行比较，当比较到54时你会发现，54以及其后面的元素都会大于50！\n",
    "\n",
    "\n",
    "也就是说，程序此时可以停止遍历。\n"
   ]
  },
  {
   "cell_type": "code",
   "execution_count": 13,
   "metadata": {
    "collapsed": true,
    "slideshow": {
     "slide_type": "slide"
    }
   },
   "outputs": [],
   "source": [
    "def orderedSequentialSearch(alist, item):\n",
    "    pos = 0\n",
    "    found = False\n",
    "    stop = False\n",
    "    while pos < len(alist) and not found and not stop:\n",
    "        if alist[pos] == item:\n",
    "            found = True\n",
    "        else:\n",
    "            if alist[pos] > item:\n",
    "                stop = True\n",
    "            else:\n",
    "                pos += 1\n",
    "    return found"
   ]
  },
  {
   "cell_type": "code",
   "execution_count": 14,
   "metadata": {
    "slideshow": {
     "slide_type": "subslide"
    }
   },
   "outputs": [
    {
     "name": "stdout",
     "output_type": "stream",
     "text": [
      "False\n",
      "True\n"
     ]
    }
   ],
   "source": [
    "testlist = [0, 1, 2, 8, 13, 17, 19, 32, 42,]\n",
    "print(orderedSequentialSearch(testlist, 3))\n",
    "print(orderedSequentialSearch(testlist, 13))"
   ]
  },
  {
   "cell_type": "markdown",
   "metadata": {
    "slideshow": {
     "slide_type": "slide"
    }
   },
   "source": [
    "# 折半查找"
   ]
  },
  {
   "cell_type": "markdown",
   "metadata": {
    "slideshow": {
     "slide_type": "slide"
    }
   },
   "source": [
    "* 处理对象：有序列表（如升序）\n",
    "\n",
    "* 算法原理\n",
    "  \n",
    "  从中间元素开始比较，对于要查找的值，\n",
    "  \n",
    "  * 若等于中间元素，则查找成功；\n",
    "  \n",
    "  * 若小于中间元素，则在前半部分继续查找；\n",
    "  \n",
    "  * 若大于中间元素，则在后半部分继续查找。\n",
    "  \n",
    "  不断重复，知道查找成功或者查找失败为止。\n"
   ]
  },
  {
   "cell_type": "markdown",
   "metadata": {
    "slideshow": {
     "slide_type": "fragment"
    }
   },
   "source": [
    "<table><tr>\n",
    "<td><img src='images/binsearch.png' border=0></td>\n",
    "<td>折半查找54</td>\n",
    "</tr></table>\n",
    " "
   ]
  },
  {
   "cell_type": "code",
   "execution_count": 21,
   "metadata": {
    "collapsed": true,
    "slideshow": {
     "slide_type": "slide"
    }
   },
   "outputs": [],
   "source": [
    "def binarySearch(alist, item):\n",
    "    first = 0\n",
    "    last = len(alist)-1\n",
    "    found = False\n",
    "    \n",
    "    while first <= last and not found:\n",
    "        mid = (first + last)//2\n",
    "        if alist[mid] == item:\n",
    "            found = True\n",
    "        else:\n",
    "            if item < alist[mid]:\n",
    "                last = mid-1\n",
    "            else:\n",
    "                first = mid+1\n",
    "    return found"
   ]
  },
  {
   "cell_type": "code",
   "execution_count": 22,
   "metadata": {
    "slideshow": {
     "slide_type": "subslide"
    }
   },
   "outputs": [
    {
     "name": "stdout",
     "output_type": "stream",
     "text": [
      "False\n",
      "True\n"
     ]
    }
   ],
   "source": [
    "testlist = [0, 1, 2, 8, 13, 17, 19, 32, 42, 50]\n",
    "print(binarySearch(testlist, 3))\n",
    "print(binarySearch(testlist, 13))"
   ]
  },
  {
   "cell_type": "markdown",
   "metadata": {
    "slideshow": {
     "slide_type": "slide"
    }
   },
   "source": [
    "\n",
    "折半查找算法采用的是\"分而治之（ divide and conquer）\"策略。\n",
    "\n",
    "分而治之的基本思想是将一个规模为$n$的问题分解为$k$个规模较小的子问题，这些子问题互相独立且与原问题相同。\n",
    "\n",
    "找出各部分的解，然后把各部分的解组合成整个问题的解。"
   ]
  },
  {
   "cell_type": "markdown",
   "metadata": {
    "slideshow": {
     "slide_type": "slide"
    }
   },
   "source": [
    "在列表中查找时，先检查中间元素，如果小于中间元素，就在左半表中继续查找；类似地，如果大于中间元素，就在右边查找。\n",
    "\n",
    "于是，折半查找可用递归来实现。"
   ]
  },
  {
   "cell_type": "code",
   "execution_count": 24,
   "metadata": {
    "collapsed": true,
    "slideshow": {
     "slide_type": "subslide"
    }
   },
   "outputs": [],
   "source": [
    "def binarySearch(alist, item):\n",
    "    if len(alist) == 0:\n",
    "        return False\n",
    "    else:\n",
    "        mid = len(alist)b//2\n",
    "        if alist[mid] == item:\n",
    "            return True\n",
    "        else:\n",
    "            if item < alist[mid]:\n",
    "                return binarySearch(alist[:mid], item)\n",
    "            else:\n",
    "                return binarySearch(alist[mid+1:], item)"
   ]
  },
  {
   "cell_type": "code",
   "execution_count": 26,
   "metadata": {
    "slideshow": {
     "slide_type": "subslide"
    }
   },
   "outputs": [
    {
     "name": "stdout",
     "output_type": "stream",
     "text": [
      "False\n",
      "True\n"
     ]
    }
   ],
   "source": [
    "testlist = [0, 1, 2, 8, 13, 17, 19, 32, 42, 50]\n",
    "print(binarySearch(testlist, 3))\n",
    "print(binarySearch(testlist, 13))"
   ]
  },
  {
   "cell_type": "markdown",
   "metadata": {
    "slideshow": {
     "slide_type": "slide"
    }
   },
   "source": [
    "# 哈希查找（Hash Search）"
   ]
  },
  {
   "cell_type": "markdown",
   "metadata": {
    "slideshow": {
     "slide_type": "slide"
    }
   },
   "source": [
    "本节将创建一个数据结构（哈希表），使得查找性能提高到$O(1)$，称为哈希查找。"
   ]
  },
  {
   "cell_type": "code",
   "execution_count": null,
   "metadata": {
    "collapsed": true,
    "slideshow": {
     "slide_type": "skip"
    }
   },
   "outputs": [],
   "source": [
    "要做到这样的性能，我们要知道元素的可能位置，如果每个元素就在他应该在的位置上，那么要查找的时候只需要一次比较得到有没有的答案，但下面将会看到，不是这么回事。"
   ]
  },
  {
   "cell_type": "markdown",
   "metadata": {
    "slideshow": {
     "slide_type": "slide"
    }
   },
   "source": [
    "## 哈希表 (Hash Table)"
   ]
  },
  {
   "cell_type": "markdown",
   "metadata": {
    "slideshow": {
     "slide_type": "skip"
    }
   },
   "source": [
    "哈希表（Hash table，也叫散列表），是根据关键码值(key-value)而直接进行访问的数据结构。\n",
    "\n",
    "也就是说，它通过把关键码值映射到表中一个位置(\"槽位\")来访问记录，以加快查找的速度。\n",
    "\n",
    "这个映射函数叫做散列函数，存放记录的数组叫做散列表。"
   ]
  },
  {
   "cell_type": "markdown",
   "metadata": {
    "slideshow": {
     "slide_type": "fragment"
    }
   },
   "source": [
    "哈希表是一种根据关键码值(key-value)而直接进行访问的数据结构。\n",
    "\n",
    "也就是说，它通过把关键码值映射到表中一个位置来访问记录，以加快查找的速度。\n",
    "\n",
    "\n",
    "* 哈希表中的每一个位置称为“槽位”，每个槽位都能保存一个数据元素并以一个整数命名(从0开始)。这样我们就有0号槽位，1号槽位等等。\n",
    "\n",
    "  构建哈希表时，可以把槽位值都初始化为None。 "
   ]
  },
  {
   "cell_type": "markdown",
   "metadata": {
    "slideshow": {
     "slide_type": "fragment"
    }
   },
   "source": [
    "<table><tr>\n",
    "<td><img src='images/hashtable.png' border=0></td>\n",
    "<td>一个大小为11的哈希表</td>\n",
    "</tr></table>\n",
    "\n",
    " "
   ]
  },
  {
   "cell_type": "markdown",
   "metadata": {
    "slideshow": {
     "slide_type": "slide"
    }
   },
   "source": [
    "## 哈希函数（Hash Function）"
   ]
  },
  {
   "cell_type": "markdown",
   "metadata": {
    "slideshow": {
     "slide_type": "fragment"
    }
   },
   "source": [
    "元素和其槽位之间的映射关系，称为哈希函数。\n",
    "\n",
    "哈希函数接受一个元素作为参数，返回一个整数作为槽位名。"
   ]
  },
  {
   "cell_type": "markdown",
   "metadata": {
    "slideshow": {
     "slide_type": "slide"
    }
   },
   "source": [
    "设有一个整数集合\n",
    "$$\n",
    "54，26，93，17，77, 31\n",
    "$$\n",
    "下面介绍哈希函数的几种构造方法。"
   ]
  },
  {
   "cell_type": "markdown",
   "metadata": {
    "slideshow": {
     "slide_type": "slide"
    }
   },
   "source": [
    "1、**余数法**\n",
    "\n",
    "    将元素除以表的大小（11），所得余数作为哈希值。"
   ]
  },
  {
   "cell_type": "markdown",
   "metadata": {
    "slideshow": {
     "slide_type": "fragment"
    }
   },
   "source": [
    "| Item        | Hash value |\n",
    "| ------------- |:-------------:|  \n",
    "|54 |   10 |\n",
    "|26 |   4  |\n",
    "|93 |   5  |\n",
    "|17 |   6  |\n",
    "|77 |   0  |\n",
    "|31 |   9  |"
   ]
  },
  {
   "cell_type": "markdown",
   "metadata": {
    "slideshow": {
     "slide_type": "fragment"
    }
   },
   "source": [
    "一旦哈希值计算出来，就要把元素插入到哈希表中指定的位置。"
   ]
  },
  {
   "cell_type": "markdown",
   "metadata": {
    "slideshow": {
     "slide_type": "fragment"
    }
   },
   "source": [
    "<table><tr>\n",
    "<td><img src='images/hashtable2.png' border=0></td>\n",
    "<td>11个槽位中，6个已经填满</td>\n",
    "</tr></table>"
   ]
  },
  {
   "cell_type": "markdown",
   "metadata": {
    "slideshow": {
     "slide_type": "slide"
    }
   },
   "source": [
    "\n",
    "**满载因子** \n",
    "\n",
    "$$\n",
    "\\lambda  = \\frac{\\mbox{number of items}}{\\mbox{table size}}\n",
    "$$\n",
    "\n",
    "\n",
    "该例中，\n",
    "$$\n",
    "\\lambda  = \\frac{6}{11}.\n",
    "$$"
   ]
  },
  {
   "cell_type": "markdown",
   "metadata": {
    "slideshow": {
     "slide_type": "slide"
    }
   },
   "source": [
    "** 如何查找？**\n",
    "\n",
    "1. 先用哈希函数计算出槽位值；\n",
    "\n",
    "2. 然后到表中检查是否存在。\n",
    "\n",
    "其时间复杂度是$O(1)$。"
   ]
  },
  {
   "cell_type": "markdown",
   "metadata": {
    "slideshow": {
     "slide_type": "slide"
    }
   },
   "source": [
    "对于集合\n",
    "$$\n",
    "54，26，93，17，77, 31\n",
    "$$\n",
    "若增加一个$44$，则其哈希值是0，跟77的哈希值一样。\n",
    "\n",
    "这就出现了2个值对应同一个槽位的情况，称为“冲突(Collision)”。\n",
    "\n",
    "很明显，冲突给哈希技术造成了困难。"
   ]
  },
  {
   "cell_type": "markdown",
   "metadata": {
    "slideshow": {
     "slide_type": "slide"
    }
   },
   "source": [
    "对给定的数据集，哈希函数将每个元素映射为单个的槽位，称为“完美哈希函数”。\n",
    "\n",
    "如果我们知道元素和集合固定不变，那么构造一个完美哈希函数也许是可能的。"
   ]
  },
  {
   "cell_type": "markdown",
   "metadata": {
    "slideshow": {
     "slide_type": "fragment"
    }
   },
   "source": [
    "坏消息是，对一个任意数据集合，没有一个系统的方法来构造完美哈希函数；\n",
    "\n",
    "好消息是，哈希函数不完美也能提供不错的性能。\n"
   ]
  },
  {
   "cell_type": "markdown",
   "metadata": {
    "slideshow": {
     "slide_type": "slide"
    }
   },
   "source": [
    "如果一定要完美的哈希函数，一种方法是做大哈希表，以保证每个元素都有自己的索引。虽然在数据不多的情况下可行，但是如果数据很大就不可行。\n",
    "\n",
    "比如，如果数据项是8位数，这就需要十亿个槽位，如果仅仅用来保存25个学生的学号，就太浪费了。"
   ]
  },
  {
   "cell_type": "markdown",
   "metadata": {
    "slideshow": {
     "slide_type": "fragment"
    }
   },
   "source": [
    "我们的目标是：冲突最少，计算简单，分布均匀。"
   ]
  },
  {
   "cell_type": "markdown",
   "metadata": {
    "slideshow": {
     "slide_type": "slide"
    }
   },
   "source": [
    "2、**折叠法**\n",
    "\n",
    "    把元素分成相等的几块（最后一块可能不相等），然后再把这些块求哈希值。"
   ]
  },
  {
   "cell_type": "markdown",
   "metadata": {
    "slideshow": {
     "slide_type": "fragment"
    }
   },
   "source": [
    "假设哈希表有11个槽位，数据项是一个电话号码 436 555 4601。折叠法的处理过程如下：\n",
    "\n",
    "1. 按2个一组分块，然后加起来，即 $43+65+55+46+01$，得到 $210$ 。\n",
    "2. 用11除210来得到槽位，即$210\\%11=1$，故 436 555 4601 的哈希值是 $1$。\n"
   ]
  },
  {
   "cell_type": "markdown",
   "metadata": {},
   "source": [
    "3、**平方取中法**\n",
    "\n",
    "先计算元素的平方值，再从中提取几位数字。\n",
    "\n",
    "例如，对元素44，先计算$44^2=1936$，提取中间两位 $93$，然后再取余数法，得到$5 ~~(93\\%11=5)$。\n"
   ]
  },
  {
   "cell_type": "markdown",
   "metadata": {
    "slideshow": {
     "slide_type": "slide"
    }
   },
   "source": [
    "| Item        | Hash value | Mid-Square |\n",
    "| ------------- |:-------------:|   ------------- |\n",
    "|54 |   10 | 3 |\n",
    "|26 |   4  | 7 |\n",
    "|93 |   5  | 9 |\n",
    "|17 |   6  | 8 |\n",
    "|77 |   0  | 4 |\n",
    "|31 |   9  | 6 |"
   ]
  },
  {
   "cell_type": "markdown",
   "metadata": {
    "slideshow": {
     "slide_type": "slide"
    }
   },
   "source": [
    "## 字符类元素的哈希函数"
   ]
  },
  {
   "cell_type": "markdown",
   "metadata": {
    "slideshow": {
     "slide_type": "slide"
    }
   },
   "source": [
    "对于字符类元素也能创建哈希函数，如单词cat可以看成一个数字串。"
   ]
  },
  {
   "cell_type": "code",
   "execution_count": 7,
   "metadata": {
    "slideshow": {
     "slide_type": "fragment"
    }
   },
   "outputs": [
    {
     "data": {
      "text/plain": [
       "99"
      ]
     },
     "execution_count": 7,
     "metadata": {},
     "output_type": "execute_result"
    }
   ],
   "source": [
    "ord('c')"
   ]
  },
  {
   "cell_type": "code",
   "execution_count": 11,
   "metadata": {
    "slideshow": {
     "slide_type": "fragment"
    }
   },
   "outputs": [
    {
     "data": {
      "text/plain": [
       "97"
      ]
     },
     "execution_count": 11,
     "metadata": {},
     "output_type": "execute_result"
    }
   ],
   "source": [
    "ord('a')"
   ]
  },
  {
   "cell_type": "code",
   "execution_count": 10,
   "metadata": {
    "slideshow": {
     "slide_type": "fragment"
    }
   },
   "outputs": [
    {
     "data": {
      "text/plain": [
       "116"
      ]
     },
     "execution_count": 10,
     "metadata": {},
     "output_type": "execute_result"
    }
   ],
   "source": [
    "ord('t')"
   ]
  },
  {
   "cell_type": "markdown",
   "metadata": {
    "slideshow": {
     "slide_type": "fragment"
    }
   },
   "source": [
    "<table><tr>\n",
    "<td><img src='images/stringhash.png' border=0></td>\n",
    "<td>将字母的ASCII码相加，再用余数法来计算哈希值。</td>\n",
    "</tr></table>\n",
    "\n",
    " "
   ]
  },
  {
   "cell_type": "code",
   "execution_count": 2,
   "metadata": {
    "collapsed": true,
    "slideshow": {
     "slide_type": "slide"
    }
   },
   "outputs": [],
   "source": [
    "def hash(astring, tablesize):\n",
    "    sum = 0\n",
    "    for pos in range(len(astring)):\n",
    "        sum = sum + ord(astring[pos])\n",
    " \n",
    "    return sum%tablesize"
   ]
  },
  {
   "cell_type": "markdown",
   "metadata": {
    "slideshow": {
     "slide_type": "slide"
    }
   },
   "source": [
    "但对于字母相同而顺序不同的单词，用该函数算得的哈希值相等，解决办法是加上字母的位置作为权重。 "
   ]
  },
  {
   "cell_type": "markdown",
   "metadata": {
    "slideshow": {
     "slide_type": "fragment"
    }
   },
   "source": [
    "<img src='images/stringhash2.png'> <img>"
   ]
  },
  {
   "cell_type": "markdown",
   "metadata": {
    "slideshow": {
     "slide_type": "slide"
    }
   },
   "source": [
    "\n",
    " **原则**\n",
    " \n",
    " 哈希函数必须要简单高效，不能成为计算的主要负担。\n",
    " \n",
    " 如果哈希函数太复杂，计算槽位名的时间超过了简单的顺序查找或二分查找的时间，那么哈希函数还有什么意义呢？"
   ]
  },
  {
   "cell_type": "markdown",
   "metadata": {
    "slideshow": {
     "slide_type": "slide"
    }
   },
   "source": [
    "# 冲突解决"
   ]
  },
  {
   "cell_type": "markdown",
   "metadata": {
    "slideshow": {
     "slide_type": "slide"
    }
   },
   "source": [
    "当两个元素的哈希值指向同一个槽位，就应该有办法把第二个元素放进表中，这个过程叫做“冲突解决”。"
   ]
  },
  {
   "cell_type": "markdown",
   "metadata": {
    "slideshow": {
     "slide_type": "fragment"
    }
   },
   "source": [
    "我们前面说过的，如果哈希函数是完美的，不会发生冲突。但完美无缺的事很少，所以冲突解决就成为哈希算法中的重要部分。"
   ]
  },
  {
   "cell_type": "markdown",
   "metadata": {
    "slideshow": {
     "slide_type": "slide"
    }
   },
   "source": [
    "## 冲突解决之方法一：开放地址+线性探测\n",
    "\n",
    "从冲突的槽位开始，顺序（循环）向前查找，直到遇到一个空闲的槽位为止。 \n",
    "\n",
    "这种方法称为**开放地址法**。\n",
    "\n",
    "通过系统地访问每个槽位，我们的开放地址技术叫做线性探测。"
   ]
  },
  {
   "cell_type": "markdown",
   "metadata": {
    "slideshow": {
     "slide_type": "slide"
    }
   },
   "source": [
    "| Item        | Hash value |\n",
    "| ------------- |:-------------:|  \n",
    "|54 |   10 |\n",
    "|26 |   4  |\n",
    "|93 |   5  |\n",
    "|17 |   6  |\n",
    "|77 |   0  |\n",
    "|31 |   9  |\n",
    "\n",
    " \n",
    "\n",
    "\n",
    "<img src='images/hashtable2.png'> <img>\n",
    "\n",
    "\n",
    "<table><tr>\n",
    "<td><img src='images/linearprobing1.png' border=0></td>\n",
    "<td>依次加入44、55、20</td>\n",
    "</tr></table>\n",
    " "
   ]
  },
  {
   "cell_type": "markdown",
   "metadata": {
    "slideshow": {
     "slide_type": "slide"
    }
   },
   "source": [
    "**如何查找？**\n",
    "\n",
    "<img src='images/linearprobing1.png' border=0>\n"
   ]
  },
  {
   "cell_type": "markdown",
   "metadata": {
    "slideshow": {
     "slide_type": "fragment"
    }
   },
   "source": [
    "* 若查找**93**\n",
    "\n",
    "  * 计算哈希值5\n",
    "  \n",
    "  * 查找5号槽\n",
    "  \n",
    "  * 返回True"
   ]
  },
  {
   "cell_type": "markdown",
   "metadata": {
    "slideshow": {
     "slide_type": "fragment"
    }
   },
   "source": [
    "\n",
    "* 若查找**20** \n",
    "\n",
    "   * 计算哈希值9\n",
    "   \n",
    "   * 查找9号槽，因可能存在冲突，不能直接返回False。\n",
    "   \n",
    "   * 从10号槽开始顺序查找，直到**找到20**或**发现空槽位**。"
   ]
  },
  {
   "cell_type": "markdown",
   "metadata": {
    "slideshow": {
     "slide_type": "slide"
    }
   },
   "source": [
    "线性探测的缺点是可能引起**聚类现象**，元素在表里成群出现。\n",
    "\n",
    "因为如果在同一槽位上发生很多次冲突，附近的空槽位就会被线性探测找到并被填满，这就会影响到其他插入的元素。\n",
    "\n",
    "就象前面我们看到插入20的情况，20不得不跨过0后面好几个元素才找到开放地址，如下图所示。\n",
    "<table><tr>\n",
    "<td><img src='images/clustering.png' border=0></td>\n",
    "<td>聚类现象：插入20时，不得不跨过0号槽位后好几个槽位才找到开放地址</td>\n",
    "</tr></table>\n",
    "\n",
    " \n",
    " \n",
    " "
   ]
  },
  {
   "cell_type": "markdown",
   "metadata": {
    "slideshow": {
     "slide_type": "slide"
    }
   },
   "source": [
    "## 线性+k探测\n",
    "\n",
    "避免聚类现象的一种方法是延伸线性探测，改变就近查找空槽的方法，而是跳过几个槽位，这样冲突的元素可以分散开来，从而潜在减少了聚类现象的可能性。\n",
    "\n",
    "\n",
    "<table><tr>\n",
    "<td><img src='images/linearprobing2.png' border=0></td>\n",
    "<td>线性+3探测：冲突发生时，每隔3个位置探测一下是否空槽</td>\n",
    "</tr></table>\n",
    " "
   ]
  },
  {
   "cell_type": "markdown",
   "metadata": {
    "slideshow": {
     "slide_type": "slide"
    }
   },
   "source": [
    "## 再哈希（Rehash）"
   ]
  },
  {
   "cell_type": "markdown",
   "metadata": {
    "slideshow": {
     "slide_type": "slide"
    }
   },
   "source": [
    "冲突发生后查找另一个空槽的方法称为**“再哈希”**。\n",
    "\n",
    "再哈希函数的一般定义为\n",
    "$$ NewHashValue = rehash(OldHashValue)$$ \n",
    "\n",
    "* 用线性探测法时，\n",
    " $$ rehash(pos) ~~=~~ (pos+1)~~ \\% ~~sizeoftable$$\n",
    "* 用+3探测法时， \n",
    " $$ rehash(pos) ~~=~~ (pos+3)~~\\% ~~sizeoftable$$\n",
    "* 一般情况下：\n",
    " $$ rehash(pos) ~~=~~ (pos+skip) ~~\\%~~ sizeoftable$$"
   ]
  },
  {
   "cell_type": "markdown",
   "metadata": {
    "slideshow": {
     "slide_type": "slide"
    }
   },
   "source": [
    "变量$skip$的选择必须保证表中所有的槽位都能访问到，否则，表中有些位置就会一直空闲。\n",
    "\n",
    "因此，为保证$skip$取值合适，一般建议哈希表的大小是个质数，这也是为什么前面的例子中我们使用了$11$。"
   ]
  },
  {
   "cell_type": "markdown",
   "metadata": {
    "slideshow": {
     "slide_type": "slide"
    }
   },
   "source": [
    "## 二次探测\n",
    "\n",
    "线性探测思想的一个变种，它不再使用一个常数的“跳步”，而是用再哈希函数来逐次提高哈希值。\n",
    "\n",
    "这就是说，如果第一次计算得到的哈希值是$h$,那么后续的值就是$h+1, h+4, h+9, h+16$等。\n",
    "\n",
    " \n",
    "<table><tr>\n",
    "<td><img src='images/quadratic.png' border=0></td>\n",
    "<td>二次探测：使用完全平方数作为跳步</td>\n",
    "</tr></table>\n",
    "\n",
    "\n",
    " "
   ]
  },
  {
   "cell_type": "markdown",
   "metadata": {
    "slideshow": {
     "slide_type": "slide"
    }
   },
   "source": [
    "## 冲突解决之方法二：链表方法\n",
    "\n",
    "让槽位上保存一个指向链地址的引用，这个方法可以在一个槽位上存在很多元素。这样当发生冲突时，元素仍然可以放在这个槽位上。但是如果越来越多的元素放置在同一槽位上，查找的难度也要增加。\n",
    "\n",
    " <table><tr>\n",
    "<td><img src='images/chaining.png' border=0></td>\n",
    "<td>使用链表方法解决冲突</td>\n",
    "</tr></table>\n",
    " "
   ]
  },
  {
   "cell_type": "markdown",
   "metadata": {
    "slideshow": {
     "slide_type": "fragment"
    }
   },
   "source": [
    "当查找一个元素时，使用哈希函数计算出一个元素“应该”在的槽位值，既然每个槽位挂了一个集合，也要使用查找技术来判断是否存在。这样的好处是每个槽位上的元素数量要少很多，所以查找的效率更高。 "
   ]
  },
  {
   "cell_type": "markdown",
   "metadata": {
    "slideshow": {
     "slide_type": "slide"
    }
   },
   "source": [
    "# 实现map抽象数据类型"
   ]
  },
  {
   "cell_type": "markdown",
   "metadata": {
    "slideshow": {
     "slide_type": "slide"
    }
   },
   "source": [
    "字曲是python里最有用的数据集合之一，字典是 key-value 的组合，key-value 用来查找相应的数据，我们把这种思想称为“map”。"
   ]
  },
  {
   "cell_type": "markdown",
   "metadata": {
    "slideshow": {
     "slide_type": "slide"
    }
   },
   "source": [
    "## map的抽象数据类型\n",
    "\n",
    "map是一个无序的键值对的集合，键总是唯一的，以便建立与数据值的一一对应关系。\n",
    "\n",
    "map的操作方法如下：\n",
    "* Map( ): 创建一个空 map，返回一个空集合。\n",
    "* put(key, val): 在 map 中增加新的键值对，如果键已经存在，则用新值代替旧值。\n",
    "* get(key):  根据给定的键，返回对应的值，找不到时返回 None。\n",
    "* del: 从 map 中删除键值对，其形式为 del map[key]。\n",
    "* len(): 返回 map 中键值对的数量。\n",
    "* in: 如果键在 map 中，则语句key in map返回 True，否则返回 False。"
   ]
  },
  {
   "cell_type": "markdown",
   "metadata": {
    "slideshow": {
     "slide_type": "slide"
    }
   },
   "source": [
    "字典的好处之一，是给一个键可以很快返回相关的数据。为了提供这样快速查询的能力，我们需要引入一个高效的查找功能。\n",
    "\n",
    "可以对列表使用顺序或二分查找，但最好是用哈希表，因为它能提供接近$O(1)$的性能。\n"
   ]
  },
  {
   "cell_type": "markdown",
   "metadata": {
    "slideshow": {
     "slide_type": "slide"
    }
   },
   "source": [
    "以下代码中我们使用两个列表来创建 HashTable 类，以实现 map 的抽象数据类型。\n",
    "\n",
    "* 一个名为 slots 的列表，用来保存键；\n",
    "* 一个名为 data 的列表，用来保存数据。\n",
    "\n",
    "查询键时，data列表相应的位置上就保存有数据。\n",
    "\n",
    "我们将slots处理成哈希表。注意哈希表的初始大小为是11，虽然这个大小是随意的，但是选择为质数特别重要，因为这样一来后面处理冲突的效率就比较高。"
   ]
  },
  {
   "cell_type": "code",
   "execution_count": 34,
   "metadata": {
    "collapsed": true,
    "slideshow": {
     "slide_type": "slide"
    }
   },
   "outputs": [],
   "source": [
    "class HashTable():\n",
    "    def __init__(self):\n",
    "        self.size  = 11\n",
    "        self.slots = [None] * self.size\n",
    "        self.data  = [None] * self.size"
   ]
  },
  {
   "cell_type": "markdown",
   "metadata": {
    "slideshow": {
     "slide_type": "slide"
    }
   },
   "source": [
    "#### Hashfunction()：哈希函数\n",
    "\n",
    "简单地采用余数法。"
   ]
  },
  {
   "cell_type": "code",
   "execution_count": 36,
   "metadata": {
    "collapsed": true,
    "slideshow": {
     "slide_type": "fragment"
    }
   },
   "outputs": [],
   "source": [
    "def hashfunction(self, key, size):\n",
    "     return key%size"
   ]
  },
  {
   "cell_type": "markdown",
   "metadata": {
    "slideshow": {
     "slide_type": "slide"
    }
   },
   "source": [
    "#### rehash()：再哈希函数，用于解决冲突\n",
    "\n",
    "采用+1线性探测。"
   ]
  },
  {
   "cell_type": "code",
   "execution_count": 37,
   "metadata": {
    "collapsed": true,
    "slideshow": {
     "slide_type": "fragment"
    }
   },
   "outputs": [],
   "source": [
    "def rehash(self, oldhash, size):\n",
    "    return (oldhash + 1)%size"
   ]
  },
  {
   "cell_type": "markdown",
   "metadata": {
    "slideshow": {
     "slide_type": "slide"
    }
   },
   "source": [
    "#### put 函数\n",
    "\n",
    "除非 self.slots 中包括键 key，否则这个槽位就认为是空的。它计算出的哈希值如果非空，就迭代rehash函数，直到找到一个空槽位。如果一个非空的槽位上已经有键值，就用新数据代替原数据。"
   ]
  },
  {
   "cell_type": "code",
   "execution_count": 49,
   "metadata": {
    "collapsed": true,
    "slideshow": {
     "slide_type": "subslide"
    }
   },
   "outputs": [],
   "source": [
    "def put(self, key, data):\n",
    "    hashvalue = self.hashfunction(key, self.size)\n",
    " \n",
    "    if self.slots[hashvalue] == None:\n",
    "        self.slots[hashvalue] = key\n",
    "        self.data[hashvalue] = data\n",
    "    else:\n",
    "        if self.slots[hashvalue] == key:\n",
    "            self.data[hashvalue] = data  #replace\n",
    "        else:\n",
    "            nextslot = self.rehash(hashvalue, self.size)\n",
    "            while self.slots[nextslot] != None and \\\n",
    "                      self.slots[nextslot] != key:\n",
    "                nextslot = self.rehash(nextslot, self.size)\n",
    " \n",
    "            if self.slots[nextslot] == None:\n",
    "                self.slots[nextslot] = key\n",
    "                self.data[nextslot] = data\n",
    "            else:\n",
    "                self.data[nextslot] = data #replace"
   ]
  },
  {
   "cell_type": "markdown",
   "metadata": {
    "slideshow": {
     "slide_type": "slide"
    }
   },
   "source": [
    "#### get()\n",
    "\n",
    "从计算哈希值开始，如果这个值不是一个起始的槽位，rehash就去查找另一个可能的位置。"
   ]
  },
  {
   "cell_type": "markdown",
   "metadata": {
    "slideshow": {
     "slide_type": "skip"
    }
   },
   "source": [
    "注意第15行检查有没有返回最早的槽位，如果是，查找将停止，因为那表明已经找过所有的槽位，元素不存在。"
   ]
  },
  {
   "cell_type": "code",
   "execution_count": 50,
   "metadata": {
    "collapsed": true,
    "slideshow": {
     "slide_type": "subslide"
    }
   },
   "outputs": [],
   "source": [
    "def get(self, key):\n",
    "    startslot = self.hashfunction(key, self.size)\n",
    "    data = None\n",
    "    stop = False\n",
    "    found = False\n",
    "    position = startslot\n",
    "    while self.slots[position] != None and  \\\n",
    "                       not found and not stop:\n",
    "        if self.slots[position]== key:\n",
    "            found = True\n",
    "            data = self.data[position]\n",
    "        else:\n",
    "           position = self.rehash(position,self.size)\n",
    "           if position == startslot:\n",
    "               stop = True\n",
    "    return data"
   ]
  },
  {
   "cell_type": "markdown",
   "metadata": {
    "slideshow": {
     "slide_type": "slide"
    }
   },
   "source": [
    "#### 附加的字典函数。\n",
    "\n",
    "我们重载了\\_\\_getitem\\_\\_和 \\_\\_setitem\\_\\_方法来实现“[ ]”符号的使用。这也意味着，一旦HashTable对象创建，熟悉的索引方法就可用了。"
   ]
  },
  {
   "cell_type": "code",
   "execution_count": 40,
   "metadata": {
    "collapsed": true,
    "slideshow": {
     "slide_type": "fragment"
    }
   },
   "outputs": [],
   "source": [
    "def __getitem__(self, key):\n",
    "    return self.get(key)\n",
    " \n",
    "def __setitem__(self, key, data):\n",
    "    self.put(key, data)"
   ]
  },
  {
   "cell_type": "markdown",
   "metadata": {
    "slideshow": {
     "slide_type": "skip"
    }
   },
   "source": [
    "## 完整代码"
   ]
  },
  {
   "cell_type": "code",
   "execution_count": 44,
   "metadata": {
    "slideshow": {
     "slide_type": "skip"
    }
   },
   "outputs": [
    {
     "name": "stdout",
     "output_type": "stream",
     "text": [
      "[77, 44, 55, 20, 26, 93, 17, None, None, 31, 54]\n",
      "['bird', 'goat', 'pig', 'chicken', 'dog', 'lion', 'tiger', None, None, 'cow', 'cat']\n",
      "chicken\n",
      "tiger\n",
      "duck\n",
      "None\n"
     ]
    }
   ],
   "source": [
    "class HashTable:\n",
    "    def __init__(self):\n",
    "        self.size = 11\n",
    "        self.slots = [None] * self.size\n",
    "        self.data = [None] * self.size\n",
    "\n",
    "    def put(self, key, data):\n",
    "      hashvalue = self.hashfunction(key, self.size)\n",
    "\n",
    "      if self.slots[hashvalue] == None:\n",
    "        self.slots[hashvalue] = key\n",
    "        self.data[hashvalue] = data\n",
    "      else:\n",
    "        if self.slots[hashvalue] == key:\n",
    "          self.data[hashvalue] = data  #replace\n",
    "        else:\n",
    "          nextslot = self.rehash(hashvalue, self.size)\n",
    "          while self.slots[nextslot] != None and \\\n",
    "                          self.slots[nextslot] != key:\n",
    "            nextslot = self.rehash(nextslot, self.size)\n",
    "\n",
    "          if self.slots[nextslot] == None:\n",
    "            self.slots[nextslot] = key\n",
    "            self.data[nextslot] = data\n",
    "          else:\n",
    "            self.data[nextslot] = data #replace\n",
    "\n",
    "    def hashfunction(self, key, size):\n",
    "         return key % size\n",
    "\n",
    "    def rehash(self, oldhash, size):\n",
    "        return (oldhash+1) % size\n",
    "\n",
    "    def get(self, key):\n",
    "      startslot = self.hashfunction(key, self.size)\n",
    "\n",
    "      data = None\n",
    "      stop = False\n",
    "      found = False\n",
    "      position = startslot\n",
    "      while self.slots[position] != None and  \\\n",
    "                           not found and not stop:\n",
    "         if self.slots[position] == key:\n",
    "           found = True\n",
    "           data = self.data[position]\n",
    "         else:\n",
    "           position=self.rehash(position,len(self.slots))\n",
    "           if position == startslot:\n",
    "               stop = True\n",
    "      return data\n",
    "\n",
    "    def __getitem__(self,key):\n",
    "        return self.get(key)\n",
    "\n",
    "    def __setitem__(self,key,data):\n",
    "        self.put(key,data)\n",
    "\n",
    "H=HashTable()\n",
    "H[54]=\"cat\"\n",
    "H[26]=\"dog\"\n",
    "H[93]=\"lion\"\n",
    "H[17]=\"tiger\"\n",
    "H[77]=\"bird\"\n",
    "H[31]=\"cow\"\n",
    "H[44]=\"goat\"\n",
    "H[55]=\"pig\"\n",
    "H[20]=\"chicken\"\n",
    "print(H.slots)\n",
    "print(H.data)\n",
    "\n",
    "print(H[20])\n",
    "\n",
    "print(H[17])\n",
    "H[20]='duck'\n",
    "print(H[20])\n",
    "print(H[99])"
   ]
  },
  {
   "cell_type": "markdown",
   "metadata": {
    "slideshow": {
     "slide_type": "skip"
    }
   },
   "source": [
    "# Analysis of Hashing\n",
    "\n",
    "We stated earlier that in the best case hashing would provide a $O(1)$, constant time search technique. However, due to collisions, the number of comparisons is typically not so simple. Even though a complete analysis of hashing is beyond the scope of this text, we can state some well-known results that approximate the number of comparisons necessary to search for an item.\n",
    "\n",
    "The most important piece of information we need to analyze the use of a hash table is the load factor, λλ. Conceptually, if λλ is small, then there is a lower chance of collisions, meaning that items are more likely to be in the slots where they belong. If λλ is large, meaning that the table is filling up, then there are more and more collisions. This means that collision resolution is more difficult, requiring more comparisons to find an empty slot. With chaining, increased collisions means an increased number of items on each chain.\n",
    "\n",
    "As before, we will have a result for both a successful and an unsuccessful search. For a successful search using open addressing with linear probing, the average number of comparisons is approximately $\\frac12\\left(1+\\frac1{1-\\lambda}\\right)$  and an unsuccessful search gives  $\\frac12\\left(1+\\left(\\frac1{1-\\lambda}\\right)^2\\right)$ If we are using chaining, the average number of comparisons is $1+\\frac\\lambda2$ for the successful case, and simply $\\lambda$ comparisons if the search is unsuccessful.\n"
   ]
  },
  {
   "cell_type": "markdown",
   "metadata": {
    "slideshow": {
     "slide_type": "slide"
    }
   },
   "source": [
    "# 排序"
   ]
  },
  {
   "cell_type": "markdown",
   "metadata": {
    "slideshow": {
     "slide_type": "slide"
    }
   },
   "source": [
    "排序是将集合中的元素以某种规律放置的过程。例如，\n",
    "\n",
    "* 一个单词的列表，可以按字母顺序排列；\n",
    "* 一个城市的列表，可以按人口、面积、邮政编码来排序。\n",
    "\n",
    "关于有序列表的好处，在折半查找中有过体现。"
   ]
  },
  {
   "cell_type": "markdown",
   "metadata": {
    "slideshow": {
     "slide_type": "slide"
    }
   },
   "source": [
    "很多的排序算法被开发和分析，这也说明排序在计算机科学中的重要性。\n",
    "\n",
    "大数据量的排序要占用海量的计算资源。同查找一样，排序的算法效率与元素的数量有关。\n",
    "\n",
    "* 对小的数据集来说，复杂的排序算法没有必要，其代价太高。\n",
    "\n",
    "* 对大的数据集来说，应尽可能地采用高效率的算法。\n",
    "\n",
    "本节中，我们将讨论几种排序算法，并比较它们的运行时间。"
   ]
  },
  {
   "cell_type": "markdown",
   "metadata": {
    "slideshow": {
     "slide_type": "slide"
    }
   },
   "source": [
    "在讲具体的算法之前，先考虑一下在算法过程中要用到的操作。\n",
    "\n",
    "1. 比较\n",
    "   \n",
    "   为了排序，需要一个系统化的方法比较元素的大小以判断他们是否在正确的位置上。总的比较次数是评估排序过程的通用方法。\n",
    "   \n",
    "2. 交换\n",
    "  \n",
    "   如果数值不在正确的位置上，交换次数也是评估算法效率的重要方法。"
   ]
  },
  {
   "cell_type": "markdown",
   "metadata": {
    "slideshow": {
     "slide_type": "slide"
    }
   },
   "source": [
    "# 冒泡排序（Bubble Sort）"
   ]
  },
  {
   "cell_type": "markdown",
   "metadata": {
    "slideshow": {
     "slide_type": "slide"
    }
   },
   "source": [
    "冒泡排序是一种最简单的排序算法。它重复地访问要排序的元素，依次比较相邻两个元素，如果它们的顺序错误就进行调换，直到没有元素再需要交换，排序完成。\n",
    "\n",
    "\n",
    "因为越小(或越大)的元素会经由交换慢慢“浮”到数列的顶端，这就是“冒泡”的由来。\n"
   ]
  },
  {
   "cell_type": "markdown",
   "metadata": {
    "slideshow": {
     "slide_type": "slide"
    }
   },
   "source": [
    "<table><tr>\n",
    "<td><img src='images/bubblepass.png' border=0 width=400></td>\n",
    "<td>冒泡排序的第一次遍历</td>\n",
    "</tr></table>\n",
    "\n",
    " "
   ]
  },
  {
   "cell_type": "markdown",
   "metadata": {
    "slideshow": {
     "slide_type": "fragment"
    }
   },
   "source": [
    "若列表中有 $n$ 个元素，则第一次遍历时需要进行 $n-1$ 次比较。 "
   ]
  },
  {
   "cell_type": "markdown",
   "metadata": {
    "slideshow": {
     "slide_type": "slide"
    }
   },
   "source": [
    "第二次遍历开始时，因最大元素已经就位，只需对剩余的 $n-1$ 个元进行要排序，这需要 $n-2$ 次比较。"
   ]
  },
  {
   "cell_type": "markdown",
   "metadata": {
    "slideshow": {
     "slide_type": "fragment"
    }
   },
   "source": [
    "经过 $n-1$ 次遍历后，最小元素也一定就位，不再需要交换。"
   ]
  },
  {
   "cell_type": "markdown",
   "metadata": {
    "slideshow": {
     "slide_type": "slide"
    }
   },
   "source": [
    "交换两个元素时，需要一个临时变量："
   ]
  },
  {
   "cell_type": "code",
   "execution_count": null,
   "metadata": {
    "collapsed": true,
    "slideshow": {
     "slide_type": "fragment"
    }
   },
   "outputs": [],
   "source": [
    "temp = alist[i]\n",
    "alist[i] = alist[j]\n",
    "alist[j] = temp"
   ]
  },
  {
   "cell_type": "markdown",
   "metadata": {
    "slideshow": {
     "slide_type": "fragment"
    }
   },
   "source": [
    "如果不用临时变量，其中一个值会被覆盖。"
   ]
  },
  {
   "cell_type": "markdown",
   "metadata": {
    "slideshow": {
     "slide_type": "slide"
    }
   },
   "source": [
    "在 python 中，允许进行同时赋值，即\n",
    "    \n",
    "        a, b = b, a\n"
   ]
  },
  {
   "cell_type": "markdown",
   "metadata": {
    "slideshow": {
     "slide_type": "fragment"
    }
   },
   "source": [
    "<img src='images/swap.png'> <img>"
   ]
  },
  {
   "cell_type": "code",
   "execution_count": 4,
   "metadata": {
    "slideshow": {
     "slide_type": "slide"
    }
   },
   "outputs": [
    {
     "name": "stdout",
     "output_type": "stream",
     "text": [
      "[17, 20, 26, 31, 44, 54, 55, 77, 93]\n"
     ]
    }
   ],
   "source": [
    "def bubbleSort(alist):  \n",
    "   for passnum in range(len(alist)-1,0,-1):  \n",
    "       for i in range(passnum):  \n",
    "           if alist[i] > alist[i+1]:  \n",
    "                temp = alist[i]  \n",
    "                alist[i] = alist[i+1]  \n",
    "                alist[i+1] = temp  \n",
    "   \n",
    "alist = [54,26,93,17,77,31,44,55,20]  \n",
    "bubbleSort(alist)  \n",
    "print(alist)  "
   ]
  },
  {
   "cell_type": "markdown",
   "metadata": {
    "slideshow": {
     "slide_type": "slide"
    }
   },
   "source": [
    "## 冒泡排序算法的分析\n",
    "\n",
    "无论原列表的元素如何排列，冒泡算法都必须进行 $n-1$ 次遍历。\n",
    "\n",
    "\n",
    "\n",
    "| Pass        | Comparisons |\n",
    "| ------------- |:-------------:|  \n",
    "|1 |   n-1 |\n",
    "|2 |   n-2  |\n",
    "|3 |   n-3  |\n",
    "|... |   ...  |\n",
    "|n-1 |   1  |\n",
    " \n",
    "总的比较次数是\n",
    "$$\n",
    "1+2+\\cdots+(n-1) = \\frac{n(n-1)}2 = O(n^2).\n",
    "$$ \n",
    "\n"
   ]
  },
  {
   "cell_type": "markdown",
   "metadata": {
    "slideshow": {
     "slide_type": "fragment"
    }
   },
   "source": [
    "关于交换：\n",
    "\n",
    "* 最好情况：若列表有序，不要做任何交换。\n",
    "\n",
    "* 最坏情况：每次比较都引起了一次交换；\n",
    "\n",
    "* 平均情况：有一半的交换。 "
   ]
  },
  {
   "cell_type": "markdown",
   "metadata": {
    "slideshow": {
     "slide_type": "slide"
    }
   },
   "source": [
    "冒泡排序是最简单的、但同时也是效率最差的排序算法，\n",
    "因为它在元素最终确定位置之前需要反复交换，这非常浪费资源。"
   ]
  },
  {
   "cell_type": "markdown",
   "metadata": {
    "slideshow": {
     "slide_type": "fragment"
    }
   },
   "source": [
    "但冒泡排序也能做到一些其他排序算法做不到的事情。\n",
    "\n",
    "如果在做某一次遍历时没有发生任何交换，则可马上确定此时的列表有序，从而冒泡排序可以提前停止。 利用了该特点的冒泡算法通常称为**”短冒泡算法“**。"
   ]
  },
  {
   "cell_type": "code",
   "execution_count": 5,
   "metadata": {
    "slideshow": {
     "slide_type": "slide"
    }
   },
   "outputs": [
    {
     "name": "stdout",
     "output_type": "stream",
     "text": [
      "[20, 30, 40, 50, 60, 70, 80, 90, 100, 110]\n"
     ]
    }
   ],
   "source": [
    "def shortBubbleSort(alist):  \n",
    "   exchanges = True  \n",
    "   passnum = len(alist)-1  \n",
    "   while passnum > 0 and exchanges:  \n",
    "      exchanges = False  \n",
    "      for i in range(passnum):  \n",
    "          if alist[i]>alist[i+1]:  \n",
    "               exchanges = True  \n",
    "               temp = alist[i]  \n",
    "               alist[i] = alist[i+1]  \n",
    "               alist[i+1] = temp  \n",
    "      passnum = passnum-1  \n",
    "   \n",
    "alist=[20,30,40,90,50,60,70,80,100,110]  \n",
    "shortBubbleSort(alist)  \n",
    "print(alist)  "
   ]
  },
  {
   "cell_type": "markdown",
   "metadata": {
    "slideshow": {
     "slide_type": "slide"
    }
   },
   "source": [
    "# 选择排序（Selection Sort）"
   ]
  },
  {
   "cell_type": "markdown",
   "metadata": {
    "slideshow": {
     "slide_type": "slide"
    }
   },
   "source": [
    "选择排序是冒泡排序的改进。\n",
    "\n",
    "* 第一次遍历时，找到其中最大的元素，将其与最后一个元素交换位置。\n",
    "\n",
    "* 第二次遍历时，因最后一个元素最大，只对前$n-1$个元素重复上述操作。\n",
    "\n",
    "* 第三次遍历时，因最后两个元素的位置已经确定，只对前$n-2$个元素重复上述操作。\n",
    "\n",
    "* ...\n",
    "\n",
    "* 至第$n-1$次遍历完成后，排序完成。\n",
    "\n",
    "**注意**\n",
    "\n",
    "与冒泡算法不同，选择排序每遍历一次只进行一次交换。"
   ]
  },
  {
   "cell_type": "markdown",
   "metadata": {
    "slideshow": {
     "slide_type": "slide"
    }
   },
   "source": [
    "<table><tr>\n",
    "<td><img src='images/selectionsortnew.png' border=0 width=500></td>\n",
    "<td>完整的选择排序过程</td>\n",
    "</tr></table>\n"
   ]
  },
  {
   "cell_type": "code",
   "execution_count": 52,
   "metadata": {
    "slideshow": {
     "slide_type": "slide"
    }
   },
   "outputs": [
    {
     "name": "stdout",
     "output_type": "stream",
     "text": [
      "[17, 20, 26, 31, 44, 54, 55, 77, 93]\n"
     ]
    }
   ],
   "source": [
    "def selectionSort(alist):\n",
    "   for fillslot in range(len(alist)-1, 0, -1):\n",
    "       positionOfMax = 0\n",
    "       for location in range(1, fillslot+1):\n",
    "           if alist[location] > alist[positionOfMax]:\n",
    "               positionOfMax = location\n",
    "\n",
    "       temp = alist[fillslot]\n",
    "       alist[fillslot] = alist[positionOfMax]\n",
    "       alist[positionOfMax] = temp\n",
    "\n",
    "alist = [54, 26, 93, 17, 77, 31, 44, 55, 20]\n",
    "selectionSort(alist)\n",
    "print(alist)"
   ]
  },
  {
   "cell_type": "markdown",
   "metadata": {
    "slideshow": {
     "slide_type": "slide"
    }
   },
   "source": [
    "### 选择排序算法的分析\n",
    "\n",
    "* 比较次数\n",
    "  \n",
    "  和冒泡排序一样多，依然是 $O(n^2)$。\n",
    "  \n",
    "  \n",
    "\n",
    "* 交换次数\n",
    "\n",
    "  比冒泡排序要少，所以选择排序一般运行得比冒泡要快。"
   ]
  },
  {
   "cell_type": "markdown",
   "metadata": {
    "slideshow": {
     "slide_type": "slide"
    }
   },
   "source": [
    "# 插入排序 （Insertion Sort）"
   ]
  },
  {
   "cell_type": "markdown",
   "metadata": {
    "slideshow": {
     "slide_type": "slide"
    }
   },
   "source": [
    "插入排序的工作模式与冒泡、选择排序稍有不同。\n",
    "\n",
    "\n",
    "它总在列表左端保持一个有序的子列表，后面的元素被逐个“插入”到前面的有序子表中。\n",
    "\n",
    "这样，有序的子表会逐渐变大，直到跟原列表一样长，排序结束。"
   ]
  },
  {
   "cell_type": "markdown",
   "metadata": {
    "slideshow": {
     "slide_type": "slide"
    }
   },
   "source": [
    "<table><tr>\n",
    "<td><img src='images/insertionsort.png' border=0 width=500></td>\n",
    "<td>\n",
    "完整的插入排序过程 \n",
    "</td>\n",
    "</tr></table>\n"
   ]
  },
  {
   "cell_type": "markdown",
   "metadata": {
    "slideshow": {
     "slide_type": "slide"
    }
   },
   "source": [
    "开始时，只有包含一个元素（在 $0$ 位上）的列表，并且它是有序的。\n",
    "\n",
    "在进行第 $i$ 次遍历时，将位于第 $i$ 位的元素（**”当前元素“**）与有序子表进行比较（从右至左）。\n",
    "\n",
    "* 若子表中的元素比当前元素大，往前移动；\n",
    "\n",
    "* 当遇到一个比它小的元素、或到达子表的最左端时，当前元素就插在这个位置上。"
   ]
  },
  {
   "cell_type": "markdown",
   "metadata": {
    "slideshow": {
     "slide_type": "skip"
    }
   },
   "source": [
    "这时已经生成一个有序的子表，包含17，26，54，77和93五个元素。下面要把31插入到这个子表中。先与93比较，93向右移动一个位置，然后是77和54也移动了，当遇到26时，停止移动，31放在空白位置上，这时就有序子表有6个元素了。"
   ]
  },
  {
   "cell_type": "markdown",
   "metadata": {
    "slideshow": {
     "slide_type": "slide"
    }
   },
   "source": [
    "<table><tr>\n",
    "<td><img src='images/insertionpass.png' border=0 width=500></td>\n",
    "<td>\n",
    "第5次遍历 \n",
    "</td>\n",
    "</tr></table>\n"
   ]
  },
  {
   "cell_type": "code",
   "execution_count": 56,
   "metadata": {
    "slideshow": {
     "slide_type": "slide"
    }
   },
   "outputs": [
    {
     "name": "stdout",
     "output_type": "stream",
     "text": [
      "[17, 20, 26, 31, 44, 54, 55, 77, 93]\n"
     ]
    }
   ],
   "source": [
    "def insertionSort(alist):\n",
    "   for index in range(1, len(alist)):\n",
    "     currentvalue = alist[index]\n",
    "     position = index\n",
    "     while position > 0 and alist[position-1] > currentvalue:\n",
    "         alist[position] = alist[position-1]\n",
    "         position = position-1\n",
    "     alist[position] = currentvalue\n",
    "\n",
    "alist = [54,26,93,17,77,31,44,55,20]\n",
    "insertionSort(alist)\n",
    "print(alist)"
   ]
  },
  {
   "cell_type": "markdown",
   "metadata": {
    "slideshow": {
     "slide_type": "slide"
    }
   },
   "source": [
    "### 插入排序算法的分析\n",
    "\n",
    "* 比较次数\n",
    "  \n",
    "  * 最坏情况为$1+2+\\cdots+(n-1)=\\frac{n(n-1)}2=O(n^2)$次。\n",
    "  * 最好情况，即有序列表的情形，只需一次遍历。\n",
    "\n",
    "* 关于交换\n",
    "   \n",
    "  不涉及交换，但需要移动元素的位置。 一般情况下，移动操作大概需要交换操作三分之一资源，因为移动只需要一次赋值操作。在性能测试中，插入排序显示了很好的性能。"
   ]
  },
  {
   "cell_type": "markdown",
   "metadata": {
    "slideshow": {
     "slide_type": "slide"
    }
   },
   "source": [
    "# 希尔排序（Shell Sort） "
   ]
  },
  {
   "cell_type": "markdown",
   "metadata": {
    "slideshow": {
     "slide_type": "slide"
    }
   },
   "source": [
    "希尔排序的实质就是分组插入排序，也称”缩小增量排序“，因D.L. Shell于1959年提出而得名。\n",
    "\n",
    "其思想是将列表拆分称若干个较小的子表，然后对每个子表使用插入排序。"
   ]
  },
  {
   "cell_type": "markdown",
   "metadata": {
    "slideshow": {
     "slide_type": "slide"
    }
   },
   "source": [
    "**第一步**\n",
    "\n",
    "希尔排序的关键是选出子表，它需要用到一个增量值 $i$（也称“间隙”），然后每隔一个间隙选中一个元素来组成子表。"
   ]
  },
  {
   "cell_type": "markdown",
   "metadata": {
    "slideshow": {
     "slide_type": "fragment"
    }
   },
   "source": [
    "<table><tr>\n",
    "<td><img src='images/shellsortA.png' border=0 width=500></td>\n",
    "<td align=\"center\">\n",
    "<b>选出子表</b> <br>\n",
    "间隙为3，得到3个子表\n",
    "</td>\n",
    "</tr></table>"
   ]
  },
  {
   "cell_type": "markdown",
   "metadata": {
    "slideshow": {
     "slide_type": "fragment"
    }
   },
   "source": [
    "<table><tr>\n",
    "<td><img src='images/shellsortB.png' border=0 width=500></td>\n",
    "<td align=\"center\">\n",
    "<b>对子表进行插入排序</b> <br>\n",
    "注意该表没有完全排序，但已经非常接近。\n",
    "</td>\n",
    "</tr></table>"
   ]
  },
  {
   "cell_type": "markdown",
   "metadata": {
    "slideshow": {
     "slide_type": "slide"
    }
   },
   "source": [
    "**第二步**\n",
    "\n",
    "对所得的列表进行标准的插入排序，此时需要的移动操作要少很多。 "
   ]
  },
  {
   "cell_type": "markdown",
   "metadata": {
    "slideshow": {
     "slide_type": "fragment"
    }
   },
   "source": [
    "<table><tr>\n",
    "<td><img src='images/shellsortC.png' border=0 width=500></td>\n",
    "<td align=\"center\">\n",
    "<b>标准插入排序</b> <br>\n",
    "\n",
    "该例只需要移动4次便可完成排序。\n",
    "</td>\n",
    "</tr></table>"
   ]
  },
  {
   "cell_type": "markdown",
   "metadata": {
    "slideshow": {
     "slide_type": "slide"
    }
   },
   "source": [
    "希尔排序的独特性就是**间隙的选取**。\n",
    "\n",
    "\n",
    "以下函数使用了一个不同增量的集合，从 n/2 个子表开始，下一步就是 n/4 个子表要排序，最终是 1 个子表进行插入排序。\n",
    "\n",
    "下图是这种增量的第一批4个子表。"
   ]
  },
  {
   "cell_type": "markdown",
   "metadata": {
    "slideshow": {
     "slide_type": "fragment"
    }
   },
   "source": [
    "<table><tr>\n",
    "<td><img src='images/shellsortD.png' border=0 width=500></td>\n",
    "<td align=\"center\">\n",
    "<b></b> <br>\n",
    "</td>\n",
    "</tr></table>"
   ]
  },
  {
   "cell_type": "code",
   "execution_count": 27,
   "metadata": {
    "collapsed": true,
    "slideshow": {
     "slide_type": "slide"
    }
   },
   "outputs": [],
   "source": [
    "def shellSort(alist):\n",
    "    sublistcount = len(alist) // 2\n",
    "    while sublistcount > 0:\n",
    "        for startposition in range(sublistcount):\n",
    "            gapInsertionSort(alist, startposition, sublistcount)\n",
    "        print(\"After increments of size\", sublistcount,\n",
    "              \"The list is\", alist)\n",
    "        sublistcount = sublistcount // 2"
   ]
  },
  {
   "cell_type": "code",
   "execution_count": 28,
   "metadata": {
    "collapsed": true,
    "slideshow": {
     "slide_type": "subslide"
    }
   },
   "outputs": [],
   "source": [
    "def gapInsertionSort(alist, start, gap):\n",
    "    for i in range(start+gap, len(alist), gap):\n",
    "        currentvalue = alist[i]\n",
    "        position = i\n",
    "        while position >= gap and alist[position-gap] > currentvalue:\n",
    "            alist[position] = alist[position-gap]\n",
    "            position = position-gap\n",
    "        alist[position] = currentvalue"
   ]
  },
  {
   "cell_type": "code",
   "execution_count": 29,
   "metadata": {
    "slideshow": {
     "slide_type": "subslide"
    }
   },
   "outputs": [
    {
     "name": "stdout",
     "output_type": "stream",
     "text": [
      "After increments of size 4 The list is [20, 26, 44, 17, 54, 31, 93, 55, 77]\n",
      "After increments of size 2 The list is [20, 17, 44, 26, 54, 31, 77, 55, 93]\n",
      "After increments of size 1 The list is [17, 20, 26, 31, 44, 54, 55, 77, 93]\n",
      "[17, 20, 26, 31, 44, 54, 55, 77, 93]\n"
     ]
    }
   ],
   "source": [
    "alist = [54, 26, 93, 17, 77, 31, 44, 55, 20]\n",
    "shellSort(alist)\n",
    "print(alist)"
   ]
  },
  {
   "cell_type": "markdown",
   "metadata": {
    "slideshow": {
     "slide_type": "slide"
    }
   },
   "source": [
    "乍一看，希尔排序不见得比插入排序更好，因为最后一步就完全是一个插入排序。\n",
    "\n",
    "但是，最后一步的插入排序，不需要很多次的比较和移动，因为通过前面的增量插入排序，列表已经做了“预排序”。\n",
    "\n",
    "也就是说，这个列表已经比普通列表“更有序”，所以在效率上有很大的不同。\n",
    "\n"
   ]
  },
  {
   "cell_type": "markdown",
   "metadata": {
    "slideshow": {
     "slide_type": "fragment"
    }
   },
   "source": [
    "希尔排序的时间复杂度介于$O(n)$与$O(n^2)$之间。"
   ]
  },
  {
   "cell_type": "markdown",
   "metadata": {
    "slideshow": {
     "slide_type": "skip"
    }
   },
   "source": [
    "对listing5中的增量，性能是O(n2)，变更增量，例如使用 2k−1 (1, 3, 7,15, 31, 等)，性能可达到O(n3/2)."
   ]
  },
  {
   "cell_type": "markdown",
   "metadata": {
    "slideshow": {
     "slide_type": "slide"
    }
   },
   "source": [
    "# 归并排序（Merge Sort）"
   ]
  },
  {
   "cell_type": "markdown",
   "metadata": {
    "slideshow": {
     "slide_type": "slide"
    }
   },
   "source": [
    "归并排序是建立在归并操作上的一种有效的排序算法，该算法是采用分治法（Divide and Conquer）的一个非常典型的应用。"
   ]
  },
  {
   "cell_type": "markdown",
   "metadata": {},
   "source": [
    "将已有序的子列表合并，得到完全有序的列表。亦即，先使每个子列表有序，再使子列表段间有序。\n",
    "\n",
    "\n",
    "将两个有序表合并成一个有序表，称为二路归并。"
   ]
  },
  {
   "cell_type": "markdown",
   "metadata": {
    "slideshow": {
     "slide_type": "slide"
    }
   },
   "source": [
    "<table><tr>\n",
    "<td><img src='images/mergesortA.png' border=0 width=400></td>\n",
    "<td>切分过程</td>\n",
    "</tr></table>"
   ]
  },
  {
   "cell_type": "markdown",
   "metadata": {
    "slideshow": {
     "slide_type": "slide"
    }
   },
   "source": [
    "<table><tr>\n",
    "<td><img src='images/mergesortB.png' border=0 width=400></td>\n",
    "<td>归并过程</td>\n",
    "</tr></table>"
   ]
  },
  {
   "cell_type": "markdown",
   "metadata": {
    "slideshow": {
     "slide_type": "skip"
    }
   },
   "source": [
    "<table><tr>\n",
    "<td><img src='images/mergesortB1.png' border=0 width=200></td>\n",
    "<td>归并过程</td>\n",
    "</tr></table>"
   ]
  },
  {
   "cell_type": "code",
   "execution_count": 4,
   "metadata": {
    "collapsed": true,
    "slideshow": {
     "slide_type": "slide"
    }
   },
   "outputs": [],
   "source": [
    "def mergeSort(alist):  \n",
    "    print(\"Splitting \",alist)  \n",
    "    if len(alist) > 1:  \n",
    "        mid = len(alist) // 2  \n",
    "        lefthalf = alist[:mid]  \n",
    "        righthalf = alist[mid:]  \n",
    "  \n",
    "        mergeSort(lefthalf)  \n",
    "        mergeSort(righthalf)  "
   ]
  },
  {
   "cell_type": "code",
   "execution_count": null,
   "metadata": {
    "collapsed": true,
    "slideshow": {
     "slide_type": "subslide"
    }
   },
   "outputs": [],
   "source": [
    "        i = 0  \n",
    "        j = 0  \n",
    "        k = 0  \n",
    "        while i < len(lefthalf) and j < len(righthalf):  \n",
    "            if lefthalf[i] < righthalf[j]:  \n",
    "                alist[k] = lefthalf[i]  \n",
    "                i = i+1  \n",
    "            else:  \n",
    "                alist[k] = righthalf[j]  \n",
    "                j = j+1  \n",
    "            k = k+1  "
   ]
  },
  {
   "cell_type": "code",
   "execution_count": null,
   "metadata": {
    "collapsed": true,
    "slideshow": {
     "slide_type": "subslide"
    }
   },
   "outputs": [],
   "source": [
    "        while i < len(lefthalf):  \n",
    "            alist[k] = lefthalf[i]  \n",
    "            i = i+1  \n",
    "            k = k+1  \n",
    "  \n",
    "        while j < len(righthalf):  \n",
    "            alist[k] = righthalf[j]  \n",
    "            j = j+1  \n",
    "            k = k+1  \n",
    "            \n",
    "    print(\"Merging \",alist)    "
   ]
  },
  {
   "cell_type": "code",
   "execution_count": 32,
   "metadata": {
    "collapsed": true,
    "slideshow": {
     "slide_type": "skip"
    }
   },
   "outputs": [],
   "source": [
    "def mergeSort(alist):  \n",
    "    print(\"Splitting \",alist)  \n",
    "    if len(alist) > 1:  \n",
    "        mid = len(alist) // 2  \n",
    "        lefthalf = alist[:mid]  \n",
    "        righthalf = alist[mid:]  \n",
    "  \n",
    "        mergeSort(lefthalf)  \n",
    "        mergeSort(righthalf)  \n",
    "  \n",
    "        i = 0 \n",
    "        j = 0 \n",
    "        k = 0  \n",
    "        while i < len(lefthalf) and j < len(righthalf):  \n",
    "            if lefthalf[i] < righthalf[j]:  \n",
    "                alist[k] = lefthalf[i]  \n",
    "                i = i+1  \n",
    "            else:  \n",
    "                alist[k] = righthalf[j]  \n",
    "                j = j+1  \n",
    "            k = k+1  \n",
    "  \n",
    "        while i < len(lefthalf):  \n",
    "            alist[k] = lefthalf[i]  \n",
    "            i = i+1  \n",
    "            k = k+1  \n",
    "  \n",
    "        while j < len(righthalf):  \n",
    "            alist[k] = righthalf[j]  \n",
    "            j = j+1 \n",
    "            k = k+1\n",
    "    print(\"Merging \",alist) "
   ]
  },
  {
   "cell_type": "code",
   "execution_count": null,
   "metadata": {
    "collapsed": true,
    "slideshow": {
     "slide_type": "subslide"
    }
   },
   "outputs": [],
   "source": [
    "alist = [54,26,93,17,77,31,44,55,20]  \n",
    "mergeSort(alist)  \n",
    "print(alist) "
   ]
  },
  {
   "cell_type": "markdown",
   "metadata": {
    "slideshow": {
     "slide_type": "slide"
    }
   },
   "source": [
    "## 归并排序的性能分析\n",
    "\n",
    "考虑其中的两个过程。\n",
    "\n",
    "* 切分过程\n",
    "\n",
    "    对于长为$n$的列表，需要$\\log n$的时间来切分。\n",
    "    \n",
    "    \n",
    "\n",
    "* 归并过程\n",
    "\n",
    "    列表中每个元素都要被处理并放在有序表中，所有归并操作$n$个元素的列表，需要$n$步操作。\n",
    "    \n",
    "因此，总共需要$\\log n$次切分，每次切分包括$n$次归并，总的时间复杂度为$O(n\\log n)$。\n"
   ]
  },
  {
   "cell_type": "markdown",
   "metadata": {
    "slideshow": {
     "slide_type": "skip"
    }
   },
   "source": [
    "回想列表切片的操作，如果切片大小是k，那么这个操作的性能是O(k)，为了保证mergeSoft的性能是O(nlogn) ，我们需要清除切片操作。这样，我们需要简单地将开始和结束的索引值连同列表一起传递给递归过程。这个修改留作练习。\n",
    "要注意的是，mergeSort函数需要额外的内存来保存切出的两个子表，当数据集很大时，问题会变得很严重。"
   ]
  },
  {
   "cell_type": "markdown",
   "metadata": {
    "slideshow": {
     "slide_type": "slide"
    }
   },
   "source": [
    "# 快速排序 （Quick Sort）"
   ]
  },
  {
   "cell_type": "markdown",
   "metadata": {
    "slideshow": {
     "slide_type": "slide"
    }
   },
   "source": [
    "快速排序也使用了分而治之的策略来提高性能，而且不需要额外的内存，但是这么做的代价就是，列表不是对半切分的，因而，性能上就有所下降。\n",
    "\n",
    " "
   ]
  },
  {
   "cell_type": "markdown",
   "metadata": {
    "slideshow": {
     "slide_type": "slide"
    }
   },
   "source": [
    "假设我们现在对 <code>6  1  2  7  9  3  4  5  10  8 <code> 这个10个数进行排序。\n",
    "1. 首先在这个序列中随便找一个数作为基准数。为了方便，就选第一个数 6 作为基准数。\n",
    "2. 接下来，需要将这个序列中所有比基准数大的数放在<code> 6 <code>的右边，比基准数小的数放在<code> 6 <code>的左边，类似下面这种排列：\n",
    "<code>3  1  2  5  4  6  9  7  10  8<code>"
   ]
  },
  {
   "cell_type": "markdown",
   "metadata": {
    "slideshow": {
     "slide_type": "slide"
    }
   },
   "source": [
    "初始状态下，数字<code> 6 <code>在序列的第<code> 0 <code>位。\n",
    "\n",
    "我们的目标是将<code> 6 <code>挪到序列中间的某个位置，假设这个位置是<code> k <code>。\n",
    "\n",
    "现在就需要寻找这个<code> k <code>，并且以第<code> k <code>位为分界点，左边的数都小于等于<code> 6 <code>，右边的数都大于等于<code> 6 <code>。"
   ]
  },
  {
   "cell_type": "markdown",
   "metadata": {
    "slideshow": {
     "slide_type": "slide"
    }
   },
   "source": [
    "<table><tr>\n",
    "<td><img src='images/quicksort1.jpg' border=0 width=400></td>\n",
    "<td></td>\n",
    "</tr></table>"
   ]
  },
  {
   "cell_type": "markdown",
   "metadata": {
    "slideshow": {
     "slide_type": "slide"
    }
   },
   "source": [
    "<table><tr>\n",
    "<td><img src='images/quicksort2.jpg' border=0 width=400></td>\n",
    "<td></td>\n",
    "</tr></table>\n",
    "\n",
    "<table><tr>\n",
    "<td><img src='images/quicksort3.jpg' border=0 width=400></td>\n",
    "<td></td>\n",
    "</tr></table>"
   ]
  },
  {
   "cell_type": "markdown",
   "metadata": {
    "slideshow": {
     "slide_type": "slide"
    }
   },
   "source": [
    "<table><tr>\n",
    "<td><img src='images/quicksort4.jpg' border=0 width=400></td>\n",
    "<td></td>\n",
    "</tr></table>\n",
    "\n",
    "<table><tr>\n",
    "<td><img src='images/quicksort5.jpg' border=0 width=400></td>\n",
    "<td></td>\n",
    "</tr></table>"
   ]
  },
  {
   "cell_type": "markdown",
   "metadata": {
    "slideshow": {
     "slide_type": "slide"
    }
   },
   "source": [
    "<table><tr>\n",
    "<td><img src='images/quicksort6.jpg' border=0 width=400></td>\n",
    "<td></td>\n",
    "</tr></table>\n",
    "\n",
    "<table><tr>\n",
    "<td><img src='images/quicksort7.jpg' border=0 width=400></td>\n",
    "<td></td>\n",
    "</tr></table>\n",
    "\n",
    "<table><tr>\n",
    "<td><img src='images/quicksort8.jpg' border=0 width=400></td>\n",
    "<td></td>\n",
    "</tr></table>"
   ]
  },
  {
   "cell_type": "markdown",
   "metadata": {
    "slideshow": {
     "slide_type": "slide"
    }
   },
   "source": [
    "<table><tr>\n",
    "<td><img src='images/quicksort9.jpg' border=0 width=500></td>\n",
    "<td></td>\n",
    "</tr></table>"
   ]
  },
  {
   "cell_type": "code",
   "execution_count": null,
   "metadata": {
    "collapsed": true,
    "slideshow": {
     "slide_type": "slide"
    }
   },
   "outputs": [],
   "source": [
    "def partition(alist, first, last):  \n",
    "    pivotvalue = alist[first]\n",
    "    leftmark = first+1  \n",
    "    rightmark = last  \n",
    "  \n",
    "    done = False  \n",
    "    while not done:    \n",
    "        while leftmark <= rightmark and \\\n",
    "        alist[leftmark] <= pivotvalue:\n",
    "            leftmark = leftmark + 1\n",
    "        \n",
    "        while alist[rightmark] >= pivotvalue and \\\n",
    "        rightmark >= leftmark:\n",
    "            rightmark = rightmark -1  \n"
   ]
  },
  {
   "cell_type": "code",
   "execution_count": null,
   "metadata": {
    "collapsed": true,
    "slideshow": {
     "slide_type": "slide"
    }
   },
   "outputs": [],
   "source": [
    "        if rightmark < leftmark:  \n",
    "            done = True  \n",
    "        else:  \n",
    "            temp = alist[leftmark]  \n",
    "            alist[leftmark] = alist[rightmark]  \n",
    "            alist[rightmark] = temp  \n",
    "  \n",
    "    temp = alist[first]  \n",
    "    alist[first] = alist[rightmark]  \n",
    "    alist[rightmark] = temp  \n",
    "    print(alist)\n",
    "    return rightmark "
   ]
  },
  {
   "cell_type": "code",
   "execution_count": null,
   "metadata": {
    "collapsed": true,
    "scrolled": true,
    "slideshow": {
     "slide_type": "slide"
    }
   },
   "outputs": [],
   "source": [
    "def quickSort(alist):  \n",
    "    quickSortHelper(alist, 0, len(alist)-1)  \n",
    "\n",
    "def quickSortHelper(alist, first, last):  \n",
    "    if first < last:  \n",
    "        splitpoint = partition(alist, first, last)  \n",
    "        quickSortHelper(alist, first, splitpoint-1)  \n",
    "        quickSortHelper(alist, splitpoint+1, last)  \n",
    "     \n",
    "alist = [54, 26, 93, 17, 77, 31, 44, 55, 20]  \n",
    "quickSort(alist)  \n",
    "print(\"Finally\", alist)  "
   ]
  },
  {
   "cell_type": "markdown",
   "metadata": {
    "slideshow": {
     "slide_type": "slide"
    }
   },
   "source": [
    "## 快速排序的性能分析"
   ]
  },
  {
   "cell_type": "markdown",
   "metadata": {
    "slideshow": {
     "slide_type": "fragment"
    }
   },
   "source": [
    "注意到一个长度为n的列表，若分界点总在列表的中间，则要做$\\log n$次切分。\n",
    "为了找到分界点，$n$个元素都要与关键值作一次比较，故总的时间复杂度为$n\\log n$。\n"
   ]
  },
  {
   "cell_type": "markdown",
   "metadata": {
    "slideshow": {
     "slide_type": "slide"
    }
   },
   "source": [
    "另外，与归并排序不同，快速排序不需要消耗额外的内存。\n",
    "\n",
    "遗憾的是，分界点一般不在列表的中间，而是偏左或者偏右，从而生成很不均匀的子表。\n",
    "\n",
    "最坏的情况是，生成的两个子表中，其中一个为空表，另一个包含$n-1$个元素；继续切分，又生成两个子表，其中一个仍为空表，另一个包含$n-2$个元素，等等。此时的时间复杂度就是$O(n^2)$。\n"
   ]
  }
 ],
 "metadata": {
  "celltoolbar": "Slideshow",
  "kernelspec": {
   "display_name": "Python 3",
   "language": "python",
   "name": "python3"
  },
  "language_info": {
   "codemirror_mode": {
    "name": "ipython",
    "version": 3
   },
   "file_extension": ".py",
   "mimetype": "text/x-python",
   "name": "python",
   "nbconvert_exporter": "python",
   "pygments_lexer": "ipython3",
   "version": "3.5.2"
  }
 },
 "nbformat": 4,
 "nbformat_minor": 2
}
