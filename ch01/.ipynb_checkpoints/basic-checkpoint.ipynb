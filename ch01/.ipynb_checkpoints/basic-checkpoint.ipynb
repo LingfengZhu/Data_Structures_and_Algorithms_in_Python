{
 "cells": [
  {
   "cell_type": "markdown",
   "metadata": {},
   "source": [
    "Python基础\n",
    "\n",
    "Python是一种计算机编程语言。计算机编程语言和我们日常使用的自然语言有所不同，最大的区别就是，自然语言在不同的语境下有不同的理解，而计算机要根据编程语言执行任务，就必须保证编程语言写出的程序决不能有歧义，所以，任何一种编程语言都有自己的一套语法，编译器或者解释器就是负责把符合语法的程序代码转换成CPU能够执行的机器码，然后执行。Python也不例外。\n",
    "\n",
    "Python的语法比较简单，采用缩进方式，写出来的代码就像下面的样子："
   ]
  },
  {
   "cell_type": "code",
   "execution_count": 1,
   "metadata": {},
   "outputs": [
    {
     "name": "stdout",
     "output_type": "stream",
     "text": [
      "100\n"
     ]
    }
   ],
   "source": [
    "# print absolute value of an integer:\n",
    "a = 100\n",
    "if a >= 0:\n",
    "    print(a)\n",
    "else:\n",
    "    print(-a)"
   ]
  },
  {
   "cell_type": "markdown",
   "metadata": {},
   "source": [
    "以#开头的语句是注释，注释是给人看的，可以是任意内容，解释器会忽略掉注释。其他每一行都是一个语句，当语句以冒号:结尾时，缩进的语句视为代码块。\n",
    "\n",
    "缩进有利有弊。好处是强迫你写出格式化的代码，但没有规定缩进是几个空格还是Tab。按照约定俗成的管理，应该始终坚持使用**4个空格的缩进**。\n",
    "\n",
    "缩进的另一个好处是强迫你写出缩进较少的代码，你会倾向于把一段很长的代码拆分成若干函数，从而得到缩进较少的代码。\n",
    "\n",
    "缩进的坏处就是“复制－粘贴”功能失效了，这是最坑爹的地方。当你重构代码时，粘贴过去的代码必须重新检查缩进是否正确。此外，IDE很难像格式化Java代码那样格式化Python代码。\n",
    "\n",
    "最后，请务必注意，Python程序是大小写敏感的，如果写错了大小写，程序会报错。"
   ]
  },
  {
   "cell_type": "markdown",
   "metadata": {},
   "source": [
    "# 小结\n",
    "\n",
    "Python使用缩进来组织代码块，请务必遵守约定俗成的习惯，坚持使用4个空格的缩进。\n",
    "\n",
    "在文本编辑器中，需要设置把Tab自动转换为4个空格，确保不混用Tab和空格。"
   ]
  },
  {
   "cell_type": "markdown",
   "metadata": {},
   "source": [
    "# 数据类型与变量"
   ]
  },
  {
   "cell_type": "markdown",
   "metadata": {},
   "source": [
    "## 数据类型\n",
    "\n",
    "计算机顾名思义就是可以做数学计算的机器，因此，计算机程序理所当然地可以处理各种数值。但是，计算机能处理的远不止数值，还可以处理文本、图形、音频、视频、网页等各种各样的数据，不同的数据，需要定义不同的数据类型。在Python中，能够直接处理的数据类型有以下几种：\n"
   ]
  },
  {
   "cell_type": "markdown",
   "metadata": {},
   "source": [
    "### 整数\n",
    "\n",
    "Python可以处理任意大小的整数，当然包括负整数，在程序中的表示方法和数学上的写法一模一样，例如：1，100，-8080，0，等等。\n",
    "\n",
    "计算机由于使用二进制，所以，有时候用十六进制表示整数比较方便，十六进制用0x前缀和0-9，a-f表示，例如：0xff00，0xa5b4c3d2，等等。\n"
   ]
  },
  {
   "cell_type": "markdown",
   "metadata": {},
   "source": [
    "### 浮点数\n",
    "\n",
    "浮点数也就是小数，之所以称为浮点数，是因为按照科学记数法表示时，一个浮点数的小数点位置是可变的，比如，1.23x109和12.3x108是完全相等的。浮点数可以用数学写法，如1.23，3.14，-9.01，等等。但是对于很大或很小的浮点数，就必须用科学计数法表示，把10用e替代，1.23x109就是1.23e9，或者12.3e8，0.000012可以写成1.2e-5，等等。\n",
    "\n",
    "整数和浮点数在计算机内部存储的方式是不同的，整数运算永远是精确的（除法难道也是精确的？是的！），而浮点数运算则可能会有四舍五入的误差。 "
   ]
  },
  {
   "cell_type": "markdown",
   "metadata": {},
   "source": [
    "### 字符串\n",
    "\n",
    "字符串是以单引号'或双引号\"括起来的任意文本，比如'abc'，\"xyz\"等等。请注意，单引号或双引号本身只是一种表示方式，不是字符串的一部分，因此，字符串'abc'只有a，b，c这3个字符。如果'本身也是一个字符，那就可以用双引号括起来，比如\"I'm OK\"包含的字符是I，'，m，空格，O，K这6个字符。\n",
    "\n",
    "如果字符串内部既包含'又包含\"怎么办？可以用转义字符\\来标识，比如：\n",
    "\n",
    "'I\\'m \\\"OK\\\"!'\n",
    "表示的字符串内容是：\n",
    "\n",
    "I'm \"OK\"!\n",
    "\n",
    "转义字符\\可以转义很多字符，比如\\n表示换行，\\t表示制表符，字符\\本身也要转义，所以\\\\\\\\表示的字符就是\\，以下代码用print()打印字符串看看："
   ]
  },
  {
   "cell_type": "code",
   "execution_count": 3,
   "metadata": {},
   "outputs": [
    {
     "name": "stdout",
     "output_type": "stream",
     "text": [
      "I'm ok.\n",
      "I'm learning\n",
      "Python.\n",
      "\\\n",
      "\\\n"
     ]
    }
   ],
   "source": [
    "print('I\\'m ok.')\n",
    "print('I\\'m learning\\nPython.')\n",
    "print('\\\\\\n\\\\')"
   ]
  },
  {
   "cell_type": "markdown",
   "metadata": {},
   "source": [
    "如果字符串里面有很多字符都需要转义，就需要加很多\\，为了简化，Python还允许用r''表示''内部的字符串默认不转义，可以自己试试：\n"
   ]
  },
  {
   "cell_type": "code",
   "execution_count": 4,
   "metadata": {},
   "outputs": [
    {
     "name": "stdout",
     "output_type": "stream",
     "text": [
      "\\\t\\\n",
      "\\\\\\t\\\\\n"
     ]
    }
   ],
   "source": [
    "print('\\\\\\t\\\\')\n",
    "print(r'\\\\\\t\\\\')"
   ]
  },
  {
   "cell_type": "markdown",
   "metadata": {},
   "source": [
    "如果字符串内部有很多换行，用\\n写在一行里不好阅读，为了简化，Python允许用'''...'''的格式表示多行内容。\n",
    "\n",
    "在交互式命令行中，输入多行内容时，提示符由>>>变为...，提示你可以接着上一行输入。"
   ]
  },
  {
   "cell_type": "code",
   "execution_count": 12,
   "metadata": {},
   "outputs": [
    {
     "name": "stdout",
     "output_type": "stream",
     "text": [
      "line1\n",
      "line2\n",
      "line3\n"
     ]
    }
   ],
   "source": [
    ">>> print('''line1\n",
    "... line2\n",
    "... line3''')"
   ]
  },
  {
   "cell_type": "markdown",
   "metadata": {},
   "source": [
    "如果写成程序，就是："
   ]
  },
  {
   "cell_type": "code",
   "execution_count": 13,
   "metadata": {},
   "outputs": [
    {
     "name": "stdout",
     "output_type": "stream",
     "text": [
      "line1\n",
      "line2\n",
      "line3\n"
     ]
    }
   ],
   "source": [
    "print('''line1\n",
    "line2\n",
    "line3''')"
   ]
  },
  {
   "cell_type": "markdown",
   "metadata": {},
   "source": [
    "多行字符串'''...'''还可以在前面加上r使用，请自行测试。\n"
   ]
  },
  {
   "cell_type": "code",
   "execution_count": 17,
   "metadata": {},
   "outputs": [
    {
     "name": "stdout",
     "output_type": "stream",
     "text": [
      "line1\n",
      "line2\n",
      "line3\n"
     ]
    }
   ],
   "source": [
    "print(r'''line1\n",
    "line2\n",
    "line3''')"
   ]
  },
  {
   "cell_type": "markdown",
   "metadata": {},
   "source": [
    "## 布尔值\n",
    "\n",
    "布尔值和布尔代数的表示完全一致，一个布尔值只有True、False两种值，要么是True，要么是False。在Python中，可以直接用True、False表示布尔值（请注意大小写），也可以通过布尔运算计算出来："
   ]
  },
  {
   "cell_type": "code",
   "execution_count": 19,
   "metadata": {},
   "outputs": [
    {
     "name": "stdout",
     "output_type": "stream",
     "text": [
      "True\n",
      "False\n",
      "True\n",
      "False\n"
     ]
    }
   ],
   "source": [
    "print True\n",
    "print False\n",
    "print 3 > 2\n",
    "print 3 > 5"
   ]
  },
  {
   "cell_type": "markdown",
   "metadata": {},
   "source": [
    "布尔值可以用and、or和not运算。"
   ]
  },
  {
   "cell_type": "markdown",
   "metadata": {},
   "source": [
    "and运算是与运算，只有所有都为True，and运算结果才是True：\n"
   ]
  },
  {
   "cell_type": "code",
   "execution_count": 23,
   "metadata": {},
   "outputs": [
    {
     "name": "stdout",
     "output_type": "stream",
     "text": [
      "True\n",
      "False\n",
      "False\n",
      "False\n"
     ]
    }
   ],
   "source": [
    "print True and True\n",
    "print True and False\n",
    "print False and True\n",
    "print False and False"
   ]
  },
  {
   "cell_type": "markdown",
   "metadata": {},
   "source": [
    "or运算是或运算，只要其中有一个为True，or运算结果就是True："
   ]
  },
  {
   "cell_type": "code",
   "execution_count": 24,
   "metadata": {},
   "outputs": [
    {
     "name": "stdout",
     "output_type": "stream",
     "text": [
      "True\n",
      "True\n",
      "True\n",
      "False\n"
     ]
    }
   ],
   "source": [
    "print True or True\n",
    "print True or False\n",
    "print False or True\n",
    "print False or False"
   ]
  },
  {
   "cell_type": "markdown",
   "metadata": {},
   "source": [
    "not运算是非运算，它是一个单目运算符，把True变成False，False变成True："
   ]
  },
  {
   "cell_type": "code",
   "execution_count": 25,
   "metadata": {},
   "outputs": [
    {
     "name": "stdout",
     "output_type": "stream",
     "text": [
      "False\n",
      "True\n",
      "True\n"
     ]
    }
   ],
   "source": [
    "print not True\n",
    "print not False\n",
    "print not 1 > 2"
   ]
  },
  {
   "cell_type": "markdown",
   "metadata": {},
   "source": [
    "布尔值经常用在条件判断中，比如："
   ]
  },
  {
   "cell_type": "code",
   "execution_count": 27,
   "metadata": {},
   "outputs": [
    {
     "name": "stdout",
     "output_type": "stream",
     "text": [
      "teenager\n"
     ]
    }
   ],
   "source": [
    "age = 12\n",
    "if age >= 18:\n",
    "    print('adult')\n",
    "else:\n",
    "    print('teenager')"
   ]
  },
  {
   "cell_type": "markdown",
   "metadata": {},
   "source": [
    "## 空值\n",
    "\n",
    "空值是Python里一个特殊的值，用None表示。None不能理解为0，因为0是有意义的，而None是一个特殊的空值。\n",
    "\n",
    "此外，Python还提供了列表、字典等多种数据类型，还允许创建自定义数据类型，我们后面会继续讲到。 "
   ]
  },
  {
   "cell_type": "markdown",
   "metadata": {},
   "source": [
    "##  变量\n",
    "\n",
    "变量的概念基本上和初中代数的方程变量是一致的，只是在计算机程序中，变量不仅可以是数字，还可以是任意数据类型。\n",
    "\n",
    "变量在程序中就是用一个变量名表示了，变量名必须是大小写英文、数字和_的组合，且不能用数字开头，比如："
   ]
  },
  {
   "cell_type": "code",
   "execution_count": 28,
   "metadata": {
    "collapsed": true
   },
   "outputs": [],
   "source": [
    "a = 1           # 变量 a 是一个整数。\n",
    "\n",
    "t_007 = 'T007'  # 变量 t_007 是一个字符串。\n",
    "\n",
    "Answer = True   # 变量 Answer 是一个布尔值 True。"
   ]
  },
  {
   "cell_type": "markdown",
   "metadata": {},
   "source": [
    "在Python中，等号 = 是赋值语句，可以把任意数据类型赋值给变量，同一个变量可以反复赋值，而且可以是不同类型的变量，例如："
   ]
  },
  {
   "cell_type": "code",
   "execution_count": 29,
   "metadata": {},
   "outputs": [
    {
     "name": "stdout",
     "output_type": "stream",
     "text": [
      "123\n",
      "ABC\n"
     ]
    }
   ],
   "source": [
    "a = 123 # a是整数\n",
    "print(a)\n",
    "a = 'ABC' # a变为字符串\n",
    "print(a)"
   ]
  },
  {
   "cell_type": "markdown",
   "metadata": {},
   "source": [
    "这种变量本身类型不固定的语言称之为动态语言，与之对应的是静态语言。静态语言在定义变量时必须指定变量类型，如果赋值的时候类型不匹配，就会报错。例如 C 是静态语言，赋值语句如下（// 表示注释）："
   ]
  },
  {
   "cell_type": "code",
   "execution_count": null,
   "metadata": {
    "collapsed": true
   },
   "outputs": [],
   "source": [
    "int a = 123; // a是整数类型变量\n",
    "a = \"ABC\";   // 错误：不能把字符串赋给整型变量"
   ]
  },
  {
   "cell_type": "markdown",
   "metadata": {},
   "source": [
    "和静态语言相比，动态语言更灵活，就是这个原因。"
   ]
  },
  {
   "cell_type": "markdown",
   "metadata": {},
   "source": [
    "请不要把赋值语句的等号等同于数学的等号。比如下面的代码：\n"
   ]
  },
  {
   "cell_type": "code",
   "execution_count": 31,
   "metadata": {
    "collapsed": true
   },
   "outputs": [],
   "source": [
    "x = 10\n",
    "x = x + 2"
   ]
  },
  {
   "cell_type": "markdown",
   "metadata": {},
   "source": [
    "如果从数学上理解 x = x + 2 那无论如何是不成立的。在程序中，赋值语句先计算右侧的表达式x + 2，得到结果12，再赋给变量x。由于x之前的值是10，重新赋值后，x的值变成12。\n",
    "\n",
    "最后，理解变量在计算机内存中的表示也非常重要。当我们写："
   ]
  },
  {
   "cell_type": "code",
   "execution_count": 32,
   "metadata": {
    "collapsed": true
   },
   "outputs": [],
   "source": [
    "a = 'ABC'"
   ]
  },
  {
   "cell_type": "markdown",
   "metadata": {},
   "source": [
    "时，Python解释器干了两件事情：\n",
    "\n",
    "* 在内存中创建了一个 'ABC' 的字符串；\n",
    "\n",
    "* 在内存中创建了一个名为 a 的变量，并把它指向 'ABC'。\n",
    "\n",
    "也可以把一个变量a赋值给另一个变量b，这个操作实际上是把变量b指向变量a所指向的数据，例如下面的代码：\n"
   ]
  },
  {
   "cell_type": "code",
   "execution_count": 33,
   "metadata": {},
   "outputs": [
    {
     "name": "stdout",
     "output_type": "stream",
     "text": [
      "ABC\n"
     ]
    }
   ],
   "source": [
    "a = 'ABC'\n",
    "b = a\n",
    "a = 'XYZ'\n",
    "print(b)"
   ]
  },
  {
   "cell_type": "markdown",
   "metadata": {},
   "source": [
    "最后一行打印出变量b的内容到底是 'ABC' 呢还是 'XYZ'？如果从数学意义上理解，就会错误地得出b和a相同，也应该是'XYZ'，但实际上b的值是'ABC'，让我们一行一行地执行代码，就可以看到到底发生了什么事："
   ]
  },
  {
   "cell_type": "markdown",
   "metadata": {},
   "source": [
    "* 执行 a = 'ABC'，解释器创建了字符串 'ABC' 和变量 a，并把 a 指向 'ABC'：\n",
    "\n",
    "<img src='images/var1.png'> <img>\n",
    "\n",
    "* 执行 b = a，解释器创建了变量 b，并把 b 指向 a 指向的字符串 'ABC'：\n",
    "\n",
    "<img src='images/var2.png'> <img>\n",
    "\n",
    "* 执行 a = 'XYZ'，解释器创建了字符串 'XYZ'，并把 a 的指向改为 'XYZ'，但 b 并没有更改：\n",
    "\n",
    "<img src='images/var3.png'> <img>\n",
    "\n",
    "所以，最后打印变量 b 的结果自然是 'ABC' 了。"
   ]
  },
  {
   "cell_type": "markdown",
   "metadata": {},
   "source": [
    "## 常量\n",
    "\n",
    "所谓常量就是不能变的变量，比如常用的数学常数$\\pi$就是一个常量。在Python中，通常用全部大写的变量名表示常量："
   ]
  },
  {
   "cell_type": "code",
   "execution_count": 34,
   "metadata": {
    "collapsed": true
   },
   "outputs": [],
   "source": [
    "PI = 3.14159265359"
   ]
  },
  {
   "cell_type": "markdown",
   "metadata": {},
   "source": [
    "但事实上 PI 仍然是一个变量，Python 根本没有任何机制保证 PI 不会被改变，所以，用全部大写的变量名表示常量只是一个习惯上的用法，如果你一定要改变变量 PI 的值，也没人能拦住你。\n",
    "\n",
    "最后解释一下整数的除法为什么也是精确的。在 Python 中，有两种除法，\n",
    "\n",
    "* 一种除法是 /："
   ]
  },
  {
   "cell_type": "code",
   "execution_count": 38,
   "metadata": {},
   "outputs": [
    {
     "name": "stdout",
     "output_type": "stream",
     "text": [
      "3\n",
      "3\n"
     ]
    }
   ],
   "source": [
    "print(10 / 3) # in Python 2, print 3; in Python 3, print 3.3333333333333335\n",
    "print(9 / 3)  # in Python 2, print 3; in Python 3, print 3.0"
   ]
  },
  {
   "cell_type": "markdown",
   "metadata": {},
   "source": [
    "在 Python3 中，除法 / 计算结果是浮点数，即使是两个整数恰好整除，结果也是浮点数。\n",
    "\n",
    "* 另一种除法是 //，称为地板除，两个整数的除法仍然是整数："
   ]
  },
  {
   "cell_type": "code",
   "execution_count": 39,
   "metadata": {},
   "outputs": [
    {
     "name": "stdout",
     "output_type": "stream",
     "text": [
      "3\n",
      "3\n"
     ]
    }
   ],
   "source": [
    "print(10 // 3)  \n",
    "print(9 // 3) "
   ]
  },
  {
   "cell_type": "markdown",
   "metadata": {},
   "source": [
    "你没有看错，整数的地板除 // 永远是整数，即使除不尽。要做精确的除法，使用 / 就可以。"
   ]
  },
  {
   "cell_type": "markdown",
   "metadata": {},
   "source": [
    "因为除法 // 只取结果的整数部分，所以 Python 还提供一个余数运算，可以得到两个整数相除的余数：\n"
   ]
  },
  {
   "cell_type": "code",
   "execution_count": 40,
   "metadata": {},
   "outputs": [
    {
     "name": "stdout",
     "output_type": "stream",
     "text": [
      "1\n"
     ]
    }
   ],
   "source": [
    "print 10 % 3"
   ]
  },
  {
   "cell_type": "markdown",
   "metadata": {},
   "source": [
    "无论整数做除法 // 还是取余数 %，结果永远是整数，所以，整数运算结果永远是精确的。"
   ]
  },
  {
   "cell_type": "markdown",
   "metadata": {},
   "source": [
    "## 练习\n",
    "\n",
    "请打印出以下变量的值："
   ]
  },
  {
   "cell_type": "code",
   "execution_count": 46,
   "metadata": {},
   "outputs": [
    {
     "name": "stdout",
     "output_type": "stream",
     "text": [
      "123\n",
      "456.789\n",
      "Hello, world\n",
      "Hello, 'Adam'\n",
      "Hello, \"Bart\"\n",
      "Hello,\n",
      "Lisa!\n"
     ]
    }
   ],
   "source": [
    "n = 123\n",
    "f = 456.789\n",
    "s1 = 'Hello, world'\n",
    "s2 = 'Hello, \\'Adam\\''\n",
    "s3 = r'Hello, \"Bart\"'\n",
    "s4 = r'''Hello,\n",
    "Lisa!'''\n",
    "\n",
    "print n\n",
    "print f\n",
    "print s1\n",
    "print s2\n",
    "print s3\n",
    "print s4"
   ]
  },
  {
   "cell_type": "markdown",
   "metadata": {},
   "source": [
    "## 小结\n",
    "\n",
    "Python支持多种数据类型，在计算机内部，可以把任何数据都看成一个“对象”，而变量就是在程序中用来指向这些数据对象的，对变量赋值就是把数据和变量给关联起来。\n",
    "\n",
    "注意：Python的整数没有大小限制，而某些语言的整数根据其存储长度是有大小限制的，例如Java对32位整数的范围限制在-2147483648-2147483647。\n",
    "\n",
    "Python的浮点数也没有大小限制，但是超出一定范围就直接表示为inf（无限大）。"
   ]
  },
  {
   "cell_type": "markdown",
   "metadata": {},
   "source": [
    "# 字符串与编码"
   ]
  },
  {
   "cell_type": "markdown",
   "metadata": {},
   "source": [
    "## 字符编码\n",
    "\n",
    "我们已经讲过了，字符串也是一种数据类型，但是，字符串比较特殊的是还有一个编码问题。\n",
    "\n",
    "因为计算机只能处理数字，如果要处理文本，就必须先把文本转换为数字才能处理。最早的计算机在设计时采用8个比特(bit)作为一个字节(byte)，所以，一个字节能表示的最大的整数就是 255(二进制 11111111 = 十进制 255)，如果要表示更大的整数，就必须用更多的字节。比如两个字节可以表示的最大整数是 65535，4 个字节可以表示的最大整数是 4294967295。"
   ]
  },
  {
   "cell_type": "markdown",
   "metadata": {},
   "source": [
    "由于计算机是美国人发明的，因此，最早只有 127 个字符被编码到计算机里，也就是大小写英文字母、数字和一些符号，这个编码表被称为 ASCII 编码，比如大写字母 A 的编码是 65，小写字母 z 的编码是 122。\n",
    "\n",
    "但是要处理中文显然一个字节是不够的，至少需要两个字节，而且还不能和 ASCII 编码冲突，所以，中国制定了 GB2312 编码，用来把中文编进去。\n",
    "\n",
    "你可以想得到的是，全世界有上百种语言，日本把日文编到 Shift_JIS 里，韩国把韩文编到 Euc-kr 里，各国有各国的标准，就会不可避免地出现冲突，结果就是，在多语言混合的文本中，显示出来会有乱码。\n",
    "\n",
    "因此，Unicode应运而生。Unicode把所有语言都统一到一套编码里，这样就不会再有乱码问题了。\n",
    "\n",
    "Unicode标准也在不断发展，但最常用的是用两个字节表示一个字符（如果要用到非常偏僻的字符，就需要4个字节）。现代操作系统和大多数编程语言都直接支持Unicode。"
   ]
  },
  {
   "cell_type": "markdown",
   "metadata": {},
   "source": [
    "现在，捋一捋 ASCII 编码和 Unicode 编码的区别：ASCII 编码是1个字节，而 Unicode 编码通常是 2 个字节。\n",
    "\n",
    "* 字母　A　用ASCII编码是十进制的　65，二进制的　01000001；\n",
    "\n",
    "* 字符　0　用ASCII编码是十进制的　48，二进制的　00110000，注意字符　'0'　和整数　0　是不同的；\n",
    "\n",
    "* 汉字　“中”　已经超出了　ASCII　编码的范围，用　Unicode　编码是十进制的　20013，二进制的　01001110 00101101。\n",
    "\n",
    "你可以猜测，如果把ASCII编码的A用Unicode编码，只需要在前面补0就可以，因此，A的Unicode编码是00000000 01000001。\n"
   ]
  },
  {
   "cell_type": "markdown",
   "metadata": {},
   "source": [
    "新的问题又出现了：如果统一成 Unicode 编码，乱码问题从此消失了。但是，如果你写的文本基本上全部是英文的话，**用 Unicode 编码比 ASCII 编码需要多一倍的存储空间，在存储和传输上就十分不划算。**\n",
    "\n",
    "所以，本着节约的精神，又出现了把 Unicode 编码转化为**“可变长编码”**的 UTF-8 编码。UTF-8 编码把一个 Unicode 字符根据不同的数字大小编码成 1-6 个字节，常用的英文字母被编码成 1 个字节，汉字通常是 3 个字节，只有很生僻的字符才会被编码成 4-6 个字节。如果你要传输的文本包含大量英文字符，用 UTF-8 编码就能节省空间：\n",
    "\n",
    "|         字符\t|         ASCII  |\tUnicode\t| UTF-8 |\n",
    "| :--------------: |:--------------:| :-----------:|\n",
    "|A\t |01000001 |\t00000000  01000001\t| 01000001|\n",
    "|中\t|  | 01001110 00101101\t| 11100100 10111000 10101101|"
   ]
  },
  {
   "cell_type": "markdown",
   "metadata": {},
   "source": [
    "\n",
    "从上面的表格还可以发现，UTF-8编码有一个额外的好处，就是ASCII编码实际上可以被看成是UTF-8编码的一部分，所以，大量只支持ASCII编码的历史遗留软件可以在UTF-8编码下继续工作。"
   ]
  },
  {
   "cell_type": "markdown",
   "metadata": {},
   "source": [
    "搞清楚了 ASCII、Unicode 和 UTF-8 的关系，我们就可以总结一下现在计算机系统通用的字符编码工作方式：\n",
    "\n",
    "在计算机内存中，统一使用 Unicode 编码，当需要保存到硬盘或者需要传输的时候，就转换为 UTF-8 编码。\n",
    "\n",
    "用记事本编辑的时候，从文件读取的 UTF-8 字符被转换为 Unicode 字符到内存里，编辑完成后，保存的时候再把 Unicode 转换为 UTF-8 保存到文件：\n",
    "\n",
    "<img src='images/unicode.png'> <img>\n",
    "\n",
    "浏览网页的时候，服务器会把动态生成的Unicode内容转换为UTF-8再传输到浏览器：\n",
    "\n",
    "<img src='images/unicode1.png'> <img>\n",
    "\n",
    "所以你看到很多网页的源码上会有类似<meta charset=\"UTF-8\" />的信息，表示该网页正是用的UTF-8编码。\n",
    "\n"
   ]
  },
  {
   "cell_type": "markdown",
   "metadata": {},
   "source": [
    "## Python的字符串\n",
    "\n",
    "搞清楚了令人头疼的字符编码问题后，我们再来研究Python的字符串。\n",
    "\n",
    "在最新的Python 3版本中，字符串是以Unicode编码的，也就是说，Python的字符串支持多语言，例如："
   ]
  },
  {
   "cell_type": "code",
   "execution_count": 47,
   "metadata": {},
   "outputs": [
    {
     "name": "stdout",
     "output_type": "stream",
     "text": [
      "包含中文的str\n"
     ]
    }
   ],
   "source": [
    "print('包含中文的str')"
   ]
  },
  {
   "cell_type": "markdown",
   "metadata": {},
   "source": [
    "对于单个字符的编码，Python 提供了 ord() 函数获取字符的整数表示，chr() 函数把编码转换为对应的字符："
   ]
  },
  {
   "cell_type": "code",
   "execution_count": null,
   "metadata": {},
   "outputs": [],
   "source": [
    "print ord('A')　　　#　print 65\n",
    "print ord('中')    #  print 20013\n",
    "\n",
    "print chr(66)      # print 'B'\n",
    "print chr(25991)   # print '文'"
   ]
  },
  {
   "cell_type": "markdown",
   "metadata": {},
   "source": [
    "如果知道字符的整数编码，还可以用十六进制这么写str：\n"
   ]
  },
  {
   "cell_type": "code",
   "execution_count": null,
   "metadata": {
    "collapsed": true
   },
   "outputs": [],
   "source": [
    "'\\u4e2d\\u6587'　　# print '中文'"
   ]
  },
  {
   "cell_type": "markdown",
   "metadata": {},
   "source": [
    "由于 Python 的字符串类型是 str，在内存中以 Unicode 表示，一个字符对应若干个字节。如果要在网络上传输，或者保存到磁盘上，就需要把str 变为以字节为单位的 bytes。\n",
    "\n",
    "Python 对 bytes 类型的数据用带 b 前缀的单引号或双引号表示：\n"
   ]
  },
  {
   "cell_type": "code",
   "execution_count": 65,
   "metadata": {},
   "outputs": [
    {
     "name": "stdout",
     "output_type": "stream",
     "text": [
      "ABC\n"
     ]
    }
   ],
   "source": [
    "x = b'ABC'\n",
    "print x"
   ]
  },
  {
   "cell_type": "markdown",
   "metadata": {},
   "source": [
    "要注意区分 'ABC' 和 b'ABC'，前者是 str，后者虽然内容显示得和前者一样，但 bytes 的每个字符都只占用一个字节。\n"
   ]
  },
  {
   "cell_type": "markdown",
   "metadata": {},
   "source": [
    "以 Unicode 表示的 str 通过 encode() 方法可以编码为指定的 bytes，例如："
   ]
  },
  {
   "cell_type": "code",
   "execution_count": 66,
   "metadata": {},
   "outputs": [
    {
     "data": {
      "text/plain": [
       "'ABC'"
      ]
     },
     "execution_count": 66,
     "metadata": {},
     "output_type": "execute_result"
    }
   ],
   "source": [
    "print('ABC'.encode('ascii'))  # print b'ABC'\n",
    "print('中文'.encode('utf-8'))  # b'\\xe4\\xb8\\xad\\xe6\\x96\\x87'\n",
    "print('中文'.encode('ascii'))  # UnicodeEncodeError"
   ]
  },
  {
   "cell_type": "markdown",
   "metadata": {},
   "source": [
    "* 纯英文的 str 可以用 ASCII 编码为 bytes，内容是一样的\n",
    "* 含有中文的 str 可以用 UTF-8 编码为 bytes。在 bytes 中，无法显示为 ASCII 字符的字节，用 \\x## 显示。\n",
    "* 含有中文的 str 无法用 ASCII 编码，因为中文编码的范围超过了 ASCII 编码的范围，Python 会报错。"
   ]
  },
  {
   "cell_type": "markdown",
   "metadata": {},
   "source": [
    "反过来，如果我们从网络或磁盘上读取了字节流，那么读到的数据就是 bytes。要把 bytes 变为 str，就需要用 decode() 方法：\n"
   ]
  },
  {
   "cell_type": "code",
   "execution_count": null,
   "metadata": {
    "collapsed": true
   },
   "outputs": [],
   "source": [
    "print(b'ABC'.decode('ascii'))    # print 'ABC'\n",
    "print(b'\\xe4\\xb8\\xad\\xe6\\x96\\x87'.decode('utf-8')) # print '中文'"
   ]
  },
  {
   "cell_type": "markdown",
   "metadata": {},
   "source": [
    "要计算 str 包含多少个字符，可以用 len() 函数："
   ]
  },
  {
   "cell_type": "code",
   "execution_count": 69,
   "metadata": {},
   "outputs": [
    {
     "name": "stdout",
     "output_type": "stream",
     "text": [
      "3\n",
      "6\n"
     ]
    }
   ],
   "source": [
    "print(len('ABC'))　　　# print 3\n",
    "print(len('中文'))    # print 2"
   ]
  },
  {
   "cell_type": "markdown",
   "metadata": {},
   "source": [
    "len()　函数计算的是　str　的字符数，如果换成　bytes，len()　函数就计算字节数："
   ]
  },
  {
   "cell_type": "code",
   "execution_count": null,
   "metadata": {
    "collapsed": true
   },
   "outputs": [],
   "source": [
    "print(len(b'ABC'))  # print 3\n",
    "print(len(b'\\xe4\\xb8\\xad\\xe6\\x96\\x87')) # print 6\n",
    "print(len('中文'.encode('utf-8'))) # print 6"
   ]
  },
  {
   "cell_type": "markdown",
   "metadata": {},
   "source": [
    "可见，1 个中文字符经过 UTF-8 编码后通常会占用 3 个字节，而 1 个英文字符只占用 1 个字节。\n"
   ]
  },
  {
   "cell_type": "markdown",
   "metadata": {},
   "source": [
    "在操作字符串时，我们经常遇到 str 和 bytes 的互相转换。为了避免乱码问题，应当始终坚持使用 UTF-8 编码对 str 和 bytes 进行转换。\n",
    "\n",
    "由于 Python 源代码也是一个文本文件，所以，当你的源代码中包含中文的时候，在保存源代码时，就需要务必指定保存为 UTF-8 编码。当 Python 解释器读取源代码时，为了让它按 UTF-8 编码读取，我们通常在文件开头写上这两行："
   ]
  },
  {
   "cell_type": "code",
   "execution_count": 73,
   "metadata": {
    "collapsed": true
   },
   "outputs": [],
   "source": [
    "#!/usr/bin/env python3\n",
    "# -*- coding: utf-8 -*-"
   ]
  },
  {
   "cell_type": "markdown",
   "metadata": {},
   "source": [
    "* 第一行注释是为了告诉 Linux / OS X系统，这是一个 Python 可执行程序，Windows 系统会忽略这个注释；\n",
    "\n",
    "* 第二行注释是为了告诉 Python 解释器，按照 UTF-8 编码读取源代码，否则，你在源代码中写的中文输出可能会有乱码。\n",
    "\n",
    "  申明了 UTF-8 编码并不意味着你的 .py 文件就是 UTF-8 编码的，必须并且要确保文本编辑器正在使用 UTF-8 without BOM 编码：\n",
    "  \n",
    "  <img src='images/unicode2.png'> <img>\n",
    "\n",
    "\n",
    "  如果.py文件本身使用UTF-8编码，并且也申明了# -*- coding: utf-8 -*-，打开命令提示符测试就可以正常显示中文：\n",
    "\n",
    "  <img src='images/unicode3.png'> <img>\n"
   ]
  },
  {
   "cell_type": "code",
   "execution_count": null,
   "metadata": {
    "collapsed": true
   },
   "outputs": [],
   "source": []
  },
  {
   "cell_type": "code",
   "execution_count": null,
   "metadata": {
    "collapsed": true
   },
   "outputs": [],
   "source": []
  },
  {
   "cell_type": "markdown",
   "metadata": {},
   "source": [
    "\n",
    "\n",
    ">>> len('ABC')\n",
    "3\n",
    ">>> len('中文')\n",
    "2\n",
    "len()函数计算的是str的字符数，如果换成bytes，len()函数就计算字节数：\n",
    "\n",
    ">>> len(b'ABC')\n",
    "3\n",
    ">>> \n",
    "6\n",
    ">>> \n",
    "6\n",
    "\n",
    "\n",
    "\n",
    "\n",
    "\n",
    "\n",
    "第一行注释是为了告诉Linux/OS X系统，这是一个Python可执行程序，Windows系统会忽略这个注释；\n",
    "\n",
    "第二行注释是为了告诉Python解释器，按照UTF-8编码读取源代码，否则，你在源代码中写的中文输出可能会有乱码。\n",
    "\n",
    "申明了UTF-8编码并不意味着你的.py文件就是UTF-8编码的，必须并且要确保文本编辑器正在使用UTF-8 without BOM编码：\n",
    "\n",
    "set-encoding-in-notepad++\n",
    "\n",
    "如果.py文件本身使用UTF-8编码，并且也申明了# -*- coding: utf-8 -*-，打开命令提示符测试就可以正常显示中文：\n",
    "\n",
    "py-chinese-test-in-cmd\n",
    "\n",
    "格式化\n",
    "\n",
    "最后一个常见的问题是如何输出格式化的字符串。我们经常会输出类似'亲爱的xxx你好！你xx月的话费是xx，余额是xx'之类的字符串，而xxx的内容都是根据变量变化的，所以，需要一种简便的格式化字符串的方式。\n",
    "\n",
    "py-str-format\n",
    "\n",
    "在Python中，采用的格式化方式和C语言是一致的，用%实现，举例如下：\n",
    "\n",
    ">>> 'Hello, %s' % 'world'\n",
    "'Hello, world'\n",
    ">>> 'Hi, %s, you have $%d.' % ('Michael', 1000000)\n",
    "'Hi, Michael, you have $1000000.'\n",
    "你可能猜到了，%运算符就是用来格式化字符串的。在字符串内部，%s表示用字符串替换，%d表示用整数替换，有几个%?占位符，后面就跟几个变量或者值，顺序要对应好。如果只有一个%?，括号可以省略。\n",
    "\n",
    "常见的占位符有：\n",
    "\n",
    "%d\t整数\n",
    "%f\t浮点数\n",
    "%s\t字符串\n",
    "%x\t十六进制整数\n",
    "其中，格式化整数和浮点数还可以指定是否补0和整数与小数的位数：\n",
    "\n",
    ">>> '%2d-%02d' % (3, 1)\n",
    "' 3-01'\n",
    ">>> '%.2f' % 3.1415926\n",
    "'3.14'\n",
    "如果你不太确定应该用什么，%s永远起作用，它会把任何数据类型转换为字符串：\n",
    "\n",
    ">>> 'Age: %s. Gender: %s' % (25, True)\n",
    "'Age: 25. Gender: True'\n",
    "有些时候，字符串里面的%是一个普通字符怎么办？这个时候就需要转义，用%%来表示一个%：\n",
    "\n",
    ">>> 'growth rate: %d %%' % 7\n",
    "'growth rate: 7 %'\n",
    "练习\n",
    "\n",
    "小明的成绩从去年的72分提升到了今年的85分，请计算小明成绩提升的百分点，并用字符串格式化显示出'xx.x%'，只保留小数点后1位：\n",
    "\n",
    "# -*- coding: utf-8 -*-\n",
    "\n",
    "s1 = 72\n",
    "s2 = 85\n",
    "\n",
    "r = ???\n",
    "print('???' % r)\n",
    "\n",
    " Run\n",
    "小结\n",
    "\n",
    "Python 3的字符串使用Unicode，直接支持多语言。\n",
    "\n",
    "str和bytes互相转换时，需要指定编码。最常用的编码是UTF-8。Python当然也支持其他编码方式，比如把Unicode编码成GB2312：\n",
    "\n",
    ">>> '中文'.encode('gb2312')\n",
    "b'\\xd6\\xd0\\xce\\xc4'\n",
    "但这种方式纯属自找麻烦，如果没有特殊业务要求，请牢记仅使用UTF-8编码。\n",
    "\n",
    "格式化字符串的时候，可以用Python的交互式命令行测试，方便快捷。"
   ]
  }
 ],
 "metadata": {
  "kernelspec": {
   "display_name": "Python 3",
   "language": "python",
   "name": "python3"
  },
  "language_info": {
   "codemirror_mode": {
    "name": "ipython",
    "version": 2
   },
   "file_extension": ".py",
   "mimetype": "text/x-python",
   "name": "python",
   "nbconvert_exporter": "python",
   "pygments_lexer": "ipython2",
   "version": "2.7.12"
  }
 },
 "nbformat": 4,
 "nbformat_minor": 2
}
