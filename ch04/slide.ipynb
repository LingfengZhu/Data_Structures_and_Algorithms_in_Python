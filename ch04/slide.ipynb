{
 "cells": [
  {
   "cell_type": "markdown",
   "metadata": {
    "slideshow": {
     "slide_type": "slide"
    }
   },
   "source": [
    "# 递归"
   ]
  },
  {
   "cell_type": "markdown",
   "metadata": {
    "slideshow": {
     "slide_type": "fragment"
    }
   },
   "source": [
    "### 迭代的是人，递归的是神。\n",
    "\n",
    "###           ——   L. Peter Deutsch"
   ]
  },
  {
   "cell_type": "markdown",
   "metadata": {
    "slideshow": {
     "slide_type": "slide"
    }
   },
   "source": [
    "## 什么是递归 "
   ]
  },
  {
   "cell_type": "markdown",
   "metadata": {
    "slideshow": {
     "slide_type": "slide"
    }
   },
   "source": [
    "简单来说,当函数直接或者间接调用自己时，则发生了递归.\n",
    "\n",
    "\n",
    "\n"
   ]
  },
  {
   "cell_type": "markdown",
   "metadata": {
    "slideshow": {
     "slide_type": "fragment"
    }
   },
   "source": [
    "递归的思想就是：把问题分解成为规模更小的、具有与原问题有着相同解法的问题。"
   ]
  },
  {
   "cell_type": "markdown",
   "metadata": {
    "slideshow": {
     "slide_type": "fragment"
    }
   },
   "source": [
    "比如二分查找算法，就是不断地把问题的规模变小（变成原问题的一半），而新问题与原问题有着相同的解法。"
   ]
  },
  {
   "cell_type": "markdown",
   "metadata": {
    "slideshow": {
     "slide_type": "slide"
    }
   },
   "source": [
    "对于有些问题，使用传统的迭代算法很难求解甚至无解，而使用递归却可以很容易地解决。比如汉诺塔问题。\n",
    "\n",
    "\n",
    "但递归的使用也是有其劣势，因它要进行多层函数调用，会消耗很多堆栈空间和函数调用时间。"
   ]
  },
  {
   "cell_type": "markdown",
   "metadata": {
    "slideshow": {
     "slide_type": "slide"
    }
   },
   "source": [
    "既然递归的思想是把问题分解成为规模更小且与原问题有着相同解法的问题，那么是不是这样的问题都能用递归来解决呢？"
   ]
  },
  {
   "cell_type": "markdown",
   "metadata": {
    "slideshow": {
     "slide_type": "fragment"
    }
   },
   "source": [
    "\n",
    "答案是否定的，并不是所有问题都能用递归来解决。\n"
   ]
  },
  {
   "cell_type": "markdown",
   "metadata": {
    "slideshow": {
     "slide_type": "fragment"
    }
   },
   "source": [
    "那么什么样的问题可以用递归来解决呢？"
   ]
  },
  {
   "cell_type": "markdown",
   "metadata": {
    "slideshow": {
     "slide_type": "fragment"
    }
   },
   "source": [
    "\n",
    "一般来讲，能用递归来解决的问题必须满足两个条件：\n",
    "\n",
    "* 可以通过递归调用来缩小问题规模，且新问题与原问题有着相同的形式。\n",
    "* 存在一种简单情境，可以使递归在简单情境下退出。\n",
    "\n",
    "如果一个问题不满足以上两个条件，那么它就不能用递归来解决。"
   ]
  },
  {
   "cell_type": "markdown",
   "metadata": {
    "slideshow": {
     "slide_type": "slide"
    }
   },
   "source": [
    "为了方便理解，以Fibonacci数列为例加以说明。这是一个经典的问题，说到递归一定要提到这个问题。\n",
    "\n",
    "斐波那契数列这样定义：f(0) = 0, f(1) = 1, 对 n > 1, f(n) = f(n-1) + f(n-2)\n",
    "\n",
    "这是一个明显的可以用递归解决的问题。让我们来看看它是如何满足递归的两个条件的：\n",
    "\n",
    "* 对于一个 n > 2, 求 f(n) 只需求出 f(n-1) 和 f(n-2)，也就是说规模为 n 的问题，转化成了规模更小的问题；\n",
    "\n",
    "* 对于 n = 0 和 n = 1，存在着简单情境：f(0) = 0, f(1) = 1。\n"
   ]
  },
  {
   "cell_type": "code",
   "execution_count": 85,
   "metadata": {
    "slideshow": {
     "slide_type": "slide"
    }
   },
   "outputs": [
    {
     "name": "stdout",
     "output_type": "stream",
     "text": [
      "1\n",
      "2\n",
      "3\n",
      "5\n",
      "8\n",
      "13\n",
      "21\n",
      "34\n",
      "55\n"
     ]
    }
   ],
   "source": [
    "def fib(n):\n",
    "    if n == 0:\n",
    "        return 1\n",
    "    elif n == 1:\n",
    "        return 1\n",
    "    else:\n",
    "        return fib(n-1) + fib(n-2)\n",
    "\n",
    "for n in range(1, 10):\n",
    "    print(fib(n))"
   ]
  },
  {
   "cell_type": "markdown",
   "metadata": {
    "slideshow": {
     "slide_type": "slide"
    }
   },
   "source": [
    "在编写递归调用的函数的时候，一定要把对简单情境的判断写在最前面，以保证函数调用在检查到简单情境的时候能够及时地中止递归；\n",
    "\n",
    "\n",
    "否则，你的函数可能会永不停息的在那里递归调用了。"
   ]
  },
  {
   "cell_type": "markdown",
   "metadata": {
    "slideshow": {
     "slide_type": "slide"
    }
   },
   "source": [
    "### 列表求和"
   ]
  },
  {
   "cell_type": "markdown",
   "metadata": {
    "slideshow": {
     "slide_type": "slide"
    }
   },
   "source": [
    "求一个整数列表各项的和，如[1,3,5,7,9]。先来看用循环如何实现："
   ]
  },
  {
   "cell_type": "code",
   "execution_count": 87,
   "metadata": {
    "slideshow": {
     "slide_type": "fragment"
    }
   },
   "outputs": [
    {
     "name": "stdout",
     "output_type": "stream",
     "text": [
      "25\n"
     ]
    }
   ],
   "source": [
    "def listSum(numList):\n",
    "    theSum = 0\n",
    "    for i in numList:\n",
    "        theSum += i\n",
    "    return theSum\n",
    "\n",
    "print(listSum([1, 3, 5, 7, 9]))"
   ]
  },
  {
   "cell_type": "markdown",
   "metadata": {
    "slideshow": {
     "slide_type": "slide"
    }
   },
   "source": [
    "如果不用循环，又该如何实现？"
   ]
  },
  {
   "cell_type": "markdown",
   "metadata": {
    "slideshow": {
     "slide_type": "fragment"
    }
   },
   "source": [
    "* 可把求和过程表示成\n",
    "\n",
    "    ((((1+3)+5)+7)+9)"
   ]
  },
  {
   "cell_type": "markdown",
   "metadata": {
    "slideshow": {
     "slide_type": "fragment"
    }
   },
   "source": [
    "* 也可表示成\n",
    "\n",
    "    (1+(3+(5+(7+9))))\n",
    " \n"
   ]
  },
  {
   "cell_type": "markdown",
   "metadata": {
    "slideshow": {
     "slide_type": "fragment"
    }
   },
   "source": [
    "注意最里层的括号，（7+9）的计算，不用循环或其他结构，用下面的顺序便可计算出最后的和：\n",
    "\n",
    "total= (1+(3+(5+(7+9))))\n",
    "\n",
    "total= (1+(3+(5+16)))\n",
    "\n",
    "total= (1+(3+21))\n",
    "\n",
    "total= (1+24)\n",
    "\n",
    "total= 25"
   ]
  },
  {
   "cell_type": "markdown",
   "metadata": {
    "slideshow": {
     "slide_type": "slide"
    }
   },
   "source": [
    "用 Python 如何实现该想法呢？"
   ]
  },
  {
   "cell_type": "markdown",
   "metadata": {
    "slideshow": {
     "slide_type": "fragment"
    }
   },
   "source": [
    "我们来重新描述一下列表求和问题。对列表求和，是第一个元素加上其他所有元素的和，即\n",
    " \n",
    "      listSum(numList) = first(numList) + listSum(rest(numList))"
   ]
  },
  {
   "cell_type": "markdown",
   "metadata": {
    "slideshow": {
     "slide_type": "fragment"
    }
   },
   "source": [
    "用Python表达即为"
   ]
  },
  {
   "cell_type": "code",
   "execution_count": 90,
   "metadata": {
    "slideshow": {
     "slide_type": "fragment"
    }
   },
   "outputs": [
    {
     "name": "stdout",
     "output_type": "stream",
     "text": [
      "25\n"
     ]
    }
   ],
   "source": [
    "def listSum(numList):\n",
    "    if len(numList) == 1:     # 简单情境\n",
    "        return numList[0]\n",
    "    else:\n",
    "        return numList[0] + listSum(numList[1:])  # 函数调用自身，亦即递归\n",
    "    \n",
    "print(listSum([1, 3, 5, 7, 9]))  "
   ]
  },
  {
   "cell_type": "markdown",
   "metadata": {
    "slideshow": {
     "slide_type": "slide"
    }
   },
   "source": [
    "### 递\n",
    "\n",
    "通过一连串的调用将问题简化：每进行一次调用，问题变得越来越简单，直到简单情境。 \n",
    "\n",
    "<img src='images/sumlistIn.png'> <img>"
   ]
  },
  {
   "cell_type": "markdown",
   "metadata": {
    "slideshow": {
     "slide_type": "slide"
    }
   },
   "source": [
    "### 归\n",
    "\n",
    "当问题变成简单情境，便开始归拢被简化的问题，直到最开始的问题得以解决。 \n",
    "\n",
    "<img src='images/sumlistOut.png'> <img>"
   ]
  },
  {
   "cell_type": "markdown",
   "metadata": {
    "slideshow": {
     "slide_type": "slide"
    }
   },
   "source": [
    "## 递归的应用:  十进制到任意进制的转换"
   ]
  },
  {
   "cell_type": "markdown",
   "metadata": {
    "slideshow": {
     "slide_type": "fragment"
    }
   },
   "source": [
    "对于该问题，我们已经在栈的应用中讨论过一个算法，但是递归的算法仍然是最简洁的。"
   ]
  },
  {
   "cell_type": "markdown",
   "metadata": {
    "slideshow": {
     "slide_type": "slide"
    }
   },
   "source": [
    "以十进制数 769 为例来解释递归算法的实现。为此，我们定义一个字符串 \n",
    "      \n",
    "      convertString = \"0123456789ABCDEF\" \n",
    " 以便将数字转成字符。\n",
    "\n"
   ]
  },
  {
   "cell_type": "markdown",
   "metadata": {
    "slideshow": {
     "slide_type": "fragment"
    }
   },
   "source": [
    "用整数 10 去除 769，商76余9。\n",
    "\n",
    "* 余数 9 小于基数（10），可通过查询 convString 转换成字符。\n",
    "* 商（76）小于原来的 769，朝简单情境进行。\n",
    "\n",
    "接下来把 76 变成字符串，再次用 10 去除 76，商 7 余 6。\n",
    "\n"
   ]
  },
  {
   "cell_type": "markdown",
   "metadata": {
    "slideshow": {
     "slide_type": "fragment"
    }
   },
   "source": [
    "该过程如下图所示，注意我们要的数字是图中右边的余数.\n",
    "\n",
    "<img src='images/toStr.png'><img>"
   ]
  },
  {
   "cell_type": "code",
   "execution_count": 95,
   "metadata": {
    "slideshow": {
     "slide_type": "slide"
    }
   },
   "outputs": [
    {
     "name": "stdout",
     "output_type": "stream",
     "text": [
      "5AD\n"
     ]
    }
   ],
   "source": [
    "def toStr(n, base):  \n",
    "   convertString = \"0123456789ABCDEF\"  \n",
    "   if n < base:  \n",
    "      return convertString[n]  \n",
    "   else:  \n",
    "      return toStr(n // base, base) + convertString[n % base]  \n",
    "   \n",
    "print(toStr(1453,16)) "
   ]
  },
  {
   "cell_type": "markdown",
   "metadata": {
    "slideshow": {
     "slide_type": "slide"
    }
   },
   "source": [
    "我们再来看数字 10 如何转换为二进制。\n",
    "\n",
    "<img src='images/toStrBase2.png'><img>"
   ]
  },
  {
   "cell_type": "markdown",
   "metadata": {
    "slideshow": {
     "slide_type": "subslide"
    }
   },
   "source": [
    "该图展示了转换过程，看起来顺序似乎不对，但计算结果却是对的。\n",
    "\n",
    "这是因为递归计算放在前面，这样直到递归结束才会去加余数。\n"
   ]
  },
  {
   "cell_type": "markdown",
   "metadata": {
    "slideshow": {
     "slide_type": "fragment"
    }
   },
   "source": [
    "如果把 convertString[n % base] 放在前面，先查找余数的字符再去计算递归，那么结果就完全反了顺序！\n",
    "\n",
    "而先做递归，递归结束返回的结果再去和余数相加，结果的顺序就是正确的。 "
   ]
  },
  {
   "cell_type": "markdown",
   "metadata": {
    "slideshow": {
     "slide_type": "slide"
    }
   },
   "source": [
    "## 递归的实现"
   ]
  },
  {
   "cell_type": "markdown",
   "metadata": {
    "slideshow": {
     "slide_type": "slide"
    }
   },
   "source": [
    "现在来修改一下算法，把余数字符压栈。"
   ]
  },
  {
   "cell_type": "code",
   "execution_count": 97,
   "metadata": {
    "slideshow": {
     "slide_type": "slide"
    }
   },
   "outputs": [
    {
     "name": "stdout",
     "output_type": "stream",
     "text": [
      "1010\n"
     ]
    }
   ],
   "source": [
    "from pythonds.basic.stack import Stack\n",
    "\n",
    "rStack = Stack()\n",
    "\n",
    "def toStr(n, base):\n",
    "    convertString = \"0123456789ABCDEF\"\n",
    "    while n > 0:\n",
    "        if n < base:\n",
    "            rStack.push(convertString[n])\n",
    "        else:\n",
    "            rStack.push(convertString[n % base])\n",
    "        n = n // base\n",
    "    res = \"\"\n",
    "    while not rStack.isEmpty():\n",
    "        res = res + str(rStack.pop())\n",
    "    return res\n",
    "\n",
    "print(toStr(10, 2))"
   ]
  },
  {
   "cell_type": "markdown",
   "metadata": {
    "slideshow": {
     "slide_type": "slide"
    }
   },
   "source": [
    "每次调用 toStr，就把一个字符压栈。对于之前那个例子，我们知道经过四次调用 toStr后，栈内容如下图所示。 \n",
    "\n",
    "<img src='images/recstack.png'><img>"
   ]
  },
  {
   "cell_type": "markdown",
   "metadata": {
    "slideshow": {
     "slide_type": "slide"
    }
   },
   "source": [
    "通过这个例子我们可以了解python是如何实现递归函数调用的。\n",
    "\n",
    "当调用一次函数，系统分配一个栈帧来存储函数的变量。当函数返回时，返回值位于栈顶等待调用函数访问。 \n",
    "\n",
    "<img src='images/newcallstack.png'><img>"
   ]
  },
  {
   "cell_type": "markdown",
   "metadata": {
    "slideshow": {
     "slide_type": "slide"
    }
   },
   "source": [
    "注意到调用 toStr(2 // 2, 2) 将留下返回值 “1” 在栈内，这个值随后表达式 toStr(2 // 2, 2) + convertString[2 % 2] 用到，然后它又留下\"10\"在栈顶。\n",
    "\n",
    "这样，Python 调用栈的过程和我们在递归求和时所有过程明显一样。"
   ]
  },
  {
   "cell_type": "markdown",
   "metadata": {
    "slideshow": {
     "slide_type": "fragment"
    }
   },
   "source": [
    "栈帧也提示了 Python 语言中变量作用域的概念。虽然我们一次又一次地调用函数，但每次都为函数变量开辟了独立的变量作用域。\n",
    "\n",
    "如果牢牢记住这个栈的思想，你将会发现写递归函数变得容易多了。"
   ]
  },
  {
   "cell_type": "markdown",
   "metadata": {
    "slideshow": {
     "slide_type": "slide"
    }
   },
   "source": [
    "## 递归图形\n"
   ]
  },
  {
   "cell_type": "markdown",
   "metadata": {
    "slideshow": {
     "slide_type": "slide"
    }
   },
   "source": [
    "我们将引入几个例子，用递归的方法画几个有趣的图形。\n",
    "\n",
    "通过观察图形的生成，帮助你洞察递归的过程，从而学会递归的方法。\n"
   ]
  },
  {
   "cell_type": "markdown",
   "metadata": {
    "slideshow": {
     "slide_type": "slide"
    }
   },
   "source": [
    "### turtle 图形模块\n",
    "\n",
    "\n",
    "turtle是一个简单的绘图工具。它提供了一个海龟，你可以把它理解为一个机器人，只听得懂有限的指令。\n",
    "\n",
    "1. 用import turtle导入turtle库\n",
    "\n",
    "2. 绘图窗口的原点(0,0)在正中间。默认情况下，海龟向正右方移动。\n",
    "\n",
    "3. 操纵海龟绘图有着许多的命令,这些命令分为两种:\n",
    "   \n",
    "   *  运动命令\n",
    "   *  画笔控制命令"
   ]
  },
  {
   "cell_type": "markdown",
   "metadata": {
    "slideshow": {
     "slide_type": "subslide"
    }
   },
   "source": [
    "### 运动命令\n",
    "\n",
    "| 命令        | 含义 |\n",
    "| ------------- |:-------------:|  \n",
    "|forward(d) |   向前移动距离d |\n",
    "|backward(d) |   向后移动距离d|\n",
    "|right(degree)|  向右转动多少度|\n",
    "|left(degree) |  向左转动多少度|\n",
    "|goto(x,y) | 将画笔移动到坐标为(x,y)的位置|\n",
    "|stamp() | 绘制当前图形|\n",
    "|speed(speed) | 画笔绘制的速度范围[0,10]整数|"
   ]
  },
  {
   "cell_type": "markdown",
   "metadata": {
    "slideshow": {
     "slide_type": "subslide"
    }
   },
   "source": [
    "### 画笔控制命令\n",
    "\n",
    "| 命令        | 含义 |\n",
    "| ------------- |:-------------:|  \n",
    "|down() | 画笔落下，移动时绘制图形|\n",
    "|up() | 画笔抬起，移动时不绘制图形|\n",
    "|setheading(degree) | 海龟朝向，degree代表角度|\n",
    "|reset()|  恢复所有设置|\n",
    "|pensize(width)| 画笔的宽度|\n",
    "|pencolor(colorstring)| 画笔的颜色|\n",
    "|fillcolor(colorstring)| 绘制图形的填充颜色|\n",
    "|begin_fill()||\n",
    "|end_fill()||\n",
    "|circle(radius, extent)| 绘制一个圆形，其中radius为半径，extent为度数。例如，若extent为180，则画一个半圆；如要画一个圆形，可不必写第二个参数|"
   ]
  },
  {
   "cell_type": "code",
   "execution_count": 112,
   "metadata": {
    "slideshow": {
     "slide_type": "slide"
    }
   },
   "outputs": [],
   "source": [
    "# 画一个边长为60的三角形 \n",
    "import turtle\n",
    "\n",
    "a=60\n",
    "turtle.forward(a)\n",
    "turtle.left(120)\n",
    "turtle.forward(a)\n",
    "turtle.left(120)\n",
    "turtle.forward(a)\n",
    "turtle.left(120)"
   ]
  },
  {
   "cell_type": "code",
   "execution_count": 115,
   "metadata": {
    "slideshow": {
     "slide_type": "slide"
    }
   },
   "outputs": [],
   "source": [
    "# 画一个边长为60的正方形，并填充为红色，边框为蓝色\n",
    "\n",
    "import turtle\n",
    "turtle.reset()\n",
    "a= 60\n",
    "turtle.fillcolor(\"red\")\n",
    "turtle.pencolor(\"blue\")\n",
    "turtle.pensize(10)\n",
    "turtle.begin_fill()\n",
    "turtle.left(90)\n",
    "turtle.forward(a)\n",
    "turtle.left(90)\n",
    "turtle.forward(a)\n",
    "turtle.left(90)\n",
    "turtle.forward(a)\n",
    "turtle.left(90)\n",
    "turtle.forward(a)\n",
    "turtle.end_fill()"
   ]
  },
  {
   "cell_type": "markdown",
   "metadata": {
    "slideshow": {
     "slide_type": "slide"
    }
   },
   "source": [
    "### 练习\n",
    "\n",
    "1. 画一个五边形\n",
    "\n",
    "2. 画一个六边形\n",
    "\n",
    "3. 任意输入一个正整数m(>=3)，画一个多边形(m条边)\n",
    "\n",
    "4. 画一个五角星，填充为红色\n"
   ]
  },
  {
   "cell_type": "code",
   "execution_count": 127,
   "metadata": {
    "collapsed": true,
    "slideshow": {
     "slide_type": "skip"
    }
   },
   "outputs": [],
   "source": [
    "# 五边形\n",
    "import turtle\n",
    "turtle.reset()\n",
    "len = 150\n",
    "angle = 72\n",
    "turtle.forward(len)\n",
    "for i in range(4):\n",
    "    turtle.left(angle)\n",
    "    turtle.forward(len)"
   ]
  },
  {
   "cell_type": "code",
   "execution_count": 121,
   "metadata": {
    "collapsed": true,
    "slideshow": {
     "slide_type": "skip"
    }
   },
   "outputs": [],
   "source": [
    "# 六边形\n",
    "import turtle\n",
    "turtle.reset()\n",
    "len = 150\n",
    "angle = 60\n",
    "turtle.forward(len)\n",
    "for i in range(5):\n",
    "    turtle.left(angle)\n",
    "    turtle.forward(len)"
   ]
  },
  {
   "cell_type": "code",
   "execution_count": 123,
   "metadata": {
    "collapsed": true,
    "slideshow": {
     "slide_type": "skip"
    }
   },
   "outputs": [],
   "source": [
    "# 任意输入一个正整数m(>=3)，画一个多边形(m条边)\n",
    "import turtle\n",
    "turtle.reset()\n",
    "\n",
    "def drawPolygon(m, len):\n",
    "    angle = 360/m\n",
    "    turtle.forward(len)\n",
    "    for i in range(m-1):\n",
    "        turtle.left(angle)\n",
    "        turtle.forward(len)\n",
    "\n",
    "len = 150\n",
    "drawPolygon(7, len)"
   ]
  },
  {
   "cell_type": "code",
   "execution_count": 144,
   "metadata": {
    "collapsed": true,
    "slideshow": {
     "slide_type": "skip"
    }
   },
   "outputs": [],
   "source": [
    "# 画一个五角星，填充为红色\n",
    "import turtle\n",
    "turtle.reset()\n",
    "len = 150\n",
    "angle1 = 144\n",
    "angle2 = 72\n",
    "\n",
    "turtle.fillcolor(\"red\")\n",
    "turtle.begin_fill()\n",
    "turtle.forward(len)\n",
    "for i in range(4):\n",
    "    turtle.left(angle1)\n",
    "    turtle.forward(len)\n",
    "    turtle.right(angle2)\n",
    "    turtle.forward(len)\n",
    "turtle.left(angle1)\n",
    "turtle.forward(len)\n",
    "turtle.end_fill()"
   ]
  },
  {
   "cell_type": "code",
   "execution_count": 148,
   "metadata": {
    "collapsed": true
   },
   "outputs": [],
   "source": [
    "# 绘制奥运五环图，其中五种颜色分别为蓝色、黑色、红色、黄色和绿色。注意根据实际效果调整圆形的大小和位置。\n",
    "# 首先画第一环，用虚线画出半径，取该半径的中点，然后从此中点延长虚线，且廷长到的终点是第一环的半径长度。\n",
    "# 终点便是第二环的圆心，半径为这条廷长线。第三环同用此法。\n",
    "# 下面要说说第二行第一个环，因为上面已有两个环啦，而且两环的半径之间已有一条虚线，那么就在这条虚线做垂直平分线，\n",
    "# 然后做一个倒的等腰三角形，它的腰是圆的半径，它的顶点是该环的圆心，第五环皆用此法。\n",
    "\n",
    "import turtle\n",
    "turtle.reset()\n",
    "\n",
    "radius = 100\n",
    "turtle.fillcolor(\"red\")\n",
    "turtle.circle(radius)\n",
    "goto(0+,y) dd"
   ]
  },
  {
   "cell_type": "markdown",
   "metadata": {
    "slideshow": {
     "slide_type": "slide"
    }
   },
   "source": [
    "### 螺旋线\n",
    "\n",
    "利用 turtle 来递归地画一段螺旋线，步骤如下：\n",
    "\n",
    "1. 引入 turtle 模块\n",
    "2. 创建一个 turtle 对象\n",
    "3. 新建一个窗口对象作为画布\n",
    "4. 定义 drawSpiral 函数，递归地画螺旋线。\n",
    "   \n",
    "每次画线（向前）之后，右转90度，然后再次画线（向前），且右转后画线的长度就减少。\n",
    "\n",
    "调用 myWin.exitonclick() 的作用是 turtle 对象进入等待模式，如果在窗口里点击，即清理并退出运行。"
   ]
  },
  {
   "cell_type": "code",
   "execution_count": 105,
   "metadata": {
    "slideshow": {
     "slide_type": "subslide"
    }
   },
   "outputs": [],
   "source": [
    "import turtle\n",
    "\n",
    "myTurtle = turtle.Turtle()\n",
    "myWin = turtle.Screen()\n",
    "\n",
    "def drawSpiral(myTurtle, lineLen):\n",
    "    if lineLen > 0:\n",
    "        myTurtle.forward(lineLen)\n",
    "        myTurtle.right(90)\n",
    "        drawSpiral(myTurtle, lineLen - 5)\n",
    "\n",
    "drawSpiral(myTurtle,100)\n",
    "myWin.exitonclick()"
   ]
  },
  {
   "cell_type": "markdown",
   "metadata": {
    "slideshow": {
     "slide_type": "slide"
    }
   },
   "source": [
    "### 分形树\n",
    "\n"
   ]
  },
  {
   "cell_type": "markdown",
   "metadata": {
    "slideshow": {
     "slide_type": "fragment"
    }
   },
   "source": [
    "分形是一个数学分支，其中有很多的递归思想。所谓分形，就是不论把图形放大多少倍，其中总有相似的图形。"
   ]
  },
  {
   "cell_type": "markdown",
   "metadata": {
    "slideshow": {
     "slide_type": "fragment"
    }
   },
   "source": [
    "现实中的例子是象大陆海岸线，雪花，山岭，树或灌木。\n",
    " \n",
    "自然界的分形现象使得计算机能够产生足以乱真的电影效果。"
   ]
  },
  {
   "cell_type": "markdown",
   "metadata": {
    "slideshow": {
     "slide_type": "subslide"
    }
   },
   "source": [
    "<img src='images/fractal1.jpg'><img>"
   ]
  },
  {
   "cell_type": "markdown",
   "metadata": {
    "slideshow": {
     "slide_type": "subslide"
    }
   },
   "source": [
    "<img src='images/fractal2.jpg'><img>"
   ]
  },
  {
   "cell_type": "markdown",
   "metadata": {
    "slideshow": {
     "slide_type": "subslide"
    }
   },
   "source": [
    "<img src='images/fractal3.jpg'><img>"
   ]
  },
  {
   "cell_type": "markdown",
   "metadata": {
    "slideshow": {
     "slide_type": "subslide"
    }
   },
   "source": [
    "<img src='images/fractal4.jpg'><img>"
   ]
  },
  {
   "cell_type": "markdown",
   "metadata": {
    "slideshow": {
     "slide_type": "slide"
    }
   },
   "source": [
    "如何描述一棵分形树呢？\n"
   ]
  },
  {
   "cell_type": "markdown",
   "metadata": {
    "slideshow": {
     "slide_type": "fragment"
    }
   },
   "source": [
    "记住，对于分形图形，不论放大多少倍，在不同的层级上图形都看起来很象。\n",
    "\n",
    "对于一棵分形树而言，一个小树叉有着整棵树的形状和特征。也就是说，一棵树就是树干有左右两个分枝，每个分枝又是比较小的树。\n",
    "\n",
    "由此可知，该定义用到了递归，即用树来定义树。"
   ]
  },
  {
   "cell_type": "markdown",
   "metadata": {
    "slideshow": {
     "slide_type": "skip"
    }
   },
   "source": [
    "让我们把想法变成python代码。List1就是用turtle画出的分形树。5-7行是递归调用。第5行是向右转20度之后调用，这是刚才提到的右边的小树。第7行是是另一个递归调用，但这次是左转40度之后的调用。之所以要转40度，是因为先要从刚才的右转中回转20，再转20才是左向20度。另外要注意的是，每次递归，都把树枝的长度减少一块，这是为了让树越来越小。第2行有一个检查过程，防止树枝长度过小，也是递归的基点"
   ]
  },
  {
   "cell_type": "code",
   "execution_count": 166,
   "metadata": {
    "slideshow": {
     "slide_type": "subslide"
    }
   },
   "outputs": [],
   "source": [
    "import turtle\n",
    "\n",
    "def tree(branchLen, t):   \n",
    "    if branchLen > 5:\n",
    "        t.forward(branchLen)\n",
    "        t.right(20)\n",
    "        tree(branchLen-15, t)\n",
    "        t.left(40)\n",
    "        tree(branchLen-15, t)\n",
    "        t.right(20)\n",
    "        t.backward(branchLen)\n",
    "\n",
    "def main():\n",
    "    t = turtle.Turtle()\n",
    "    t.reset()\n",
    "    myWin = turtle.Screen()\n",
    "    \n",
    "    t.speed(1)\n",
    "    t.left(90)\n",
    "    t.up()\n",
    "    t.backward(100)\n",
    "    t.down()\n",
    "    t.color(\"green\")\n",
    "    tree(75,t)\n",
    "    myWin.exitonclick()\n",
    "\n",
    "main()"
   ]
  },
  {
   "cell_type": "markdown",
   "metadata": {
    "slideshow": {
     "slide_type": "slide"
    }
   },
   "source": [
    "### 宾斯基三角形"
   ]
  },
  {
   "cell_type": "markdown",
   "metadata": {
    "slideshow": {
     "slide_type": "slide"
    }
   },
   "source": [
    "宾斯基三角形也是一种分形，其画法为：\n",
    "\n",
    "        从一个大三角形开始，连接三个边的中点，把三角形分成4个。不管中间的三角形，把其余三个再次应用前述的过程。\n",
    "        \n",
    "        每一次都新建一些三角形，再把每个同样的过程递归应用到小三角形上，只要你的铅笔够细，这个过程可以无限进行下去。 "
   ]
  },
  {
   "cell_type": "markdown",
   "metadata": {
    "slideshow": {
     "slide_type": "slide"
    }
   },
   "source": [
    "<img src='images/sierpinski.png'><img>"
   ]
  },
  {
   "cell_type": "markdown",
   "metadata": {
    "slideshow": {
     "slide_type": "slide"
    }
   },
   "source": [
    "既然这个过程可以无限进行，那么递归的简单情境在哪里？\n",
    "\n",
    "\n",
    "切分的次数有时被称为分形的“度”。递归调用一次，度减去1，直到0度为止。 也就是说，度 0 即为简单情境。"
   ]
  },
  {
   "cell_type": "code",
   "execution_count": 173,
   "metadata": {
    "slideshow": {
     "slide_type": "subslide"
    }
   },
   "outputs": [],
   "source": [
    "import turtle\n",
    "\n",
    "def drawTriangle(points, color, myTurtle):\n",
    "    myTurtle.fillcolor(color)\n",
    "    myTurtle.up()\n",
    "    myTurtle.goto(points[0][0], points[0][1])\n",
    "    myTurtle.down()\n",
    "    myTurtle.begin_fill()\n",
    "    myTurtle.goto(points[1][0], points[1][1])\n",
    "    myTurtle.goto(points[2][0], points[2][1])\n",
    "    myTurtle.goto(points[0][0], points[0][1])\n",
    "    myTurtle.end_fill()\n",
    "\n",
    "def getMid(p1, p2):\n",
    "    return ( (p1[0] + p2[0])/2, (p1[1] + p2[1])/2 )"
   ]
  },
  {
   "cell_type": "code",
   "execution_count": null,
   "metadata": {
    "collapsed": true
   },
   "outputs": [],
   "source": []
  },
  {
   "cell_type": "code",
   "execution_count": 181,
   "metadata": {
    "slideshow": {
     "slide_type": "subslide"
    }
   },
   "outputs": [],
   "source": [
    "def sierpinski(points, degree, myTurtle):\n",
    "    colormap = ['blue', 'red', 'green', 'white', \n",
    "                'yellow', 'violet', 'orange']\n",
    "    drawTriangle(points, colormap[degree], myTurtle)\n",
    "    if degree > 0:\n",
    "        sierpinski([points[0], \n",
    "                    getMid(points[0], points[1]), \n",
    "                    getMid(points[0], points[2])],\n",
    "                   degree-1, myTurtle)\n",
    "        sierpinski([points[1], \n",
    "                    getMid(points[0], points[1]), \n",
    "                    getMid(points[1], points[2])],\n",
    "                   degree-1, myTurtle)\n",
    "        sierpinski([points[2], \n",
    "                    getMid(points[2], points[1]), \n",
    "                    getMid(points[0], points[2])],\n",
    "                   degree-1, myTurtle)\n",
    "\n",
    "def main():\n",
    "    myTurtle = turtle.Turtle()\n",
    "    myTurtle.speed(1)\n",
    "    myWin = turtle.Screen()\n",
    "    myPoints = [[-100,-50], [0,100], [100,-50]]\n",
    "    sierpinski(myPoints, 5, myTurtle)\n",
    "    myWin.exitonclick()\n",
    "\n",
    "main()"
   ]
  },
  {
   "cell_type": "markdown",
   "metadata": {
    "slideshow": {
     "slide_type": "slide"
    }
   },
   "source": [
    "上述代码正是前面思想的实现。\n",
    "\n",
    "* 首先画出外层的三角形\n",
    "* 然后有三个递归调用，每个调用对应中点连线后形成的三个角上新三角形，再次使用turtle模块。 "
   ]
  },
  {
   "cell_type": "markdown",
   "metadata": {
    "slideshow": {
     "slide_type": "slide"
    }
   },
   "source": [
    "从代码分析一下绘制的顺序，顺序其实取决于最初的设定，这里假设三个角的顺序是左、上、右。\n",
    "\n",
    "因为宾斯基算法是递归算法，自我调用，所以它会把最左角上最小的三角形画完，再画其他的小三角形。\n",
    "\n",
    "然后是上部的三角形，它是先把最上面的小三角形画面，再画其他。\n",
    "\n",
    "右边也遵循同样的规律。"
   ]
  },
  {
   "cell_type": "markdown",
   "metadata": {
    "slideshow": {
     "slide_type": "slide"
    }
   },
   "source": [
    "\n",
    "把递归算法用函数调用图的形式有助于理解。\n",
    "\n",
    "下图所示的递归调用，一直是向左的。被调用状态的函数是白色，不活动的函数是灰色的。\n",
    "\n",
    "向下一直到最底层，可以看到，最小的三个函数调用是一次完成的，画完左边，然后是中间，然后是右边。依次类推。"
   ]
  },
  {
   "cell_type": "markdown",
   "metadata": {
    "slideshow": {
     "slide_type": "fragment"
    }
   },
   "source": [
    "<img src='images/stCallTree.png'><img>"
   ]
  },
  {
   "cell_type": "markdown",
   "metadata": {
    "slideshow": {
     "slide_type": "slide"
    }
   },
   "source": [
    "## 汉诺塔问题"
   ]
  },
  {
   "cell_type": "markdown",
   "metadata": {
    "slideshow": {
     "slide_type": "slide"
    }
   },
   "source": [
    "汉诺塔问题是法国数学家Edouard Lucas于1883年受一个传说的启示提出的。\n",
    "\n",
    "据说是印度神庙里传授给年轻僧侣的谜题。开始的时候，给他们三个柱子和一摞64个的金盘，每个盘子都比他下面的一个稍小，他们的任务是把64个盘子从一个传递到另一个，有两条规定：\n",
    "\n",
    "1. 一次只能移动一个盘子\n",
    "2. 不能把大盘子放在小盘子上面。\n",
    "\n",
    "僧侣们非常努力，日夜不休，每秒传递一个盘子，当他们完成工作时，神庙化为灰尘，世界将就此消失。 \n"
   ]
  },
  {
   "cell_type": "markdown",
   "metadata": {
    "slideshow": {
     "slide_type": "slide"
    }
   },
   "source": [
    "完成这64个盘子移动，需要\n",
    "$$\n",
    "2^{64}-1=18,446,744,073,709,551,615 \\mbox{  second}\n",
    "$$\n",
    "也就是说需要$584,942,417,355$年。"
   ]
  },
  {
   "cell_type": "markdown",
   "metadata": {
    "slideshow": {
     "slide_type": "slide"
    }
   },
   "source": [
    "<img src='images/hanoi.png'> <img>"
   ]
  },
  {
   "cell_type": "markdown",
   "metadata": {
    "slideshow": {
     "slide_type": "slide"
    }
   },
   "source": [
    "问题怎样解决？用递归的话，简单情境是什么？我们从下往上思考。\n"
   ]
  },
  {
   "cell_type": "markdown",
   "metadata": {
    "slideshow": {
     "slide_type": "fragment"
    }
   },
   "source": [
    "假设有五个盘子放在1号柱上。如果你知道怎样把4个盘子放到2号柱上，那就可以直接把1号柱的那个盘子放到3号柱上，然后再把4个盘子从2号柱移动到3号柱。\n",
    "\n",
    "\n"
   ]
  },
  {
   "cell_type": "markdown",
   "metadata": {
    "slideshow": {
     "slide_type": "fragment"
    }
   },
   "source": [
    "但是怎样移动4个盘子呢？\n",
    "\n",
    "假设你知道怎么把3个盘子移动到3号柱，那就有办法把第4个盘子移动到2号柱，然后把3个盘子从3号柱移动到2号柱。\n"
   ]
  },
  {
   "cell_type": "markdown",
   "metadata": {
    "slideshow": {
     "slide_type": "fragment"
    }
   },
   "source": [
    "但是你会移动3个盘子吗？\n",
    "\n",
    "那么就把2个盘子先移动2号柱，然后把第3个盘子移动到3号柱，这样行吗？\n",
    "\n",
    "不要告诉我你不会移动2个盘子啊。"
   ]
  },
  {
   "cell_type": "markdown",
   "metadata": {
    "slideshow": {
     "slide_type": "slide"
    }
   },
   "source": [
    "剩下的就是把一个盘子从1号柱移动到3号柱，这就是递归的简单情境."
   ]
  },
  {
   "cell_type": "markdown",
   "metadata": {
    "slideshow": {
     "slide_type": "fragment"
    }
   },
   "source": [
    "把 height 个盘子从“起始柱”通过“中间柱”移动盘子到“目标柱”的过程可描述为：\n",
    "\n",
    "1. 把 height-1 个盘子通过目标柱移动到中间柱上\n",
    "\n",
    "2. 把余下的盘子移动到目标柱上\n",
    "\n",
    "3. 把中间柱上的 height-1 个盘子通过起始柱移动到目标柱上。"
   ]
  },
  {
   "cell_type": "markdown",
   "metadata": {
    "slideshow": {
     "slide_type": "slide"
    }
   },
   "source": [
    "只要遵循这些规则，不管盘子有多少个，都可以通过递归的方式在三步内完成。"
   ]
  },
  {
   "cell_type": "markdown",
   "metadata": {
    "slideshow": {
     "slide_type": "skip"
    }
   },
   "source": [
    "As long as we always obey the rule that the larger disks remain on the bottom of the stack, we can use the three steps above recursively, treating any larger disks as though they were not even there. The only thing missing from the outline above is the identification of a base case. The simplest Tower of Hanoi problem is a tower of one disk. In this case, we need move only a single disk to its final destination. A tower of one disk will be our base case. In addition, the steps outlined above move us toward the base case by reducing the height of the tower in steps 1 and 3."
   ]
  },
  {
   "cell_type": "code",
   "execution_count": 192,
   "metadata": {
    "collapsed": true,
    "slideshow": {
     "slide_type": "fragment"
    }
   },
   "outputs": [],
   "source": [
    "def moveTower(height, fromPole, toPole, withPole):\n",
    "    if height >= 1:\n",
    "        moveTower(height-1, fromPole, withPole, toPole)\n",
    "        moveDisk(fromPole, toPole)\n",
    "        moveTower(height-1, withPole, toPole, fromPole)"
   ]
  },
  {
   "cell_type": "markdown",
   "metadata": {
    "slideshow": {
     "slide_type": "subslide"
    }
   },
   "source": [
    "算法简化的关键点是利用了2个不同的递归。\n",
    "\n",
    "* line 3: 起始柱上只留下一个盘子，其余的全部移走\n",
    "\n",
    "* line 4: 把起始柱上剩下的那个盘子直接移动到目标柱上。\n",
    "\n",
    "* line 5: 把刚才移出的的盘子移动到目标柱上最大的盘子上面。\n",
    "\n",
    "\n",
    "简单情境就是height=0 。这里要记住的重要事情就是：简单情境返回的地方，就是递归函数最后一次调用的地方。"
   ]
  },
  {
   "cell_type": "markdown",
   "metadata": {
    "slideshow": {
     "slide_type": "slide"
    }
   },
   "source": [
    "下面是moveDisk函数的实现，非常简单，只做一件事情就是打印一个盘子从一个柱到另一个柱。如果运行一下程序，你会发现这是一个非常有效的谜题答案。"
   ]
  },
  {
   "cell_type": "code",
   "execution_count": 193,
   "metadata": {
    "collapsed": true,
    "slideshow": {
     "slide_type": "fragment"
    }
   },
   "outputs": [],
   "source": [
    "def moveDisk(fp, tp):\n",
    "    print(\"moving disk from\", fp, \"to\", tp)"
   ]
  },
  {
   "cell_type": "markdown",
   "metadata": {
    "slideshow": {
     "slide_type": "slide"
    }
   },
   "source": [
    "#### 完整程序 "
   ]
  },
  {
   "cell_type": "code",
   "execution_count": 198,
   "metadata": {
    "slideshow": {
     "slide_type": "fragment"
    }
   },
   "outputs": [
    {
     "name": "stdout",
     "output_type": "stream",
     "text": [
      "moving disk from A to C\n",
      "moving disk from A to B\n",
      "moving disk from C to B\n"
     ]
    }
   ],
   "source": [
    "def moveTower(height, fromPole, toPole, withPole):      # 利用withPole, 将height个盘子从fromPole移动到toPole\n",
    "    if height >= 1:\n",
    "        moveTower(height-1, fromPole, withPole, toPole)\n",
    "        moveDisk(fromPole, toPole)\n",
    "        moveTower(height-1, withPole, toPole, fromPole)\n",
    "\n",
    "def moveDisk(fp,tp):\n",
    "    print(\"moving disk from\", fp, \"to\", tp)\n",
    "\n",
    "moveTower(2, \"A\", \"B\", \"C\")"
   ]
  },
  {
   "cell_type": "markdown",
   "metadata": {
    "slideshow": {
     "slide_type": "skip"
    }
   },
   "source": [
    "在看过moveTower和moveDisk之后，你也许想知道，为什么不用一个数据结构来清晰地跟踪哪个柱子上有哪些盘子。这里有个提示：如果要跟踪的话，需要三个栈对象，每个柱子一个。答案是，python提供了我们需要的栈，但是通过调用栈隐性实现的。"
   ]
  },
  {
   "cell_type": "markdown",
   "metadata": {
    "slideshow": {
     "slide_type": "slide"
    }
   },
   "source": [
    "##  探索迷宫"
   ]
  },
  {
   "cell_type": "markdown",
   "metadata": {
    "slideshow": {
     "slide_type": "slide"
    }
   },
   "source": [
    "设置一个虚拟迷宫，帮助小乌龟走出迷宫。\n",
    "\n",
    "迷宫问题可追溯到古希腊神话提修斯被派到一个迷宫去杀死牛头怪，提修斯用线球一边走一边放线，在完成任务以后沿着线走出来。\n",
    "\n",
    "\n",
    "在现在这个问题中，我们假设小乌龟被扔到迷宫的某处，必须找到出口以逃出生死。"
   ]
  },
  {
   "cell_type": "markdown",
   "metadata": {
    "slideshow": {
     "slide_type": "slide"
    }
   },
   "source": [
    "<img src='images/maze.png'> <img>"
   ]
  },
  {
   "cell_type": "markdown",
   "metadata": {
    "slideshow": {
     "slide_type": "slide"
    }
   },
   "source": [
    "为简化问题，我们假设迷宫被分成一个个方块，每个方块或者是空地或者是墙，小乌龟只能走空地，如果遇到墙就必须转向。我们设定小乌龟的走路规则：\n",
    "\n",
    "* 开始时，尝试向北走一步，并重复；\n",
    "* 如果向北不成功，向南并重复；\n",
    "* 如果向南不行，改向西并重复；\n",
    "* 如果向北、南、西都不行，改向东并重复。\n",
    "* 如果四个方向都不行，失败。"
   ]
  },
  {
   "cell_type": "markdown",
   "metadata": {
    "slideshow": {
     "slide_type": "slide"
    }
   },
   "source": [
    "\n",
    "如果第一步是向北，按上面的步骤，下一步仍然是向北。\n",
    "\n",
    "如果北面被堵了，那么第二步是向南，不幸的是，它是从南边来的，那不又回去了吗?\n",
    "\n",
    "\n",
    "如果这样递归，就是在向北向南之间无限循环，所以必须要有个办法，记住去过哪里。\n",
    "\n"
   ]
  },
  {
   "cell_type": "markdown",
   "metadata": {},
   "source": [
    "假设小乌龟背了一袋破了洞的面粉，若走到某一方向发现了地上有面粉，就应该立即退回并尝试下一个方向。\n",
    "\n",
    "对于该问题，有可能的四种简单情境：\n",
    "\n",
    "* 乌龟跑到墙里面了；\n",
    "\n",
    "* 发现一个已经探索过的地方，停止继续，否则进入死循环；\n",
    "\n",
    "* 发现了出口；\n",
    "\n",
    "* 进入一个方块，四个方向都出不来。"
   ]
  },
  {
   "cell_type": "markdown",
   "metadata": {
    "slideshow": {
     "slide_type": "slide"
    }
   },
   "source": [
    "### 迷宫对象\n",
    "\n",
    "要让程序跑起来，我们还需要一个迷宫。\n",
    "\n",
    "迷宫对象提供以下方法：\n",
    "\n",
    "| 方法        | 含义 |\n",
    "| ------------- |:-------------:|  \n",
    "| \\_\\_init\\_\\_ | 读取数据文件，初始化迷宫参数，找到小乌龟的初始位置|\n",
    "| drawMaze| 在窗口里画出迷宫|\n",
    "| updatePosition| 更新迷宫的内部状态，变更小乌龟的位置|\n",
    "| isExit| 检查当前位置是否为迷宫的出口|\n",
    "\n",
    "Maze类重载了索引操作符[ ]以便算法查询任何广场的状态。"
   ]
  },
  {
   "cell_type": "markdown",
   "metadata": {
    "slideshow": {
     "slide_type": "slide"
    }
   },
   "source": [
    "### searchFrom函数\n",
    "\n",
    "传入三个参数：\n",
    "\n",
    "* 迷宫对象\n",
    "* 初始横坐标\n",
    "* 初始纵坐标。\n",
    "\n",
    "\n",
    "这是因为每次递归调用都重新开始。"
   ]
  },
  {
   "cell_type": "code",
   "execution_count": 207,
   "metadata": {
    "slideshow": {
     "slide_type": "subslide"
    }
   },
   "outputs": [],
   "source": [
    "def searchFrom(maze, startRow, startColumn):\n",
    "    maze.updatePosition(startRow, startColumn)\n",
    "   #  Check for base cases:\n",
    "   #  1. We have run into an obstacle, return false\n",
    "    if maze[startRow][startColumn] == OBSTACLE:\n",
    "        return False\n",
    "    #  2. We have found a square that has already been explored\n",
    "    if maze[startRow][startColumn] == TRIED:\n",
    "        return False\n",
    "    # 3. Success, an outside edge not occupied by an obstacle\n",
    "    if maze.isExit(startRow, startColumn):\n",
    "        maze.updatePosition(startRow, startColumn, PART_OF_PATH)\n",
    "        return True\n",
    "    maze.updatePosition(startRow, startColumn, TRIED)\n",
    "\n",
    "    # Otherwise, use logical short circuiting to try each\n",
    "    # direction in turn (if needed)\n",
    "    found = searchFrom(maze, startRow-1, startColumn  ) or \\\n",
    "            searchFrom(maze, startRow+1, startColumn  ) or \\\n",
    "            searchFrom(maze, startRow,   startColumn-1) or \\\n",
    "            searchFrom(maze, startRow,   startColumn+1)\n",
    "    if found:\n",
    "        maze.updatePosition(startRow, startColumn, PART_OF_PATH)\n",
    "    else:\n",
    "        maze.updatePosition(startRow, startColumn, DEAD_END)\n",
    "    return found"
   ]
  },
  {
   "cell_type": "markdown",
   "metadata": {
    "slideshow": {
     "slide_type": "subslide"
    }
   },
   "source": [
    "line 2: 调用updatePosition，这是为了及时更新画面，好让你能精确地看到小乌龟的探索过程。\n",
    "\n",
    "紧接着算法检查了四个简单情境中的三个：\n",
    "\n",
    "* line 5: 走到墙里了吗？\n",
    "* line 8: 走回头路了吗？\n",
    "* line 11: 找到出口了吗?\n",
    "\n",
    "如果以上都不对，继续递归搜索。\n",
    "\n"
   ]
  },
  {
   "cell_type": "markdown",
   "metadata": {
    "slideshow": {
     "slide_type": "subslide"
    }
   },
   "source": [
    "该函数4次递归调用了searchFrom。程序执行过程中很难预测递归被调用了多少次，因为他们之间用or连在一起。\n",
    "\n",
    "\n",
    "如果第一次调用返回True，另外的三个调用都不会执行。你可以把移动到（row-1,column）理解为走向出口的一步，如果这一步并不导向出口，那么下一个递归被调用，下次向南探索，向南失败，就向西探索，向西失败，再向东探索。如果所有四个方向都失败了，就是在死角。 "
   ]
  },
  {
   "cell_type": "markdown",
   "metadata": {
    "slideshow": {
     "slide_type": "slide"
    }
   },
   "source": [
    "### Maze类"
   ]
  },
  {
   "cell_type": "markdown",
   "metadata": {
    "slideshow": {
     "slide_type": "subslide"
    }
   },
   "source": [
    "#### \\_\\_init\\_\\_方法\n",
    "\n",
    "只一个文件名参数。这个文件一个文本文件，用”+”代表墙，空格代表空地，字母S代表起始点。\n",
    "\n",
    "下图是个迷宫数据文件的样例。 "
   ]
  },
  {
   "cell_type": "code",
   "execution_count": null,
   "metadata": {
    "collapsed": true,
    "slideshow": {
     "slide_type": "fragment"
    }
   },
   "outputs": [],
   "source": [
    "[ ['+','+','+','+',...,'+','+','+','+','+','+','+'],\n",
    "  ['+',' ',' ',' ',...,' ',' ',' ','+',' ',' ',' '],\n",
    "  ['+',' ','+',' ',...,'+','+',' ','+',' ','+','+'],\n",
    "  ['+',' ','+',' ',...,' ',' ',' ','+',' ','+','+'],\n",
    "  ['+','+','+',' ',...,'+','+',' ','+',' ',' ','+'],\n",
    "  ['+',' ',' ',' ',...,'+','+',' ',' ',' ',' ','+'],\n",
    "  ['+','+','+','+',...,'+','+','+','+','+',' ','+'],\n",
    "  ['+',' ',' ',' ',...,'+','+',' ',' ','+',' ','+'],\n",
    "  ['+',' ','+','+',...,' ',' ','+',' ',' ',' ','+'],\n",
    "  ['+',' ',' ',' ',...,' ',' ','+',' ','+','+','+'],\n",
    "  ['+','+','+','+',...,'+','+','+',' ','+','+','+']]"
   ]
  },
  {
   "cell_type": "markdown",
   "metadata": {
    "slideshow": {
     "slide_type": "slide"
    }
   },
   "source": [
    "#### drawMaze方法\n",
    "\n",
    "使用内部表示在屏幕窗口画出迷宫。"
   ]
  },
  {
   "cell_type": "code",
   "execution_count": null,
   "metadata": {
    "collapsed": true,
    "slideshow": {
     "slide_type": "fragment"
    }
   },
   "outputs": [],
   "source": [
    "++++++++++++++++++++++\n",
    "+   +   ++ ++     +\n",
    "+ +   +       +++ + ++\n",
    "+ + +  ++  ++++   + ++\n",
    "+++ ++++++    +++ +  +\n",
    "+          ++  ++    +\n",
    "+++++ ++++++   +++++ +\n",
    "+     +   +++++++  + +\n",
    "+ +++++++      S +   +\n",
    "+                + +++\n",
    "++++++++++++++++++ +++"
   ]
  },
  {
   "cell_type": "markdown",
   "metadata": {
    "slideshow": {
     "slide_type": "slide"
    }
   },
   "source": [
    "#### updatePosition方法\n",
    "\n",
    "使用内部表示来检查是否走进墙里，也用用“.”和”-”来更新内部表示，来标明小乌龟是否走过某个广场，或者这个广场在死角里。另外，updatePosition方法使用了两个辅助方法，moveTurtle和dropBreadCrumb用来更新视图。 "
   ]
  },
  {
   "cell_type": "markdown",
   "metadata": {
    "slideshow": {
     "slide_type": "slide"
    }
   },
   "source": [
    "#### isExit方法\n",
    "\n",
    "使用当前位置判断判断是否走出迷宫，一个退出条件是无论何时小乌龟走到边缘，横坐标或纵坐标为0，或最右边列，或最下面一行。"
   ]
  },
  {
   "cell_type": "code",
   "execution_count": 40,
   "metadata": {
    "collapsed": true,
    "slideshow": {
     "slide_type": "slide"
    }
   },
   "outputs": [],
   "source": [
    "class Maze:\n",
    "    def __init__(self, mazeFileName):\n",
    "        rowsInMaze = 0\n",
    "        columnsInMaze = 0\n",
    "        self.mazelist = []\n",
    "        mazeFile = open(mazeFileName,'r')\n",
    "        rowsInMaze = 0\n",
    "        for line in mazeFile:\n",
    "            rowList = []\n",
    "            col = 0\n",
    "            for ch in line[:-1]:\n",
    "                rowList.append(ch)\n",
    "                if ch == 'S':\n",
    "                    self.startRow = rowsInMaze\n",
    "                    self.startCol = col\n",
    "                col = col + 1\n",
    "            rowsInMaze = rowsInMaze + 1\n",
    "            self.mazelist.append(rowList)\n",
    "            columnsInMaze = len(rowList)\n",
    "\n",
    "        self.rowsInMaze = rowsInMaze\n",
    "        self.columnsInMaze = columnsInMaze\n",
    "        self.xTranslate = -columnsInMaze/2\n",
    "        self.yTranslate = rowsInMaze/2\n",
    "        self.t = Turtle(shape='turtle')\n",
    "        setup(width=600,height=600)\n",
    "        setworldcoordinates(-(columnsInMaze-1)/2-.5,\n",
    "                            -(rowsInMaze-1)/2-.5,\n",
    "                            (columnsInMaze-1)/2+.5,\n",
    "                            (rowsInMaze-1)/2+.5)"
   ]
  },
  {
   "cell_type": "code",
   "execution_count": null,
   "metadata": {
    "collapsed": true,
    "slideshow": {
     "slide_type": "subslide"
    }
   },
   "outputs": [],
   "source": [
    "def drawMaze(self):\n",
    "    for y in range(self.rowsInMaze):\n",
    "        for x in range(self.columnsInMaze):\n",
    "            if self.mazelist[y][x] == OBSTACLE:\n",
    "                self.drawCenteredBox(x+self.xTranslate,\n",
    "                                     -y+self.yTranslate,\n",
    "                                     'tan')\n",
    "    self.t.color('black','blue')"
   ]
  },
  {
   "cell_type": "code",
   "execution_count": null,
   "metadata": {
    "collapsed": true,
    "slideshow": {
     "slide_type": "subslide"
    }
   },
   "outputs": [],
   "source": [
    "def drawCenteredBox(self,x,y,color):\n",
    "    tracer(0)\n",
    "    self.t.up()\n",
    "    self.t.goto(x-.5,y-.5)\n",
    "    self.t.color('black',color)\n",
    "    self.t.setheading(90)\n",
    "    self.t.down()\n",
    "    self.t.begin_fill()\n",
    "    for i in range(4):\n",
    "        self.t.forward(1)\n",
    "        self.t.right(90)\n",
    "    self.t.end_fill()\n",
    "    update()\n",
    "    tracer(1)"
   ]
  },
  {
   "cell_type": "code",
   "execution_count": null,
   "metadata": {
    "collapsed": true,
    "slideshow": {
     "slide_type": "subslide"
    }
   },
   "outputs": [],
   "source": [
    "def moveTurtle(self,x,y):\n",
    "    self.t.up()\n",
    "    self.t.setheading(self.t.towards(x+self.xTranslate,\n",
    "                                     -y+self.yTranslate))\n",
    "    self.t.goto(x+self.xTranslate,-y+self.yTranslate)\n",
    "\n",
    "def dropBreadcrumb(self,color):\n",
    "    self.t.dot(color)"
   ]
  },
  {
   "cell_type": "code",
   "execution_count": null,
   "metadata": {
    "collapsed": true,
    "slideshow": {
     "slide_type": "subslide"
    }
   },
   "outputs": [],
   "source": [
    "def updatePosition(self,row,col,val=None):\n",
    "    if val:\n",
    "        self.mazelist[row][col] = val\n",
    "    self.moveTurtle(col,row)\n",
    "\n",
    "    if val == PART_OF_PATH:\n",
    "        color = 'green'\n",
    "    elif val == OBSTACLE:\n",
    "        color = 'red'\n",
    "    elif val == TRIED:\n",
    "        color = 'black'\n",
    "    elif val == DEAD_END:\n",
    "        color = 'red'\n",
    "    else:\n",
    "        color = None\n",
    "\n",
    "    if color:\n",
    "        self.dropBreadcrumb(color)"
   ]
  },
  {
   "cell_type": "code",
   "execution_count": null,
   "metadata": {
    "collapsed": true,
    "slideshow": {
     "slide_type": "subslide"
    }
   },
   "outputs": [],
   "source": [
    "def isExit(self,row,col):\n",
    "     return (row == 0 or\n",
    "             row == self.rowsInMaze-1 or\n",
    "             col == 0 or\n",
    "             col == self.columnsInMaze-1 )\n",
    "\n",
    "def __getitem__(self,idx):\n",
    "     return self.mazelist[idx]"
   ]
  },
  {
   "cell_type": "code",
   "execution_count": null,
   "metadata": {
    "collapsed": true,
    "slideshow": {
     "slide_type": "subslide"
    }
   },
   "outputs": [],
   "source": [
    "import turtle\n",
    "\n",
    "PART_OF_PATH = 'O'\n",
    "TRIED = '.'\n",
    "OBSTACLE = '+'\n",
    "DEAD_END = '-'\n",
    "\n",
    "myMaze = Maze('maze2.txt')\n",
    "myMaze.drawMaze()\n",
    "myMaze.updatePosition(myMaze.startRow,myMaze.startCol)\n",
    "\n",
    "searchFrom(myMaze, myMaze.startRow, myMaze.startCol)"
   ]
  }
 ],
 "metadata": {
  "celltoolbar": "Slideshow",
  "kernelspec": {
   "display_name": "Python 3",
   "language": "python",
   "name": "python3"
  },
  "language_info": {
   "codemirror_mode": {
    "name": "ipython",
    "version": 3
   },
   "file_extension": ".py",
   "mimetype": "text/x-python",
   "name": "python",
   "nbconvert_exporter": "python",
   "pygments_lexer": "ipython3",
   "version": "3.5.2"
  }
 },
 "nbformat": 4,
 "nbformat_minor": 2
}
