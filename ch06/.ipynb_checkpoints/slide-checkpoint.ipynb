{
 "cells": [
  {
   "cell_type": "markdown",
   "metadata": {
    "slideshow": {
     "slide_type": "slide"
    }
   },
   "source": [
    "# 树\n",
    "\n"
   ]
  },
  {
   "cell_type": "markdown",
   "metadata": {
    "slideshow": {
     "slide_type": "slide"
    }
   },
   "source": [
    "# 学习目标\n",
    "\n",
    "* 理解树的定义及其使用方法\n",
    "\n",
    "* 使用树来实现映射\n",
    "\n",
    "* 使用列表来实现树\n",
    "\n",
    "* 使用类和引用实现树\n",
    "\n",
    "* 用递归实现树\n",
    "\n",
    "* 用堆实现优先队列\n"
   ]
  },
  {
   "cell_type": "markdown",
   "metadata": {
    "slideshow": {
     "slide_type": "slide"
    }
   },
   "source": [
    "# 树的例子"
   ]
  },
  {
   "cell_type": "markdown",
   "metadata": {
    "slideshow": {
     "slide_type": "slide"
    }
   },
   "source": [
    "\n",
    "\n",
    "树在计算机科学中应用广泛，如\n",
    "\n",
    "* 操作系统\n",
    "* 图形学\n",
    "* 数据库系统\n",
    "* 网络\n",
    "\n",
    "都要用到树。"
   ]
  },
  {
   "cell_type": "markdown",
   "metadata": {
    "slideshow": {
     "slide_type": "fragment"
    }
   },
   "source": [
    "树和自然界中的树非常相似，也有根、有分枝、有叶子。不同之处是，数据结构的树，根在顶上，而叶子在底部。"
   ]
  },
  {
   "cell_type": "markdown",
   "metadata": {
    "slideshow": {
     "slide_type": "slide"
    }
   },
   "source": [
    "### 例1 生物学上的分级树\n",
    "\n",
    "<img src='images/biology.jpg' width=400> <img>\n",
    "\n",
    "\n"
   ]
  },
  {
   "cell_type": "markdown",
   "metadata": {
    "slideshow": {
     "slide_type": "slide"
    }
   },
   "source": [
    "\n",
    "由这个例子中可以看到树的一些性质：\n",
    "* 树是分级的。 \n",
    "\n",
    "    * 通过分级，形成层级结构，越接近上层的越是一般的共性，底部则是一些具体的东西。\n",
    "    * 顶级的是“界”，第二级是“门”，然后是“纲”，如此等等。\n",
    "    * 不管到分级树的多少层，所有的生物体都是动物界。"
   ]
  },
  {
   "cell_type": "markdown",
   "metadata": {
    "slideshow": {
     "slide_type": "skip"
    }
   },
   "source": [
    "你查以从顶部开始，沿着圆圈和箭头组成的路径一直下到底部。在树的每层上，我们都可以问自己一个问题，而且沿着同意的答案走。例如你可以问：“这个动物是脊索动物还是节足动物？”，如果答案是“脊索动物”，那么就沿着脊索动物向下，“这个脊索动物是哺乳动物吗？”如果不是，我们就被困住了（当然，仅限于图中的资料才会困住），如果是在哺乳动物层次上问，“这个哺乳动物是灵长类还是食肉类？”，这种问题可以一直问下去，直到最底层找到动物的名字。"
   ]
  },
  {
   "cell_type": "markdown",
   "metadata": {
    "slideshow": {
     "slide_type": "slide"
    }
   },
   "source": [
    "* 一个节点的所有孩子独立于另一个节点的孩子。\n",
    "  \n",
    "   * 猫属有两个孩子，家猫种和狮子种\n",
    "   \n",
    "   * 蝇属有一个孩子叫家蝇种\n",
    "   \n",
    "   * 但是它的节点不同，与猫属的孩子完全独立。\n",
    "   \n",
    "   这意味着，我们改变蝇属的孩子不会影响到猫属的孩子。"
   ]
  },
  {
   "cell_type": "markdown",
   "metadata": {
    "slideshow": {
     "slide_type": "slide"
    }
   },
   "source": [
    "* 每个叶子节点是唯一的。\n",
    "\n",
    "  我们可以从动物“界”开始，从根到叶沿着规定的路线唯一地定义每一个物种。例如\n",
    "  \n",
    "    动物界→脊索动物门→哺乳动物纲→食肉目→猫科→猫属→猫种→家猫"
   ]
  },
  {
   "cell_type": "markdown",
   "metadata": {
    "slideshow": {
     "slide_type": "slide"
    }
   },
   "source": [
    "### 例2、文件系统。\n",
    "\n",
    "文件系统里中的每个目录或文件夹都是是树形结构。"
   ]
  },
  {
   "cell_type": "markdown",
   "metadata": {
    "slideshow": {
     "slide_type": "slide"
    }
   },
   "source": [
    "<img src='images/directory.png'> <img>"
   ]
  },
  {
   "cell_type": "markdown",
   "metadata": {
    "slideshow": {
     "slide_type": "fragment"
    }
   },
   "source": [
    "文件系统与生物层级系统很相似，也可以沿着一条路径从根到任何目录，路径可以唯一地确定一个子目标和他下面的所有文件。"
   ]
  },
  {
   "cell_type": "markdown",
   "metadata": {
    "slideshow": {
     "slide_type": "slide"
    }
   },
   "source": [
    "### 网页\n",
    "\n"
   ]
  },
  {
   "cell_type": "code",
   "execution_count": null,
   "metadata": {
    "collapsed": true,
    "slideshow": {
     "slide_type": "fragment"
    }
   },
   "outputs": [],
   "source": [
    "<html xmlns=\"http://www.w3.org/1999/xhtml\"  \n",
    "      xml:lang=\"en\" lang=\"en\">  \n",
    "        \n",
    "<head>  \n",
    "    <meta http-equiv=\"Content-Type\"  \n",
    "          content=\"text/html; charset=utf-8\" />  \n",
    "    <title>simple</title>  \n",
    "</head>  \n",
    "\n",
    "<body>  \n",
    "\n",
    "<h1>A simple web page</h1>  \n",
    "<ul>  \n",
    "    <li>List item one</li>  \n",
    "    <li>List item two</li>  \n",
    "</ul>  \n",
    "\n",
    "<h2><a href=\"http://www.cs.luther.edu\">Luther CS </a><h2>  \n",
    "\n",
    "</body>  \n",
    "\n",
    "</html>"
   ]
  },
  {
   "cell_type": "markdown",
   "metadata": {
    "slideshow": {
     "slide_type": "slide"
    }
   },
   "source": [
    "<img src='images/htmltree.png'> <img>"
   ]
  },
  {
   "cell_type": "markdown",
   "metadata": {
    "slideshow": {
     "slide_type": "slide"
    }
   },
   "source": [
    "# 树的定义和基本概念 "
   ]
  },
  {
   "cell_type": "markdown",
   "metadata": {
    "slideshow": {
     "slide_type": "slide"
    }
   },
   "source": [
    "## 节点\n",
    "\n",
    "节点是树的基本元素。\n",
    "\n",
    "* 它可以有个名字，叫做“键值”。\n",
    "\n",
    "* 节点也许有更多的附加信息，称为“负载”。\n",
    "\n",
    "* 在树的算法中，负载不是核心问题，但在实际问题中用到树的时候，负载经常成为关键元素。"
   ]
  },
  {
   "cell_type": "markdown",
   "metadata": {
    "slideshow": {
     "slide_type": "fragment"
    }
   },
   "source": [
    "## 边\n",
    "\n",
    "边是树的另一个基本元素。\n",
    "\n",
    "* 一条边把两个节点连起来表示他们之间的关系。\n",
    "\n",
    "* 每个节点（除根节点外）都有一条从其他节点伸过来的入边连着，而且每个节点可能伸出去好几条出边。\n"
   ]
  },
  {
   "cell_type": "markdown",
   "metadata": {
    "slideshow": {
     "slide_type": "slide"
    }
   },
   "source": [
    "## 根\n",
    "\n",
    "根是树结构中，唯一没有入边的节点。 "
   ]
  },
  {
   "cell_type": "markdown",
   "metadata": {
    "slideshow": {
     "slide_type": "slide"
    }
   },
   "source": [
    "## 路径\n",
    "\n",
    "路径就是边连接而成的有序列表，元素是节点。\n",
    "\n",
    "例如：哺乳纲→ 肉食目 → 猫科 → 猫属 → 家猫种 就是一条路径。\n"
   ]
  },
  {
   "cell_type": "markdown",
   "metadata": {
    "slideshow": {
     "slide_type": "slide"
    }
   },
   "source": [
    "## 孩子\n",
    "\n",
    "**入边来自同一个节点**的节点集合，叫做那个节点的孩子。 \n"
   ]
  },
  {
   "cell_type": "markdown",
   "metadata": {
    "slideshow": {
     "slide_type": "fragment"
    }
   },
   "source": [
    "## 父母\n",
    "\n",
    "一个节点的出边指向其他节点，它就是这些节点的父母。 \n"
   ]
  },
  {
   "cell_type": "markdown",
   "metadata": {
    "slideshow": {
     "slide_type": "fragment"
    }
   },
   "source": [
    "## 兄弟\n",
    "\n",
    "同一父母的节点叫做兄弟。 \n"
   ]
  },
  {
   "cell_type": "markdown",
   "metadata": {
    "slideshow": {
     "slide_type": "slide"
    }
   },
   "source": [
    "## 子树\n",
    "\n",
    "子树是指一个父母节点和其子孙节点和边组成的集合。\n"
   ]
  },
  {
   "cell_type": "markdown",
   "metadata": {
    "slideshow": {
     "slide_type": "fragment"
    }
   },
   "source": [
    "## 叶子节点\n",
    "\n",
    "叶子节点指没有孩子的节点。 \n"
   ]
  },
  {
   "cell_type": "markdown",
   "metadata": {
    "slideshow": {
     "slide_type": "fragment"
    }
   },
   "source": [
    "## 层次\n",
    "\n",
    "节点的层次，是指从根到这个节点经过的边的数量。 \n"
   ]
  },
  {
   "cell_type": "markdown",
   "metadata": {
    "slideshow": {
     "slide_type": "fragment"
    }
   },
   "source": [
    "## 高度\n",
    "\n",
    "树的高度是指它所有节点层次的最大值。 "
   ]
  },
  {
   "cell_type": "markdown",
   "metadata": {
    "slideshow": {
     "slide_type": "slide"
    }
   },
   "source": [
    "## 树的定义(I)\n",
    "\n",
    "树包括节点的集合以及连接节点的边的集合。树有以下性质：\n",
    "\n",
    "* 一个节点的树称为根节点;\n",
    "\n",
    "* 对于任意节点 n，除了根节点，都要被另外的唯一节点 p 所连接，此时 p 是 n 的父母;\n",
    "\n",
    "* 从根到任意节点有一条唯一的路径。"
   ]
  },
  {
   "cell_type": "markdown",
   "metadata": {
    "slideshow": {
     "slide_type": "fragment"
    }
   },
   "source": [
    "如果每个节点最多有两个孩子，我们把这种树称为**二叉树**。"
   ]
  },
  {
   "cell_type": "markdown",
   "metadata": {
    "slideshow": {
     "slide_type": "slide"
    }
   },
   "source": [
    "<img src='images/treedef1.png'> <img>"
   ]
  },
  {
   "cell_type": "markdown",
   "metadata": {
    "slideshow": {
     "slide_type": "slide"
    }
   },
   "source": [
    "## 树的定义(II)\n",
    "\n",
    "树或者是一个空集，或者是包括一个根节点和0个或多个子树，每个子树也是树。每个子树的根连到父母树的根。"
   ]
  },
  {
   "cell_type": "markdown",
   "metadata": {
    "slideshow": {
     "slide_type": "fragment"
    }
   },
   "source": [
    "<img src='images/TreeDefRecursive.png'> <img>"
   ]
  },
  {
   "cell_type": "markdown",
   "metadata": {
    "slideshow": {
     "slide_type": "slide"
    }
   },
   "source": [
    "# 树的实现\n",
    "\n"
   ]
  },
  {
   "cell_type": "markdown",
   "metadata": {
    "slideshow": {
     "slide_type": "slide"
    }
   },
   "source": [
    "在树的定义的基础上，用以下函数创建并操作二叉树：\n",
    "\n",
    "* <code> BinaryTree() </code> 创建一个二叉树实例\n",
    "* <code> getLeftChild() </code> 返回节点的左孩子\n",
    "* <code> getRightChild() </code> 返回节点的右孩子\n",
    "* <code> setRootVal(val) </code> 把val变量值赋给当前节点\n",
    "* <code> getRootVal() </code> 返回当前节点对象。\n",
    "* <code> insertLeft(val) </code> 创建一个新二叉树作为当前节点的左孩子\n",
    "* <code> insertRight(val) </code> 创建一个新二叉树作为当前节点的右孩子。\n"
   ]
  },
  {
   "cell_type": "markdown",
   "metadata": {
    "slideshow": {
     "slide_type": "slide"
    }
   },
   "source": [
    "实现树的关键点是合适的存储技术。\n",
    "\n",
    "Python提供两种可用方法：\n",
    "\n",
    "* 列表的列表\n",
    "\n",
    "* 节点与引用"
   ]
  },
  {
   "cell_type": "markdown",
   "metadata": {
    "slideshow": {
     "slide_type": "slide"
    }
   },
   "source": [
    "# 列表的列表表示法\n"
   ]
  },
  {
   "cell_type": "markdown",
   "metadata": {},
   "source": [
    "该方法中，我们使用列表来实现上面的函数，虽然这种方式与之前的抽象数据结构不一样，但它是一个简单的递归结构，可以直接查看和检查。\n",
    "\n",
    "在列表的列表树中，\n",
    "\n",
    "* 根节点的数值是列表的第一个元素，\n",
    "* 第二个元素是它的左子树，\n",
    "* 第三个元素就是它的右子树。 "
   ]
  },
  {
   "cell_type": "markdown",
   "metadata": {
    "slideshow": {
     "slide_type": "fragment"
    }
   },
   "source": [
    "<img src='images/smalltree.png'> <img>"
   ]
  },
  {
   "cell_type": "code",
   "execution_count": 12,
   "metadata": {
    "collapsed": true,
    "slideshow": {
     "slide_type": "slide"
    }
   },
   "outputs": [],
   "source": [
    "myTree = ['a',            #root  \n",
    "          ['b',           #left subtree\n",
    "           ['d', [], []],\n",
    "           ['e', [], []] ], \n",
    "          ['c',           #right subtree\n",
    "           ['f', [], []], \n",
    "           [] ]\n",
    "         ]  "
   ]
  },
  {
   "cell_type": "markdown",
   "metadata": {
    "slideshow": {
     "slide_type": "fragment"
    }
   },
   "source": [
    "\n",
    "* 直接用列表的索引来访问子树。\n",
    "\n",
    "   * 树根是<code>myTree[0]</code>\n",
    "   * 左子树是<code>myTree[1]</code>\n",
    "   * 右子树是<code>myTree[2]</code>。\n",
    "  \n",
    " "
   ]
  },
  {
   "cell_type": "code",
   "execution_count": 13,
   "metadata": {
    "slideshow": {
     "slide_type": "slide"
    }
   },
   "outputs": [
    {
     "name": "stdout",
     "output_type": "stream",
     "text": [
      "['a', ['b', ['d', [], []], ['e', [], []]], ['c', ['f', [], []], []]]\n",
      "('left subtree = ', ['b', ['d', [], []], ['e', [], []]])\n",
      "('root = ', 'a')\n",
      "('right subtree = ', ['c', ['f', [], []], []])\n"
     ]
    }
   ],
   "source": [
    "print(myTree)  \n",
    "print('left subtree = ', myTree[1])  \n",
    "print('root = ', myTree[0])  \n",
    "print('right subtree = ', myTree[2]) "
   ]
  },
  {
   "cell_type": "markdown",
   "metadata": {
    "slideshow": {
     "slide_type": "skip"
    }
   },
   "source": [
    " 下面的代码就是用列表创建了一棵树，完成之后，就可以访问它的根和子树，它的好处在于列表中的“元素列表”就代表了子树，与树有相同的结构，所以它的结构是递归的。如果一个子树有根节点，但是左右子树都是空列表，那么它就是叶子。另一个好处是这种方法产生的树可以推广到“多叉树”而不仅是二叉树，因为另一个子树也不过是一个列表而已。"
   ]
  },
  {
   "cell_type": "markdown",
   "metadata": {
    "slideshow": {
     "slide_type": "slide"
    }
   },
   "source": [
    "现在来为这种**树型结构**定义一些函数以方便使用。\n",
    "\n",
    "注意：我们没有定义一个二叉树类，这些函数只是帮助操作一个列表，即使工作对象是一个树。"
   ]
  },
  {
   "cell_type": "code",
   "execution_count": 14,
   "metadata": {
    "collapsed": true,
    "slideshow": {
     "slide_type": "slide"
    }
   },
   "outputs": [],
   "source": [
    "def BinaryTree(r):\n",
    "    return [r, [], []]"
   ]
  },
  {
   "cell_type": "markdown",
   "metadata": {
    "slideshow": {
     "slide_type": "fragment"
    }
   },
   "source": [
    "<code>BinaryTree</code>函数简单地创建了一个列表，其中有一个根节点和两个孩子（为空列表）。"
   ]
  },
  {
   "cell_type": "markdown",
   "metadata": {
    "slideshow": {
     "slide_type": "slide"
    }
   },
   "source": [
    "要增加左子树的话，就要插入一个新列表到根列表的第1号位置上。\n",
    "\n",
    "注意：如果第1号位置上已经保存了数据，需要跟踪这个数据，并把它下压一级，作为新插入列表的左孩子。"
   ]
  },
  {
   "cell_type": "code",
   "execution_count": 18,
   "metadata": {
    "collapsed": true,
    "slideshow": {
     "slide_type": "fragment"
    }
   },
   "outputs": [],
   "source": [
    "def insertLeft(root, newBranch):\n",
    "    t= root.pop(1)\n",
    "    if len(t) > 1:\n",
    "       root.insert(1, [newBranch, t, []])\n",
    "    else:\n",
    "       root.insert(1, [newBranch, [], []])\n",
    "    return root"
   ]
  },
  {
   "cell_type": "markdown",
   "metadata": {
    "slideshow": {
     "slide_type": "fragment"
    }
   },
   "source": [
    "注意，要插入左孩子，先得到原来左孩子位置的列表（可能是空的），当加入新左孩子的时候，把原来的左孩子作为新节点的孩子。这样，我们可以把新节点放在树中任何位置。"
   ]
  },
  {
   "cell_type": "markdown",
   "metadata": {
    "slideshow": {
     "slide_type": "slide"
    }
   },
   "source": [
    "插入右孩子的代码也很相似"
   ]
  },
  {
   "cell_type": "code",
   "execution_count": 19,
   "metadata": {
    "collapsed": true,
    "slideshow": {
     "slide_type": "fragment"
    }
   },
   "outputs": [],
   "source": [
    "def insertRight(root,newBranch):\n",
    "    t= root.pop(2)\n",
    "    if len(t) > 1:\n",
    "       root.insert(2, [newBranch, [], t])\n",
    "    else:\n",
    "       root.insert(2, [newBranch, [], []])\n",
    "    return root"
   ]
  },
  {
   "cell_type": "markdown",
   "metadata": {
    "slideshow": {
     "slide_type": "slide"
    }
   },
   "source": [
    "以下为取值函数和赋值函数，针对根节点和左、右子树。"
   ]
  },
  {
   "cell_type": "code",
   "execution_count": 22,
   "metadata": {
    "collapsed": true,
    "slideshow": {
     "slide_type": "fragment"
    }
   },
   "outputs": [],
   "source": [
    "def getRootVal(root):\n",
    "    return root[0]\n",
    " \n",
    "def setRootVal(root, newVal):\n",
    "    root[0] = newVal\n",
    "\n",
    "def getLeftChild(root):\n",
    "    return root[1]\n",
    " \n",
    "def getRightChild(root):\n",
    "    return root[2]"
   ]
  },
  {
   "cell_type": "markdown",
   "metadata": {
    "slideshow": {
     "slide_type": "slide"
    }
   },
   "source": [
    "## 完整代码 "
   ]
  },
  {
   "cell_type": "code",
   "execution_count": 29,
   "metadata": {
    "collapsed": true,
    "scrolled": true,
    "slideshow": {
     "slide_type": "subslide"
    }
   },
   "outputs": [],
   "source": [
    "def BinaryTree(r):  \n",
    "    return [r, [], []]  \n",
    "  \n",
    "def insertLeft(root,newBranch):  \n",
    "    t = root.pop(1)  \n",
    "    if len(t) > 1:  \n",
    "        root.insert(1,[newBranch,t,[]])  \n",
    "    else:  \n",
    "        root.insert(1,[newBranch, [], []])  \n",
    "    return root  \n",
    "  \n",
    "def insertRight(root,newBranch):  \n",
    "    t = root.pop(2)  \n",
    "    if len(t) > 1:  \n",
    "        root.insert(2,[newBranch,[],t])  \n",
    "    else:  \n",
    "        root.insert(2,[newBranch,[],[]])  \n",
    "    return root  \n"
   ]
  },
  {
   "cell_type": "code",
   "execution_count": 30,
   "metadata": {
    "collapsed": true,
    "slideshow": {
     "slide_type": "subslide"
    }
   },
   "outputs": [],
   "source": [
    "def getRootVal(root):  \n",
    "    return root[0]  \n",
    "  \n",
    "def setRootVal(root,newVal):  \n",
    "    root[0] = newVal  \n",
    "  \n",
    "def getLeftChild(root):  \n",
    "    return root[1]  \n",
    "  \n",
    "def getRightChild(root):  \n",
    "    return root[2]  \n"
   ]
  },
  {
   "cell_type": "code",
   "execution_count": 31,
   "metadata": {
    "slideshow": {
     "slide_type": "subslide"
    }
   },
   "outputs": [
    {
     "name": "stdout",
     "output_type": "stream",
     "text": [
      "[5, [4, [], []], []]\n",
      "[3, [9, [4, [], []], []], [7, [], [6, [], []]]]\n",
      "[3, [9, [11, [4, [], []], []], []], [7, [], [6, [], []]]]\n",
      "[6, [], []]\n"
     ]
    }
   ],
   "source": [
    "r = BinaryTree(3)  \n",
    "insertLeft(r,4)  \n",
    "insertLeft(r,5)  \n",
    "insertRight(r,6)  \n",
    "insertRight(r,7)  \n",
    "l = getLeftChild(r)  \n",
    "print(l)  \n",
    "  \n",
    "setRootVal(l,9)  \n",
    "print(r)  \n",
    "insertLeft(l,11)  \n",
    "print(r)  \n",
    "print(getRightChild(getRightChild(r)))"
   ]
  },
  {
   "cell_type": "markdown",
   "metadata": {
    "slideshow": {
     "slide_type": "slide"
    }
   },
   "source": [
    "# 节点与引用方法\n"
   ]
  },
  {
   "cell_type": "markdown",
   "metadata": {
    "slideshow": {
     "slide_type": "slide"
    }
   },
   "source": [
    "第二种表示方法使用节点和引用。\n",
    "\n",
    "我们将定义一个类，其属性包括根和左右子树。因该方法更加面向对象，后面会着重介绍。"
   ]
  },
  {
   "cell_type": "markdown",
   "metadata": {
    "slideshow": {
     "slide_type": "slide"
    }
   },
   "source": [
    "使用节点和引用，树形结构形如下图："
   ]
  },
  {
   "cell_type": "markdown",
   "metadata": {
    "slideshow": {
     "slide_type": "fragment"
    }
   },
   "source": [
    "<img src='images/treerecs.png'> <img>"
   ]
  },
  {
   "cell_type": "markdown",
   "metadata": {
    "slideshow": {
     "slide_type": "slide"
    }
   },
   "source": [
    "## 初始化二叉树"
   ]
  },
  {
   "cell_type": "markdown",
   "metadata": {
    "slideshow": {
     "slide_type": "fragment"
    }
   },
   "source": [
    "* 开始时，只有一个节点的定义和两个子树的引用。\n",
    "\n",
    "* 左右子树的引用的，也是这个类的实例。\n",
    "\n",
    "   例如，若要插入一个新的左子树，应该先创建一个新的树对象，并且修改根节点的<code>self.leftChild以指向新树。"
   ]
  },
  {
   "cell_type": "code",
   "execution_count": 32,
   "metadata": {
    "collapsed": true,
    "slideshow": {
     "slide_type": "fragment"
    }
   },
   "outputs": [],
   "source": [
    "class BinaryTree:\n",
    "    def __init__(self, rootObj):\n",
    "        self.key = rootObj\n",
    "        self.leftChild = None\n",
    "        self.rightChild = None"
   ]
  },
  {
   "cell_type": "markdown",
   "metadata": {
    "slideshow": {
     "slide_type": "skip"
    }
   },
   "source": [
    "注意上面代码中，构造函数需要一个对象来保存在根节点。既然列表可以保存任意对象，那么树的根可以是任意对象。在前面的例子中，我们在根节点中保存节点的名字。在图2中那样的树，我们要创建6个BinaryTree的对象。"
   ]
  },
  {
   "cell_type": "markdown",
   "metadata": {
    "slideshow": {
     "slide_type": "slide"
    }
   },
   "source": [
    "## 增加左孩子\n",
    "\n"
   ]
  },
  {
   "cell_type": "markdown",
   "metadata": {
    "slideshow": {
     "slide_type": "fragment"
    }
   },
   "source": [
    "需要新建一个二叉树对象，并把这个对象赋值给leftChild。 "
   ]
  },
  {
   "cell_type": "code",
   "execution_count": 33,
   "metadata": {
    "collapsed": true,
    "slideshow": {
     "slide_type": "fragment"
    }
   },
   "outputs": [],
   "source": [
    "def insertLeft(self, newNode):\n",
    "    if self.leftChild == None:\n",
    "        self.leftChild = BinaryTree(newNode)\n",
    "    else:\n",
    "        t = BinaryTree(newNode)\n",
    "        t.leftChild = self.leftChild\n",
    "        self.leftChild = t"
   ]
  },
  {
   "cell_type": "markdown",
   "metadata": {
    "slideshow": {
     "slide_type": "slide"
    }
   },
   "source": [
    "上面代码中考虑了两种情况：\n",
    "\n",
    "1. 没有左孩子，只需把节点加到树上。\n",
    "\n",
    "2. 此节点已经有左孩子，这时要把现存的左孩子下移一级作为插入节点的左孩子。\n"
   ]
  },
  {
   "cell_type": "markdown",
   "metadata": {
    "slideshow": {
     "slide_type": "slide"
    }
   },
   "source": [
    "## 增加右孩子"
   ]
  },
  {
   "cell_type": "markdown",
   "metadata": {
    "slideshow": {
     "slide_type": "fragment"
    }
   },
   "source": [
    "插入右孩子也是一样，要么没有右孩子，否则把节点插入到根与现存右孩子之间。"
   ]
  },
  {
   "cell_type": "code",
   "execution_count": null,
   "metadata": {
    "collapsed": true,
    "slideshow": {
     "slide_type": "fragment"
    }
   },
   "outputs": [],
   "source": [
    "\n",
    "def insertRight(self,newNode):\n",
    "    if self.rightChild == None:\n",
    "        self.rightChild = BinaryTree(newNode)\n",
    "    else:\n",
    "        t = BinaryTree(newNode)\n",
    "        t.rightChild = self.rightChild\n",
    "        self.rightChild = t"
   ]
  },
  {
   "cell_type": "markdown",
   "metadata": {
    "slideshow": {
     "slide_type": "slide"
    }
   },
   "source": [
    "## 获取左、右孩子，设置和获取根结点的值\n"
   ]
  },
  {
   "cell_type": "code",
   "execution_count": null,
   "metadata": {
    "collapsed": true,
    "slideshow": {
     "slide_type": "fragment"
    }
   },
   "outputs": [],
   "source": [
    "def getRightChild(self):\n",
    "    return self.rightChild\n",
    "\n",
    "def getLeftChild(self):\n",
    "    return self.leftChild\n",
    "\n",
    "def setRootVal(self,obj):\n",
    "    self.key = obj\n",
    "\n",
    "def getRootVal(self):\n",
    "    return self.key"
   ]
  },
  {
   "cell_type": "markdown",
   "metadata": {
    "slideshow": {
     "slide_type": "slide"
    }
   },
   "source": [
    "## 测试程序"
   ]
  },
  {
   "cell_type": "code",
   "execution_count": 35,
   "metadata": {
    "collapsed": true,
    "slideshow": {
     "slide_type": "skip"
    }
   },
   "outputs": [],
   "source": [
    "class BinaryTree:\n",
    "    def __init__(self,rootObj):\n",
    "        self.key = rootObj\n",
    "        self.leftChild = None\n",
    "        self.rightChild = None\n",
    "\n",
    "    def insertLeft(self,newNode):\n",
    "        if self.leftChild == None:\n",
    "            self.leftChild = BinaryTree(newNode)\n",
    "        else:\n",
    "            t = BinaryTree(newNode)\n",
    "            t.leftChild = self.leftChild\n",
    "            self.leftChild = t\n",
    "\n",
    "    def insertRight(self,newNode):\n",
    "        if self.rightChild == None:\n",
    "            self.rightChild = BinaryTree(newNode)\n",
    "        else:\n",
    "            t = BinaryTree(newNode)\n",
    "            t.rightChild = self.rightChild\n",
    "            self.rightChild = t\n",
    "\n",
    "    def getRightChild(self):\n",
    "        return self.rightChild\n",
    "\n",
    "    def getLeftChild(self):\n",
    "        return self.leftChild\n",
    "\n",
    "    def setRootVal(self,obj):\n",
    "        self.key = obj\n",
    "\n",
    "    def getRootVal(self):\n",
    "        return self.key\n"
   ]
  },
  {
   "cell_type": "markdown",
   "metadata": {
    "slideshow": {
     "slide_type": "skip"
    }
   },
   "source": [
    "我们先创建一个简单的树包含一个根和两个节点<code>b, c<code>。下面的代码就是创建树，并为键，左孩子和右孩子赋值。注意左孩子和右孩子和根都是同一个类BinaryTree的不同对象，如同前面我们的递归定义一样，这使得我们可以象处理二叉树一样处理它的子树。"
   ]
  },
  {
   "cell_type": "code",
   "execution_count": 36,
   "metadata": {
    "slideshow": {
     "slide_type": "fragment"
    }
   },
   "outputs": [
    {
     "name": "stdout",
     "output_type": "stream",
     "text": [
      "a\n",
      "None\n",
      "<__main__.BinaryTree instance at 0x7eff2afae1b8>\n",
      "b\n",
      "<__main__.BinaryTree instance at 0x7eff2a742878>\n",
      "c\n",
      "hello\n"
     ]
    }
   ],
   "source": [
    "r = BinaryTree('a')\n",
    "print(r.getRootVal())\n",
    "print(r.getLeftChild())\n",
    "r.insertLeft('b')\n",
    "print(r.getLeftChild())\n",
    "print(r.getLeftChild().getRootVal())\n",
    "r.insertRight('c')\n",
    "print(r.getRightChild())\n",
    "print(r.getRightChild().getRootVal())\n",
    "r.getRightChild().setRootVal('hello')\n",
    "print(r.getRightChild().getRootVal())\n"
   ]
  },
  {
   "cell_type": "markdown",
   "metadata": {
    "slideshow": {
     "slide_type": "slide"
    }
   },
   "source": [
    "# 解析树\n"
   ]
  },
  {
   "cell_type": "markdown",
   "metadata": {
    "slideshow": {
     "slide_type": "slide"
    }
   },
   "source": [
    "我们已经知道了树的定义及其操作，现在我们来利用树去解决一些实际问题。\n",
    "\n",
    "\n",
    "首先我们来研究解析树，它常用于真实世界的结构表示，例如句子或数学表达式。"
   ]
  },
  {
   "cell_type": "markdown",
   "metadata": {
    "slideshow": {
     "slide_type": "slide"
    }
   },
   "source": [
    "<img src='images/nlParse.png' width=300> <img>"
   ]
  },
  {
   "cell_type": "markdown",
   "metadata": {
    "slideshow": {
     "slide_type": "fragment"
    }
   },
   "source": [
    "该图显示了一个简单句子的层级结构。\n",
    "\n",
    "将一个句子表示为一个树，我们就可以利用子树来处理句子中每个独立的结构。"
   ]
  },
  {
   "cell_type": "markdown",
   "metadata": {
    "slideshow": {
     "slide_type": "slide"
    }
   },
   "source": [
    "<img src='images/meParse.png'> <img>"
   ]
  },
  {
   "cell_type": "markdown",
   "metadata": {
    "slideshow": {
     "slide_type": "fragment"
    }
   },
   "source": [
    "该图将一个`((7+3) * (5−2))`的数学表达式表示成一棵解析树。"
   ]
  },
  {
   "cell_type": "markdown",
   "metadata": {
    "slideshow": {
     "slide_type": "slide"
    }
   },
   "source": [
    "树的层级结构可以帮助我们理解整个表达式的运算顺序。\n",
    "\n",
    "* 在计算最顶上的乘法运算前，我们先要计算子树中的加法和减法运算。\n",
    "* 左子树的加法运算结果为 `10`，右子树的减法运算结果为 `3`。\n",
    "\n",
    "利用树的层级结构，一旦我们计算出了子节点中表达式的结果，我们能够将整个子树用一个节点来替换。"
   ]
  },
  {
   "cell_type": "markdown",
   "metadata": {
    "slideshow": {
     "slide_type": "slide"
    }
   },
   "source": [
    "运用这个替换步骤，我们得到一个简单的树："
   ]
  },
  {
   "cell_type": "markdown",
   "metadata": {
    "slideshow": {
     "slide_type": "fragment"
    }
   },
   "source": [
    "<img src='images/meSimple.png'> <img>"
   ]
  },
  {
   "cell_type": "markdown",
   "metadata": {
    "slideshow": {
     "slide_type": "slide"
    }
   },
   "source": [
    "接下来我们将更加详细地研究解析树。尤其是：\n",
    "\n",
    "* 怎样根据一个完全括号数学表达式来建立其对应的解析树\n",
    "* 怎样计算解析树中数学表达式的值\n",
    "* 怎样根据一个解析树还原数学表达式\n"
   ]
  },
  {
   "cell_type": "markdown",
   "metadata": {
    "slideshow": {
     "slide_type": "slide"
    }
   },
   "source": [
    "## 建立解析树的步骤\n",
    "\n",
    "1. 将表达式字符串分解成字符保存在列表里。这里考虑四种字符：左右括号、操作符和操作数\n",
    "2. 依次读入每个字符，\n",
    "  * 读到左括号`'('`，开始一个新的表达式，创建一个子树来对应这个新的表达式。\n",
    "  * 读到右括号`')'`，结束该表达式。\n",
    "  * 读到操作数，它将成为叶子节点，或其所属操作符的子节点。\n",
    "  * 读到操作符，它应该有一个左子节点和一个右子节点。"
   ]
  },
  {
   "cell_type": "markdown",
   "metadata": {
    "slideshow": {
     "slide_type": "slide"
    }
   },
   "source": [
    "## 四条规则：\n",
    "\n",
    "\n",
    "* 读到左括号 `'('`，添加新节点作为**当前节点**的左子节点，并将**当前节点**下降到左子节点处。\n",
    "* 读到操作符 `['+', '-', '/', '*']`，将**当前节点**的值设置为该操作符。添加一个新的节点作为**当前节点**的右子节点，并将**当前节点**下降到右子节点处。\n",
    "* 读到数字，将**当前节点**的值设置为该数字，并将**当前节点**返回到它的父节点。\n",
    "* 读到右括号 `')'` ，返回**当前节点**的父节点。"
   ]
  },
  {
   "cell_type": "markdown",
   "metadata": {
    "slideshow": {
     "slide_type": "slide"
    }
   },
   "source": [
    "考虑表达式 `(3 + (4 * 5))`\n",
    "\n",
    "将其分解为字符列表：\n",
    "\n",
    "`['(', '3', '+', '(', '4', '*', '5' ,')', ')']`\n",
    "\n",
    "\n",
    "一开始，我们从一个仅包括一个空的根节点的解析树开始。下面的图说明了随着每个新的字符被读入后该解析树的内容和结构。"
   ]
  },
  {
   "cell_type": "markdown",
   "metadata": {
    "slideshow": {
     "slide_type": "slide"
    }
   },
   "source": [
    "<table><tr>\n",
    "<td><img src='images/buildExp1.png' border=0></td>\n",
    "<td>创建一棵空树</td>\n",
    "</tr></table>"
   ]
  },
  {
   "cell_type": "markdown",
   "metadata": {
    "slideshow": {
     "slide_type": "slide"
    }
   },
   "source": [
    "<table><tr>\n",
    "<td><img src='images/buildExp2.png' border=0></td>\n",
    "<td>读如`'('`，创建一个新节点作为当前节点的左子结点，并将当前节点下移到该左子节点。</td>\n",
    "</tr></table>"
   ]
  },
  {
   "cell_type": "markdown",
   "metadata": {
    "slideshow": {
     "slide_type": "slide"
    }
   },
   "source": [
    "<table><tr>\n",
    "<td><img src='images/buildExp3.png' border=0></td>\n",
    "<td>读入`'3'`，将当前节点的值设置为`'3'`，然后当前结点返回至其父节点。</td>\n",
    "</tr></table>"
   ]
  },
  {
   "cell_type": "markdown",
   "metadata": {
    "slideshow": {
     "slide_type": "slide"
    }
   },
   "source": [
    "<table><tr>\n",
    "<td><img src='images/buildExp4.png' border=0></td>\n",
    "<td>读入 `'+'`，将当前节点的值设置为 `'+'`，然后添加一个新节点作为其右子节点，并将当前节点下移到该右子节点。</td>\n",
    "</tr></table>"
   ]
  },
  {
   "cell_type": "markdown",
   "metadata": {
    "slideshow": {
     "slide_type": "slide"
    }
   },
   "source": [
    "<table><tr>\n",
    "<td><img src='images/buildExp5.png' border=0></td>\n",
    "<td>读入 `'('`，创建一个新节点作为当前节点的左子结点，并将当前节点下移到该左子节点。</td>\n",
    "</tr></table>"
   ]
  },
  {
   "cell_type": "markdown",
   "metadata": {
    "slideshow": {
     "slide_type": "slide"
    }
   },
   "source": [
    "<table><tr>\n",
    "<td><img src='images/buildExp6.png' border=0></td>\n",
    "<td>读入 `'4'`，将当前节点的值设置为 '4'， 然后返回至其父节点</td>\n",
    "</tr></table>"
   ]
  },
  {
   "cell_type": "markdown",
   "metadata": {
    "slideshow": {
     "slide_type": "slide"
    }
   },
   "source": [
    "<table><tr>\n",
    "<td><img src='images/buildExp7.png' border=0></td>\n",
    "<td>读入 `'*'`，将当前节点的值设置为 `'*'` ，然后添加一个新的节点作为其右子节点，并将当前节点下移至该右子节点。</td>\n",
    "</tr></table>"
   ]
  },
  {
   "cell_type": "markdown",
   "metadata": {
    "slideshow": {
     "slide_type": "slide"
    }
   },
   "source": [
    "<table><tr>\n",
    "<td><img src='images/buildExp8.png' border=0></td>\n",
    "<td>读入 `'5'`，将当前节点的值设置为 `'5'`, 然后返回至其父节点</td>\n",
    "</tr></table>"
   ]
  },
  {
   "cell_type": "markdown",
   "metadata": {
    "slideshow": {
     "slide_type": "slide"
    }
   },
   "source": [
    "* 读入 `')'`，将当前节点上移至其父节点。\n",
    "\n",
    "* 读入 `')'`，将当前节点上移至其父节点。因为当前节点没有父节点，故解析树的构建完成。"
   ]
  },
  {
   "cell_type": "markdown",
   "metadata": {
    "slideshow": {
     "slide_type": "slide"
    }
   },
   "source": [
    "通过上述过程可以看出，我们需要跟踪**当前节点和其父节点**。\n",
    "* 获得子节点的方法： `getLeftChild` 和 `getRightChild`\n",
    "* 如何获取父节点呢？"
   ]
  },
  {
   "cell_type": "markdown",
   "metadata": {
    "slideshow": {
     "slide_type": "fragment"
    }
   },
   "source": [
    "在遍历树的过程中，利用**栈**来跟踪父节点。\n",
    "* 当前节点下移到其子节点时，先将当前节点压入栈。\n",
    "* 想返回当前节点的父节点时，从栈中弹出其父节点。"
   ]
  },
  {
   "cell_type": "markdown",
   "metadata": {
    "slideshow": {
     "slide_type": "slide"
    }
   },
   "source": [
    "下面我们将使用**栈和二叉树**来来创建解析树。 "
   ]
  },
  {
   "cell_type": "code",
   "execution_count": 15,
   "metadata": {
    "collapsed": true,
    "slideshow": {
     "slide_type": "slide"
    }
   },
   "outputs": [],
   "source": [
    "class Stack:\n",
    "    def __init__(self):\n",
    "        self.items = []\n",
    "\n",
    "    def isEmpty(self):\n",
    "        return self.items == []\n",
    "\n",
    "    def push(self, item):\n",
    "        self.items.append(item)\n",
    "\n",
    "    def pop(self):\n",
    "        return self.items.pop()\n",
    "\n",
    "    def peek(self):\n",
    "        return self.items[len(self.items)-1]\n",
    "\n",
    "    def size(self):\n",
    "        return len(self.items)"
   ]
  },
  {
   "cell_type": "code",
   "execution_count": 25,
   "metadata": {
    "collapsed": true,
    "slideshow": {
     "slide_type": "slide"
    }
   },
   "outputs": [],
   "source": [
    "class BinaryTree:\n",
    "    def __init__(self,rootObj):\n",
    "        self.key = rootObj\n",
    "        self.leftChild = None\n",
    "        self.rightChild = None\n",
    "\n",
    "    def insertLeft(self,newNode):\n",
    "        if self.leftChild == None:\n",
    "            self.leftChild = BinaryTree(newNode)\n",
    "        else:\n",
    "            t = BinaryTree(newNode)\n",
    "            t.leftChild = self.leftChild\n",
    "            self.leftChild = t\n",
    "\n",
    "    def insertRight(self,newNode):\n",
    "        if self.rightChild == None:\n",
    "            self.rightChild = BinaryTree(newNode)\n",
    "        else:\n",
    "            t = BinaryTree(newNode)\n",
    "            t.rightChild = self.rightChild\n",
    "            self.rightChild = t\n",
    "\n",
    "    def getRightChild(self):\n",
    "        return self.rightChild\n",
    "\n",
    "    def getLeftChild(self):\n",
    "        return self.leftChild\n",
    "\n",
    "    def setRootVal(self,obj):\n",
    "        self.key = obj\n",
    "\n",
    "    def getRootVal(self):\n",
    "        return self.key\n",
    "    \n",
    "    def preorder(self):   \n",
    "        print(self.key)\n",
    "        if self.leftChild:  \n",
    "            self.leftChild.preorder()  \n",
    "        if self.rightChild:  \n",
    "            self.rightChild.preorder()  \n",
    "        \n",
    "    def postorder(self):   \n",
    "        if self.leftChild:  \n",
    "            self.leftChild.postorder()  \n",
    "        if self.rightChild:  \n",
    "            self.rightChild.postorder() \n",
    "        print(self.key)"
   ]
  },
  {
   "cell_type": "code",
   "execution_count": 26,
   "metadata": {
    "slideshow": {
     "slide_type": "slide"
    }
   },
   "outputs": [
    {
     "name": "stdout",
     "output_type": "stream",
     "text": [
      "*\n",
      "+\n",
      "10\n",
      "5\n",
      "3\n"
     ]
    }
   ],
   "source": [
    "def buildParseTree(fpexp):\n",
    "    fplist = fpexp.split()\n",
    "    pStack = Stack()\n",
    "    eTree = BinaryTree('')\n",
    "    pStack.push(eTree)\n",
    "    currentTree = eTree\n",
    "    for i in fplist:\n",
    "        if i == '(':\n",
    "            currentTree.insertLeft('')\n",
    "            pStack.push(currentTree)\n",
    "            currentTree = currentTree.getLeftChild()\n",
    "        elif i not in ['+', '-', '*', '/', ')']:\n",
    "            currentTree.setRootVal(int(i))\n",
    "            parent = pStack.pop()\n",
    "            currentTree = parent\n",
    "        elif i in ['+', '-', '*', '/']:\n",
    "            currentTree.setRootVal(i)\n",
    "            currentTree.insertRight('')\n",
    "            pStack.push(currentTree)\n",
    "            currentTree = currentTree.getRightChild()\n",
    "        elif i == ')':\n",
    "            currentTree = pStack.pop()\n",
    "        else:\n",
    "            raise ValueError\n",
    "    return eTree\n",
    "\n",
    "pt = buildParseTree(\"( ( 10 + 5 ) * 3 )\")\n",
    "pt.preorder()  #defined and explained in the next section\n"
   ]
  },
  {
   "cell_type": "markdown",
   "metadata": {
    "slideshow": {
     "slide_type": "slide"
    }
   },
   "source": [
    "# 树的遍历"
   ]
  },
  {
   "cell_type": "markdown",
   "metadata": {
    "slideshow": {
     "slide_type": "slide"
    }
   },
   "source": [
    "访问树的全部节点，一般有三种模式，这些模式的不同之处，仅在于访问节点的顺序不同。我们把这种对节点的访问称为“遍历”，这三种遍历模式叫做前序、中序和后序。"
   ]
  },
  {
   "cell_type": "markdown",
   "metadata": {
    "slideshow": {
     "slide_type": "slide"
    }
   },
   "source": [
    "## 前序遍历\n",
    "\n",
    "在前序遍历中，先访问根节点，然后用递归方式前序遍历它的左子树，最后递归方式前序遍历右子树。\n",
    "\n",
    "## 中序遍历\n",
    "\n",
    "在中序遍历中，先递归中序遍历左子树，然后访问根节点，最后递归中序遍历右子树。\n",
    "\n",
    "\n",
    "## 后序遍历\n",
    "\n",
    "在后序遍历中，先递归后序遍历左子树，然后是右子树，最后是根节点。\n"
   ]
  },
  {
   "cell_type": "markdown",
   "metadata": {
    "slideshow": {
     "slide_type": "slide"
    }
   },
   "source": [
    "## 前序遍历\n",
    "\n",
    "象读一本书一样。书本是根节点，每一章是一个孩子，每一节又是本章的孩子，等等。\n",
    "\n",
    "<img src='images/booktree.png'>"
   ]
  },
  {
   "cell_type": "markdown",
   "metadata": {
    "slideshow": {
     "slide_type": "slide"
    }
   },
   "source": [
    "**从头到尾读一本书，正好就是一个前序遍历。**\n",
    "\n",
    "* 从整本书开始，然后递归阅读左孩子（即Chapter 1），然后是读Chapter 1的左孩子(即Section 1.1)。\n",
    "    * Section 1.1没有孩子，不再递归，此时读完本节的内容\n",
    "    * 读完Section 1.1，再读Section 1.2，Section 1.2有孩子，要先读Section 1.2.1，再读Section 1.2.2 。Section 1.2读完后，回到第1章，这时再读第2章。"
   ]
  },
  {
   "cell_type": "code",
   "execution_count": 3,
   "metadata": {
    "collapsed": true,
    "slideshow": {
     "slide_type": "slide"
    }
   },
   "outputs": [],
   "source": [
    "# 外部函数\n",
    "def preorder(tree):  \n",
    "    if tree:  \n",
    "        print(tree.getRootVal())  \n",
    "        preorder(tree.getLeftChild())  \n",
    "        preorder(tree.getRightChild())  "
   ]
  },
  {
   "cell_type": "markdown",
   "metadata": {
    "slideshow": {
     "slide_type": "slide"
    }
   },
   "source": [
    "也可以在<code> BinaryTree 类里写一个方法："
   ]
  },
  {
   "cell_type": "code",
   "execution_count": 4,
   "metadata": {
    "collapsed": true,
    "slideshow": {
     "slide_type": "fragment"
    }
   },
   "outputs": [],
   "source": [
    "# 内部方法\n",
    "def preorder(self):  \n",
    "    print(self.key)  \n",
    "    if self.leftChild:  \n",
    "        self.left.preorder()  \n",
    "    if self.rightChild:  \n",
    "        self.right.preorder() "
   ]
  },
  {
   "cell_type": "markdown",
   "metadata": {
    "slideshow": {
     "slide_type": "slide"
    }
   },
   "source": [
    "**外部函数**与**内部方法**，哪种比较好？"
   ]
  },
  {
   "cell_type": "markdown",
   "metadata": {
    "slideshow": {
     "slide_type": "fragment"
    }
   },
   "source": [
    "<code>preorder 作为一个外部函数比较好。\n",
    "\n",
    "原因是，我们很少是为了遍历而遍历，这个过程中总是要做点事情的，事实上后面我们在后序遍历中举例使用的方法就很象此前我们用过的计算分析树的的代码，所以其余的代码我们都用了外部函数的方法。"
   ]
  },
  {
   "cell_type": "markdown",
   "metadata": {
    "slideshow": {
     "slide_type": "slide"
    }
   },
   "source": [
    "## 后续遍历\n",
    "\n",
    "与前序遍历很相近，区别只是把**打印操作**移到了函数的后面。"
   ]
  },
  {
   "cell_type": "code",
   "execution_count": 6,
   "metadata": {
    "collapsed": true,
    "slideshow": {
     "slide_type": "fragment"
    }
   },
   "outputs": [],
   "source": [
    "def postorder(tree):\n",
    "    if tree:\n",
    "        print(tree.getRootval())\n",
    "        postorder(tree.getLeftChild())\n",
    "        postorder(tree.getRightChild())"
   ]
  },
  {
   "cell_type": "markdown",
   "metadata": {
    "slideshow": {
     "slide_type": "slide"
    }
   },
   "source": [
    "我们来看一个后续遍历的实际应用，即解析树求值。\n",
    "\n",
    "具体做法是，计算左右子树的值，然后用操作函数结合在一起。"
   ]
  },
  {
   "cell_type": "code",
   "execution_count": 12,
   "metadata": {
    "collapsed": true,
    "slideshow": {
     "slide_type": "slide"
    }
   },
   "outputs": [],
   "source": [
    "def postorderEval(tree):\n",
    "    opers = {'+': operator.add, \n",
    "             '-': operator.sub,\n",
    "             '*': operator.mul,\n",
    "             '/': operator.truediv}\n",
    "    res1 = None\n",
    "    res2 = None\n",
    "    if tree:\n",
    "        res1 = postorderEval(tree.getLeftChild())\n",
    "        res2 = postorderEval(tree.getRightChild())\n",
    "        if res1 and res2:\n",
    "            return opers[tree.getRootVal()](res1, res2)\n",
    "        else:\n",
    "            return tree.getRootVal()"
   ]
  },
  {
   "cell_type": "markdown",
   "metadata": {
    "slideshow": {
     "slide_type": "slide"
    }
   },
   "source": [
    "## 中序遍历\n",
    "\n",
    "先访问左子树，然后访问根，最后访问右子树。"
   ]
  },
  {
   "cell_type": "code",
   "execution_count": 13,
   "metadata": {
    "collapsed": true,
    "slideshow": {
     "slide_type": "fragment"
    }
   },
   "outputs": [],
   "source": [
    "def inorder(tree):\n",
    "    if tree:\n",
    "        inorder(tree.getLeftChild())\n",
    "        print(tree.getRootVal())\n",
    "        inorder(tree.getRightChild())  "
   ]
  },
  {
   "cell_type": "markdown",
   "metadata": {
    "slideshow": {
     "slide_type": "slide"
    }
   },
   "source": [
    "当对一颗解析树做中序遍历时，得到的表达式没有任何括号。现在我们来修改算法，以得到表达式的完全括号表达式。"
   ]
  },
  {
   "cell_type": "markdown",
   "metadata": {
    "slideshow": {
     "slide_type": "fragment"
    }
   },
   "source": [
    "唯一的改变是：在调用左子树之前，先输出一个左括号，然后在调用右子树之后，输出一个右括号。"
   ]
  },
  {
   "cell_type": "code",
   "execution_count": 14,
   "metadata": {
    "collapsed": true,
    "slideshow": {
     "slide_type": "fragment"
    }
   },
   "outputs": [],
   "source": [
    "def printexp(tree):\n",
    "    sVal = ''\n",
    "    if tree:\n",
    "        sVal = '(' + printexp(tree.getLeftChild())\n",
    "        sVal = sVal + str(tree.getRootVal())\n",
    "        sVal = sVal + printexp(tree.getRightChild()) + ')'\n",
    "    return sVal"
   ]
  },
  {
   "cell_type": "markdown",
   "metadata": {
    "slideshow": {
     "slide_type": "slide"
    }
   },
   "source": [
    "# 优先队列的二叉堆实现"
   ]
  },
  {
   "cell_type": "markdown",
   "metadata": {
    "slideshow": {
     "slide_type": "slide"
    }
   },
   "source": [
    "我们已经知道，队列(Queue)是一种“先进先出(FIFO)”的数据结构。队列有一种变体：“优先队列”(Priority Queue)。\n",
    "\n",
    "* 优先队列的出队(Dequeue)操作和队列一样，都是从队首出队。\n",
    "\n",
    "* 但在优先队列的内部，元素的次序却由“优先级”来决定：**高优先级的元素排在队首，而低优先级的元素则排在后面。** \n",
    "  这使得优先队列的入队(Enqueue)操作变得复杂，需要将元素根据优先级排队。 "
   ]
  },
  {
   "cell_type": "markdown",
   "metadata": {
    "slideshow": {
     "slide_type": "slide"
    }
   },
   "source": [
    "我们很自然地会想到用**排序算法和队列**的方法来实现优先队列。\n",
    "\n",
    "* 在列表里插入一个元素的时间复杂度是$O(n)$，对列表进行排序的时间复杂度是$O(n\\log n)$。\n",
    "\n",
    "* 我们可以用别的方法来降低时间复杂度。**一个实现优先队列的经典方法便是采用二叉堆(Binary Heap)。二叉堆能将优先队列的入队和出队复杂度都保持在$O(\\log n)$。**"
   ]
  },
  {
   "cell_type": "markdown",
   "metadata": {
    "slideshow": {
     "slide_type": "slide"
    }
   },
   "source": [
    "二叉堆是一种特殊的堆，二叉堆是完全二叉树或者是近似完全二叉树。\n",
    "\n",
    "二叉堆有两种：\n",
    "\n",
    "* 最大堆：父结点的键值总是大于或等于任何一个子节点的键值；\n",
    "\n",
    "* 最小堆：父结点的键值总是小于或等于任何一个子节点的键值。\n",
    "\n",
    "这里我们使用最小堆。"
   ]
  },
  {
   "cell_type": "markdown",
   "metadata": {
    "slideshow": {
     "slide_type": "slide"
    }
   },
   "source": [
    "**完全二叉树**：叶节点只能出现在最下层和次下层，并且最下面一层的结点都集中在该层最左边的若干位置的二叉树。"
   ]
  },
  {
   "cell_type": "markdown",
   "metadata": {},
   "source": [
    "<table>\n",
    "<tr>\n",
    "<td><img src='images/compTree.png'></td>\n",
    "<td>完全二叉树</td>\n",
    "</tr></table>"
   ]
  },
  {
   "cell_type": "markdown",
   "metadata": {
    "slideshow": {
     "slide_type": "fragment"
    }
   },
   "source": [
    "二叉堆的有趣之处在于，**其逻辑结构上像二叉树，却是用非嵌套的列表来实现。**"
   ]
  },
  {
   "cell_type": "markdown",
   "metadata": {
    "slideshow": {
     "slide_type": "slide"
    }
   },
   "source": [
    "## 二叉堆的操作"
   ]
  },
  {
   "cell_type": "markdown",
   "metadata": {
    "slideshow": {
     "slide_type": "slide"
    }
   },
   "source": [
    "二叉堆的基本操作定义如下：\n",
    "\n",
    "* `BinaryHeap()`：创建一个空的二叉堆对象\n",
    "* `insert(k)`：将新元素加入到堆中\n",
    "* `findMin()`：返回堆中的最小项，最小项仍保留在堆中\n",
    "* `delMin()`：返回堆中的最小项，同时从堆中删除\n",
    "* `isEmpty()`：返回堆是否为空\n",
    "* `size()`：返回堆中节点的个数\n",
    "* `buildHeap(list)`：从一个包含节点的列表里创建新堆"
   ]
  },
  {
   "cell_type": "code",
   "execution_count": null,
   "metadata": {
    "collapsed": true,
    "slideshow": {
     "slide_type": "slide"
    }
   },
   "outputs": [],
   "source": [
    "from pythonds.trees.binheap import BinHeap\n",
    "\n",
    "bh = BinHeap()\n",
    "bh.insert(5)\n",
    "bh.insert(7)\n",
    "bh.insert(3)\n",
    "bh.insert(11)\n",
    "\n",
    "print(bh.delMin())\n",
    "print(bh.delMin())\n",
    "print(bh.delMin())\n",
    "print(bh.delMin())"
   ]
  },
  {
   "cell_type": "markdown",
   "metadata": {
    "slideshow": {
     "slide_type": "slide"
    }
   },
   "source": [
    "## 二叉堆结构的性质"
   ]
  },
  {
   "cell_type": "markdown",
   "metadata": {
    "slideshow": {
     "slide_type": "slide"
    }
   },
   "source": [
    "为了更好地实现堆，我们采用二叉树。\n",
    "\n",
    "我们必须始终保持二叉树的“平衡”，就要使操作始终保持在对数数量级上。\n",
    "\n",
    "平衡的二叉树根节点的左右子树的子节点个数相同。在堆的实现中，我们采用“完全二叉树”的结构来近似地实现“平衡”。"
   ]
  },
  {
   "cell_type": "markdown",
   "metadata": {
    "slideshow": {
     "slide_type": "slide"
    }
   },
   "source": [
    "*用单个列表就能实现完全二叉树*，而不需要使用“**节点+引用**”或“**嵌套列表**”。\n",
    "\n",
    "因为对于完全二叉树，如果节点在列表中的下标为 `p`，那么其左子节点下标为 `2p`，右节点为 `2p+1`。\n",
    "\n",
    "当我们要找某个节点的父节点时，可以直接使用 python 的整除。如果节点在列表中下标为 `n`，那么父节点下标为 `n//2`.\n",
    "\n"
   ]
  },
  {
   "cell_type": "markdown",
   "metadata": {
    "slideshow": {
     "slide_type": "slide"
    }
   },
   "source": [
    "下图是一个完全二叉树及其列表表示法。注意父节点与子节点之间 `2p` 与 `2p+1` 的关系。完全二叉树的列表表示法结合了完全二叉树的特性，使我们能够使用简单的数学方法高效地遍历一棵完全二叉树，也使我们能高效实现二叉堆。"
   ]
  },
  {
   "cell_type": "markdown",
   "metadata": {
    "slideshow": {
     "slide_type": "fragment"
    }
   },
   "source": [
    "<table>\n",
    "<tr>\n",
    "<td><img src='images/heapOrder.png'></td>\n",
    "<td>完全二叉树及其列表表示法</td>\n",
    "</tr></table>"
   ]
  },
  {
   "cell_type": "markdown",
   "metadata": {
    "slideshow": {
     "slide_type": "slide"
    }
   },
   "source": [
    "## 堆次序的性质"
   ]
  },
  {
   "cell_type": "markdown",
   "metadata": {
    "slideshow": {
     "slide_type": "fragment"
    }
   },
   "source": [
    "堆中存储元素的方法依赖于堆的次序。所谓**堆次序**，是指堆中任何一个节点 `x`，其父节点 `p` 的键值均小于或等于 `x` 的键值。上图是一颗满足堆次序性质的完全二叉树。"
   ]
  },
  {
   "cell_type": "markdown",
   "metadata": {
    "slideshow": {
     "slide_type": "slide"
    }
   },
   "source": [
    "## 二叉堆操作的实现"
   ]
  },
  {
   "cell_type": "markdown",
   "metadata": {
    "slideshow": {
     "slide_type": "slide"
    }
   },
   "source": [
    "## \\_\\_init\\_\\_函数"
   ]
  },
  {
   "cell_type": "markdown",
   "metadata": {
    "slideshow": {
     "slide_type": "fragment"
    }
   },
   "source": [
    "因可用一个列表来保存堆的数据，故构造函数只需要初始化一个列表和一个 `currentSize` 来表示堆当前的大小。  "
   ]
  },
  {
   "cell_type": "code",
   "execution_count": 37,
   "metadata": {
    "collapsed": true,
    "slideshow": {
     "slide_type": "slide"
    }
   },
   "outputs": [],
   "source": [
    "class BinHeap:\n",
    "    def __init__(self):\n",
    "        self.heapList = [0] #没有用到，但为了后面的代码可以方便地使用整除，我们仍然保留它。\n",
    "        self.currentSize = 0"
   ]
  },
  {
   "cell_type": "markdown",
   "metadata": {
    "slideshow": {
     "slide_type": "slide"
    }
   },
   "source": [
    "## `insert` 方法"
   ]
  },
  {
   "cell_type": "markdown",
   "metadata": {
    "slideshow": {
     "slide_type": "fragment"
    }
   },
   "source": [
    "为了满足**“完全二叉树”**的性质，新键值应该添加到列表的末尾。但如果新键值简单地添加在列表末尾，将无法满足堆次序。"
   ]
  },
  {
   "cell_type": "markdown",
   "metadata": {
    "slideshow": {
     "slide_type": "slide"
    }
   },
   "source": [
    "可比较**父节点和新加入元素**来重新满足堆次序。\n",
    "\n",
    "* 如果新加入元素比父节点要小，与父节点互换位置。\n"
   ]
  },
  {
   "cell_type": "markdown",
   "metadata": {
    "slideshow": {
     "slide_type": "slide"
    }
   },
   "source": [
    "<table>\n",
    "<tr>\n",
    "<td><img src='images/percUp.png' width=800></td>\n",
    "<td>通过一系列交换操作，使新加入元素“上浮”到正确的位置。\n",
    "让一个元素“上浮”时，必须保证新节点与父节点以及其他兄弟节点之间的堆次序。\n",
    "</td>\n",
    "</tr></table>"
   ]
  },
  {
   "cell_type": "markdown",
   "metadata": {
    "slideshow": {
     "slide_type": "slide"
    }
   },
   "source": [
    "\n",
    "* 如果新节点非常小，仍然需要将它交换到其他层。事实上，我们需要不断交换，直到到达树的顶端。"
   ]
  },
  {
   "cell_type": "markdown",
   "metadata": {
    "slideshow": {
     "slide_type": "skip"
    }
   },
   "source": [
    "Listing 2 所示的是“上浮”方法，它把一个新节点“上浮”到其正确位置来满足堆次序。这里很好地体现了我们之前在headlist中没有用到的元素 0 的重要性。这样只需要做简单的整除，将当前节点的下标除以 2，我们就能计算出任何节点的父节点。\n"
   ]
  },
  {
   "cell_type": "code",
   "execution_count": 40,
   "metadata": {
    "collapsed": true,
    "slideshow": {
     "slide_type": "slide"
    }
   },
   "outputs": [],
   "source": [
    "def percUp(self, i):\n",
    "    while i // 2 > 0:\n",
    "        if self.heapList[i] < self.heapList[i // 2]:\n",
    "            tmp = self.heapList[i // 2]\n",
    "            self.heapList[i // 2] = self.heapList[i]\n",
    "            self.heapList[i] = tmp\n",
    "        i = i // 2"
   ]
  },
  {
   "cell_type": "code",
   "execution_count": 32,
   "metadata": {
    "collapsed": true,
    "slideshow": {
     "slide_type": "fragment"
    }
   },
   "outputs": [],
   "source": [
    "def insert(self, k):\n",
    "    self.heapList.append(k)\n",
    "    self.currentSize = self.currentSize + 1\n",
    "    self.percUp(self.currentSize)"
   ]
  },
  {
   "cell_type": "markdown",
   "metadata": {
    "slideshow": {
     "slide_type": "slide"
    }
   },
   "source": [
    "## `delMin` 方法"
   ]
  },
  {
   "cell_type": "markdown",
   "metadata": {
    "slideshow": {
     "slide_type": "fragment"
    }
   },
   "source": [
    "**堆次序**要求根节点是树中最小的元素，因此找到最小项非常容易。而删除根节点的元素后，如何**保持堆结构和堆次序**则不那么容易。"
   ]
  },
  {
   "cell_type": "markdown",
   "metadata": {
    "slideshow": {
     "slide_type": "slide"
    }
   },
   "source": [
    "可以分两步走：\n",
    "\n",
    "1. 用最后一个节点来代替根节点。移走最后一个节点保持了堆结构的性质。这么简单的替换，还是会破坏堆次序。\n",
    "\n",
    "2. 将新节点“下沉”来恢复堆次序。 "
   ]
  },
  {
   "cell_type": "markdown",
   "metadata": {
    "slideshow": {
     "slide_type": "slide"
    }
   },
   "source": [
    "<table>\n",
    "<tr>\n",
    "<td><img src='images/percDown.png' width=800></td>\n",
    "<td>通过一系列交换操作，使新节点“下沉”到正确的位置。\n",
    "让一个元素“上浮”时，必须保证新节点与父节点以及其他兄弟节点之间的堆次序。\n",
    "</td>\n",
    "</tr></table>"
   ]
  },
  {
   "cell_type": "markdown",
   "metadata": {
    "slideshow": {
     "slide_type": "slide"
    }
   },
   "source": [
    "为了保持堆次序，我们需将新的根节点沿着一条路径“下沉”，直到比两个子节点都小。在选择下沉路径时，如果新根节点比子节点大，那么选择较小的子节点与之交换。 "
   ]
  },
  {
   "cell_type": "code",
   "execution_count": 42,
   "metadata": {
    "collapsed": true,
    "slideshow": {
     "slide_type": "fragment"
    }
   },
   "outputs": [],
   "source": [
    "def minChild(self, i):\n",
    "    if i * 2 + 1 > self.currentSize:\n",
    "        return i * 2\n",
    "    else:\n",
    "        if self.heapList[i*2] < self.heapList[i*2+1]:\n",
    "            return i * 2\n",
    "        else:\n",
    "            return i * 2 + 1"
   ]
  },
  {
   "cell_type": "code",
   "execution_count": null,
   "metadata": {
    "collapsed": true,
    "slideshow": {
     "slide_type": "slide"
    }
   },
   "outputs": [],
   "source": [
    "def percDown(self,i):\n",
    "    while (i * 2) <= self.currentSize:\n",
    "        mc = self.minChild(i)\n",
    "        if self.heapList[i] > self.heapList[mc]:\n",
    "            tmp = self.heapList[i]\n",
    "            self.heapList[i] = self.heapList[mc]\n",
    "            self.heapList[mc] = tmp\n",
    "        i = mc"
   ]
  },
  {
   "cell_type": "code",
   "execution_count": 34,
   "metadata": {
    "collapsed": true
   },
   "outputs": [],
   "source": [
    "def delMin(self):\n",
    "    retval = self.heapList[1]\n",
    "    self.heapList[1] = self.heapList[self.currentSize]\n",
    "    self.currentSize = self.currentSize - 1\n",
    "    self.heapList.pop()\n",
    "    self.percDown(1)\n",
    "    return retval"
   ]
  },
  {
   "cell_type": "markdown",
   "metadata": {
    "slideshow": {
     "slide_type": "slide"
    }
   },
   "source": [
    "## `buildHeap` 方法"
   ]
  },
  {
   "cell_type": "markdown",
   "metadata": {},
   "source": [
    "如何从一个无序列表生成一个“堆”呢？\n",
    "1. 我们首先想到的可能是将无序列表中的每个元素依次插入到堆中。\n",
    "   * 对于一个排好序的列表，可用**折半查找**找到合适的位置，然后在下一个位置将这个键值插入到堆中，时间复杂度为$O(\\log n)$。\n",
    "   * 将一个元素插入到列表，需要移动列表的一些元素，为新节点腾出位置，时间复杂度为O(n)。因此用 `insert` 方法的总开销是$O(n\\log n)$。\n",
    "2. 然而，我们能直接将整个列表生成堆，将总开销控制在$O(n)$。 "
   ]
  },
  {
   "cell_type": "code",
   "execution_count": 65,
   "metadata": {
    "collapsed": true,
    "slideshow": {
     "slide_type": "slide"
    }
   },
   "outputs": [],
   "source": [
    "def buildHeap(self, alist):\n",
    "    i = len(alist) // 2\n",
    "    self.currentSize = len(alist)\n",
    "    self.heapList = [0] + alist[:]\n",
    "    while (i > 0):\n",
    "        self.percDown(i)\n",
    "        i = i - 1"
   ]
  },
  {
   "cell_type": "markdown",
   "metadata": {
    "slideshow": {
     "slide_type": "slide"
    }
   },
   "source": [
    "<table>\n",
    "<tr>\n",
    "<td><img src='images/buildheap.png' width=800></td>\n",
    "<td> \n",
    "</td>\n",
    "</tr></table>"
   ]
  },
  {
   "cell_type": "markdown",
   "metadata": {
    "slideshow": {
     "slide_type": "skip"
    }
   },
   "source": [
    "图 5 所示的是利用buildHeap方法将最开始的树[ 9, 6, 5, 2, 3]中的节点移动到正确的位置时所做的交换操作。尽管我们从树中间开始，然后回溯到根节点，但percDown方法保证了最大子节点总是“下沉”。因为堆是完全二叉树，任何在中间的节点都是叶节点，因此没有子节点。注意，当i=1时，我们从根节点开始下沉，这就需要进行大量的交换操作。可以看到，图 5 最右边的两颗树，首先 9 从根节点的位置移走，移到下一层级之后，percDown进一步检查它此时的子节点，保证它下降到不能再下降为止，即下降到正确的位置。然后进行第二次交换，9 和 3 的交换。由于 9 已经移到了树最底层的层级，便无法进一步交换了。比较一下列表表示法和图 5 所示的树表示法进行的一系列交换还是很有帮助的。"
   ]
  },
  {
   "cell_type": "code",
   "execution_count": 49,
   "metadata": {
    "collapsed": true,
    "slideshow": {
     "slide_type": "slide"
    }
   },
   "outputs": [],
   "source": [
    "class BinHeap:\n",
    "    def __init__(self):\n",
    "        self.heapList = [0]\n",
    "        self.currentSize = 0\n",
    "\n",
    "    def percUp(self,i):\n",
    "        while i // 2 > 0:\n",
    "            if self.heapList[i] < self.heapList[i // 2]:\n",
    "                tmp = self.heapList[i // 2]\n",
    "                self.heapList[i // 2] = self.heapList[i]\n",
    "                self.heapList[i] = tmp\n",
    "            i = i // 2\n",
    "    \n",
    "    def insert(self,k):\n",
    "        self.heapList.append(k)\n",
    "        self.currentSize = self.currentSize + 1\n",
    "        self.percUp(self.currentSize)"
   ]
  },
  {
   "cell_type": "code",
   "execution_count": null,
   "metadata": {
    "collapsed": true,
    "slideshow": {
     "slide_type": "subslide"
    }
   },
   "outputs": [],
   "source": [
    "    def percDown(self,i):\n",
    "        while (i * 2) <= self.currentSize:\n",
    "            mc = self.minChild(i)\n",
    "            if self.heapList[i] > self.heapList[mc]:\n",
    "                tmp = self.heapList[i]\n",
    "                self.heapList[i] = self.heapList[mc]\n",
    "                self.heapList[mc] = tmp\n",
    "            i = mc\n",
    "\n",
    "    def minChild(self,i):\n",
    "        if i * 2 + 1 > self.currentSize:\n",
    "            return i * 2\n",
    "        else:\n",
    "            if self.heapList[i*2] < self.heapList[i*2+1]:\n",
    "                return i * 2\n",
    "            else:\n",
    "                return i * 2 + 1"
   ]
  },
  {
   "cell_type": "code",
   "execution_count": null,
   "metadata": {
    "collapsed": true,
    "slideshow": {
     "slide_type": "subslide"
    }
   },
   "outputs": [],
   "source": [
    "    def delMin(self):\n",
    "        retval = self.heapList[1]\n",
    "        self.heapList[1] = self.heapList[self.currentSize]\n",
    "        self.currentSize = self.currentSize - 1\n",
    "        self.heapList.pop()\n",
    "        self.percDown(1)\n",
    "        return retval\n",
    "    \n",
    "    def buildHeap(self,alist):\n",
    "        i = len(alist) // 2\n",
    "        self.currentSize = len(alist)\n",
    "        self.heapList = [0] + alist[:]\n",
    "        while (i > 0):\n",
    "            self.percDown(i)\n",
    "            i = i - 1"
   ]
  },
  {
   "cell_type": "code",
   "execution_count": 50,
   "metadata": {
    "collapsed": true,
    "slideshow": {
     "slide_type": "skip"
    }
   },
   "outputs": [],
   "source": [
    "class BinHeap:\n",
    "    def __init__(self):\n",
    "        self.heapList = [0]\n",
    "        self.currentSize = 0\n",
    "\n",
    "    def percUp(self,i):\n",
    "        while i // 2 > 0:\n",
    "            if self.heapList[i] < self.heapList[i // 2]:\n",
    "                tmp = self.heapList[i // 2]\n",
    "                self.heapList[i // 2] = self.heapList[i]\n",
    "                self.heapList[i] = tmp\n",
    "            i = i // 2\n",
    "    \n",
    "    def insert(self,k):\n",
    "        self.heapList.append(k)\n",
    "        self.currentSize = self.currentSize + 1\n",
    "        self.percUp(self.currentSize)\n",
    "\n",
    "    def percDown(self,i):\n",
    "        while (i * 2) <= self.currentSize:\n",
    "            mc = self.minChild(i)\n",
    "            if self.heapList[i] > self.heapList[mc]:\n",
    "                tmp = self.heapList[i]\n",
    "                self.heapList[i] = self.heapList[mc]\n",
    "                self.heapList[mc] = tmp\n",
    "            i = mc\n",
    "\n",
    "    def minChild(self,i):\n",
    "        if i * 2 + 1 > self.currentSize:\n",
    "            return i * 2\n",
    "        else:\n",
    "            if self.heapList[i*2] < self.heapList[i*2+1]:\n",
    "                return i * 2\n",
    "            else:\n",
    "                return i * 2 + 1\n",
    "\n",
    "    def delMin(self):\n",
    "        retval = self.heapList[1]\n",
    "        self.heapList[1] = self.heapList[self.currentSize]\n",
    "        self.currentSize = self.currentSize - 1\n",
    "        self.heapList.pop()\n",
    "        self.percDown(1)\n",
    "        return retval\n",
    "    \n",
    "    def buildHeap(self,alist):\n",
    "        i = len(alist) // 2\n",
    "        self.currentSize = len(alist)\n",
    "        self.heapList = [0] + alist[:]\n",
    "        while (i > 0):\n",
    "            self.percDown(i)\n",
    "            i = i - 1"
   ]
  },
  {
   "cell_type": "code",
   "execution_count": 51,
   "metadata": {
    "slideshow": {
     "slide_type": "subslide"
    }
   },
   "outputs": [
    {
     "name": "stdout",
     "output_type": "stream",
     "text": [
      "2\n",
      "3\n",
      "5\n",
      "6\n",
      "9\n"
     ]
    }
   ],
   "source": [
    "bh = BinHeap()\n",
    "bh.buildHeap([9,5,6,2,3])\n",
    "\n",
    "print(bh.delMin())\n",
    "print(bh.delMin())\n",
    "print(bh.delMin())\n",
    "print(bh.delMin())\n",
    "print(bh.delMin())"
   ]
  },
  {
   "cell_type": "markdown",
   "metadata": {
    "slideshow": {
     "slide_type": "slide"
    }
   },
   "source": [
    "# 二叉查找树"
   ]
  },
  {
   "cell_type": "markdown",
   "metadata": {
    "slideshow": {
     "slide_type": "slide"
    }
   },
   "source": [
    "二叉查找树是一棵二叉树，可以是空树，否则满足如下性质：\n",
    "\n",
    "* 树中结点有一个唯一的关键字；\n",
    "* 如果有左子树，则左子树的所有关键字小于根的关键字；\n",
    "* 如果有右子树，则右子树的所有关键字大于根的关键字；\n",
    "* 左、右子树都是二叉查找树。\n"
   ]
  },
  {
   "cell_type": "markdown",
   "metadata": {
    "slideshow": {
     "slide_type": "slide"
    }
   },
   "source": [
    "对于二叉查找树的每个节点 `node`，它的左子树中所有的关键字都小于 `node` 的关键字，而右子树的所有关键字都大于 `node` 的关键字。"
   ]
  },
  {
   "cell_type": "markdown",
   "metadata": {
    "slideshow": {
     "slide_type": "slide"
    }
   },
   "source": [
    "二叉查找树特别适合同时需要查找、插入和删除三种操作的应用。\n",
    "\n",
    "二叉查找树可以按关键字值操作，也可以按关键字序操作。\n",
    "\n",
    "如：可在查找树中查找或删除关键字为key的结点，也可以删除关键字排第5小的结点；还可以插入一个结点，同时获得该结点关键字的大小位置。"
   ]
  },
  {
   "cell_type": "markdown",
   "metadata": {
    "slideshow": {
     "slide_type": "slide"
    }
   },
   "source": [
    "## 初始化"
   ]
  },
  {
   "cell_type": "code",
   "execution_count": 63,
   "metadata": {
    "collapsed": true,
    "slideshow": {
     "slide_type": "fragment"
    }
   },
   "outputs": [],
   "source": [
    "class BinarySearchTree(object):\n",
    "    def __init__(self, key):\n",
    "        self.key = key\n",
    "        self.leftChild = None\n",
    "        self.rightChild= None\n",
    "        "
   ]
  },
  {
   "cell_type": "markdown",
   "metadata": {
    "slideshow": {
     "slide_type": "slide"
    }
   },
   "source": [
    "## `find` 方法"
   ]
  },
  {
   "cell_type": "markdown",
   "metadata": {
    "slideshow": {
     "slide_type": "fragment"
    }
   },
   "source": [
    "假设要查找关键字是 `key` 的结点。\n",
    "\n",
    "从根开始，若根是 `None`，树中无结点，查找失败；否则，比较 `key` 与根的关键字：\n",
    "* 如果 `key` 等于根的关键字，查找成功，结束；\n",
    "* 如果 `key` 小于根的关键字，因右子树的所有关键字不可能等于 `key`，故应查找根的左子树；\n",
    "* 如果 `key` 大于根的关键字，应查找根的右子树。\n",
    " "
   ]
  },
  {
   "cell_type": "code",
   "execution_count": 64,
   "metadata": {
    "collapsed": true,
    "slideshow": {
     "slide_type": "slide"
    }
   },
   "outputs": [],
   "source": [
    "def find(self, key):\n",
    "    if key == self.key:\n",
    "        return self\n",
    "    elif key < self.key and self.leftChild:\n",
    "        return self.leftChild.find(key)\n",
    "    elif key > self.key and self.rightChild:\n",
    "        return self.rightChild.find(key)\n",
    "    else:\n",
    "        return None"
   ]
  },
  {
   "cell_type": "markdown",
   "metadata": {
    "slideshow": {
     "slide_type": "slide"
    }
   },
   "source": [
    "## `findMin` 和 `findMax` 方法"
   ]
  },
  {
   "cell_type": "markdown",
   "metadata": {
    "slideshow": {
     "slide_type": "fragment"
    }
   },
   "source": [
    "分别返回树中的最小元素和最大元素的位置。\n",
    "* `findMin`, 从根开始，并且只要有左孩子就向左查找，终止点是最小元素。\n",
    "* `findMax`，从根开始，并且只要有右孩子就向右查找，终止点是最大元素。"
   ]
  },
  {
   "cell_type": "code",
   "execution_count": 54,
   "metadata": {
    "collapsed": true,
    "slideshow": {
     "slide_type": "slide"
    }
   },
   "outputs": [],
   "source": [
    "def findMin(self):\n",
    "    if self.leftChild:\n",
    "        return self.leftChild.findMin()\n",
    "    else:\n",
    "        return self"
   ]
  },
  {
   "cell_type": "code",
   "execution_count": 62,
   "metadata": {
    "collapsed": true,
    "slideshow": {
     "slide_type": "fragment"
    }
   },
   "outputs": [],
   "source": [
    "def findMax(self):\n",
    "    current = self\n",
    "    if tree:\n",
    "        while tree.rightChild:\n",
    "            tree = tree.rightChild\n",
    "    return tree"
   ]
  },
  {
   "cell_type": "markdown",
   "metadata": {
    "slideshow": {
     "slide_type": "slide"
    }
   },
   "source": [
    "## `insert` 方法"
   ]
  },
  {
   "cell_type": "markdown",
   "metadata": {
    "slideshow": {
     "slide_type": "fragment"
    }
   },
   "source": [
    "\n",
    "往二叉查找树中插入关键字为 `key` 的结点。\n",
    "首先应该检查该节点是否已经出现在树中，故应先执行 `find` 操作，如果找到 `key`，则什么也不做；否则，将 `key` 插入到遍历路径的最后一点。\n",
    "\n",
    "<img src='images/bst_insert.png'>"
   ]
  },
  {
   "cell_type": "code",
   "execution_count": 58,
   "metadata": {
    "collapsed": true,
    "slideshow": {
     "slide_type": "slide"
    }
   },
   "outputs": [],
   "source": [
    "def insert(self, key):\n",
    "    if key < self.key:\n",
    "        if self.leftChild:\n",
    "            self.leftChild.insert(key)\n",
    "        else:\n",
    "            tree = BinarySearchTree(key)\n",
    "            self.leftChild = tree\n",
    "    elif key > self.key:\n",
    "        if self.rightChild:\n",
    "            self.rightChild.insert(key)\n",
    "        else:\n",
    "            tree = BinarySearchTree(key)\n",
    "            self.rightChild = tree"
   ]
  },
  {
   "cell_type": "markdown",
   "metadata": {
    "slideshow": {
     "slide_type": "slide"
    }
   },
   "source": [
    "## `delete` 方法"
   ]
  },
  {
   "cell_type": "markdown",
   "metadata": {
    "slideshow": {
     "slide_type": "slide"
    }
   },
   "source": [
    "删除某节点有三种情况：\n",
    "\n",
    "* 若节点是叶子，则可直接删除。\n",
    "\n",
    "<img src='images/bst_del1.png'>"
   ]
  },
  {
   "cell_type": "markdown",
   "metadata": {
    "slideshow": {
     "slide_type": "slide"
    }
   },
   "source": [
    "* 若节点只有一个孩子，则把它唯一的孩子放在删除结点原来的位置即可。\n",
    "\n",
    "<img src='images/bst_del2.png'>"
   ]
  },
  {
   "cell_type": "markdown",
   "metadata": {
    "slideshow": {
     "slide_type": "slide"
    }
   },
   "source": [
    "* 如果节点有两个孩子，则将其右子树的最小数据代替此节点的数据，并将其右子树的最小数据（不可能有左孩子，只有一个右孩子）删除。\n",
    "\n",
    "<img src='images/bst_del3.png'>"
   ]
  },
  {
   "cell_type": "code",
   "execution_count": 61,
   "metadata": {
    "collapsed": true,
    "slideshow": {
     "slide_type": "slide"
    }
   },
   "outputs": [],
   "source": [
    "def delete(self, key):\n",
    "    if self.find(key):\n",
    "        if key < self.key:\n",
    "            self.leftChild = self.leftChild.delete(key)\n",
    "            return self\n",
    "        elif key > self.key:\n",
    "            self.rightChild = self.rightChild.delete(key)\n",
    "            return self\n",
    "        elif self.leftChild and self.rightChild:  # 有两个孩子\n",
    "            tmp = self.rightChild.findMin().key\n",
    "            self.key = tmp\n",
    "            self.rightChild = self.rightChild.delete(tmp)\n",
    "            return self\n",
    "        else:\n",
    "            if self.leftChild:\n",
    "                return self.leftChild\n",
    "            else:\n",
    "                return self.rightChild\n",
    "    else:\n",
    "        return self"
   ]
  }
 ],
 "metadata": {
  "celltoolbar": "Slideshow",
  "kernelspec": {
   "display_name": "Python 3",
   "language": "python",
   "name": "python3"
  },
  "language_info": {
   "codemirror_mode": {
    "name": "ipython",
    "version": 3
   },
   "file_extension": ".py",
   "mimetype": "text/x-python",
   "name": "python",
   "nbconvert_exporter": "python",
   "pygments_lexer": "ipython3",
   "version": "3.5.2"
  }
 },
 "nbformat": 4,
 "nbformat_minor": 2
}
