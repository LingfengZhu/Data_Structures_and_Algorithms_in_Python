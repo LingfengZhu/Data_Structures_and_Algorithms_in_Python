{
 "cells": [
  {
   "cell_type": "markdown",
   "metadata": {
    "slideshow": {
     "slide_type": "slide"
    }
   },
   "source": [
    "# 图的定义"
   ]
  },
  {
   "cell_type": "markdown",
   "metadata": {
    "slideshow": {
     "slide_type": "slide"
    }
   },
   "source": [
    "图论是数学的一个分支，最早可以追溯到1736年，数学家欧拉用图论方法解决了Konigsberg七桥问题，此后七桥问题成为著名的数学经典。Konigsberg城中的Pregel河围绕Kneiphof岛缓缓流过，分成两条支流。Pregel河把Konigsberg城分割成四个区域，四个区域由七座桥连接。"
   ]
  },
  {
   "cell_type": "markdown",
   "metadata": {
    "slideshow": {
     "slide_type": "slide"
    }
   },
   "source": [
    "<img src='images/seven_bridges.png'> <img>"
   ]
  },
  {
   "cell_type": "markdown",
   "metadata": {
    "slideshow": {
     "slide_type": "slide"
    }
   },
   "source": [
    "四个区域用$A,B,C,D$标记，七座桥用$a,b,c,d,e,f,g$标记。七桥问题的提法是：从任何一个区域出发，跨过每座桥一次且一次，问最后能否回到出发的那个区域。"
   ]
  },
  {
   "cell_type": "markdown",
   "metadata": {
    "slideshow": {
     "slide_type": "slide"
    }
   },
   "source": [
    "欧拉解决了这一问题，答案是不能。欧拉首先把这个问题描述为抽象的数学对象：图，用图的顶点表示区域，用图的边表示桥梁。图中顶点的度定义为与该顶点邻接的边数，欧拉证明了：如果从图中的一个顶点出发，经过图中所有边一次且仅一次，最后回到出发的顶点，那么当且仅当所有顶点的度都是偶数。后来为了纪念欧拉的发现，这样的回路称为欧拉回路。七桥问题之所以不存在欧拉回路，是因为所有顶点的度均为奇数。"
   ]
  },
  {
   "cell_type": "markdown",
   "metadata": {
    "slideshow": {
     "slide_type": "slide"
    }
   },
   "source": [
    "## 图的定义\n",
    "\n",
    "* 顶点\n",
    "\n",
    "* 边：一条边连接两个顶点，表示它们之间有关系。边可以有方向，也可以没有方向。\n",
    "    * 若所有的边都有方向，则称该图为有向图。 \n",
    "    \n",
    "    * 若所有的边都无方向，则称该图为无向图。\n",
    "\n",
    "* 权重：边可能有权重，以表明从一个顶点到另一个顶点的代价。\n",
    "\n",
    "    * 比如交通图中，一条边的权重可能表示两个城市之间的距离。"
   ]
  },
  {
   "cell_type": "markdown",
   "metadata": {
    "slideshow": {
     "slide_type": "slide"
    }
   },
   "source": [
    "图$G$由两个集合$V, E$组成，其中$V$是顶点集合，$E$是边集合，顶点二元组称为边。用$G=(V,E)$表示图。\n",
    "\n",
    "\n",
    "子图$s$是边$e$和顶点$v$的集合，其中$e\\subset E, v\\subset V$。"
   ]
  },
  {
   "cell_type": "markdown",
   "metadata": {
    "slideshow": {
     "slide_type": "slide"
    }
   },
   "source": [
    "<img src='images/digraph.png'>"
   ]
  },
  {
   "cell_type": "markdown",
   "metadata": {
    "slideshow": {
     "slide_type": "slide"
    }
   },
   "source": [
    "上图是一个带权有向图，该图由六个顶点\n",
    "    $$\n",
    "    V=\\{v_0, v_1, v_2, v_3, v_4, v_5\\}\n",
    "    $$\n",
    "和九条边\n",
    "    $$\n",
    "    E=\\{(v_0,v_1,5), (v_1，v_2,4),(v_2,v_3,9)\n",
    "        (v_3,v_4,7), (v_4，v_0,1),(v_0,v_5,2)\n",
    "        (v_5,v_4,8), (v_3，v_5,3),(v_5,v_2,1)\\}\n",
    "    $$\n",
    "构成。"
   ]
  },
  {
   "cell_type": "markdown",
   "metadata": {
    "slideshow": {
     "slide_type": "slide"
    }
   },
   "source": [
    "* 路径(path):\n",
    "\n",
    "  图$G$中的顶点序列$u,w_1,w_2,\\cdots,w_k,v$称为从$u$到$v$的路径。 该路径有$E$中的边$(u,w_1), (w_1,w_2), \\cdots, (w_k,v)$组成。\n",
    "  \n",
    "  * 无权图的路径长度为路径中边的条数，即$n-1$。\n",
    "  * 带权图的路径长度为路径中边的权重之和。\n",
    "  \n",
    " \n",
    "上图中，路径$v_3\\to v_1$为顶点序列$(v_3,v_4,v_0,v_1)$，路径长度为$7+1+5=13$。"
   ]
  },
  {
   "cell_type": "markdown",
   "metadata": {
    "slideshow": {
     "slide_type": "slide"
    }
   },
   "source": [
    "* 简单路径：除起点和终点可以相同，其他顶点都不相同的路径。\n",
    "\n",
    "* 环路(Cycle)：起点和终点都相同的简单路径。$(v_5,v_2,v_3,v_5)$为环路。\n"
   ]
  },
  {
   "cell_type": "markdown",
   "metadata": {
    "slideshow": {
     "slide_type": "slide"
    }
   },
   "source": [
    "# 图的抽象数据类型 "
   ]
  },
  {
   "cell_type": "markdown",
   "metadata": {
    "slideshow": {
     "slide_type": "slide"
    }
   },
   "source": [
    "图的抽象数据类型定义如下：\n",
    "\n",
    "* `Graph()` 创建新的空图\n",
    "* `addVertex(vert)` 往图中增加图的一个实例 \n",
    "* `addEdge(fromVert, toVert)` 往图中增加一条新的有向边，以连接两个顶点 \n",
    "* `addEdge(fromVert, toVert, weight)` 往图中增加一条新的有向带权边，以连接两个顶点 \n",
    "* `getVertex(vertKey)` 查找图中名为`vertKey`的顶点 \n",
    "* `getVertices()` 返回图中由所有顶点构成的列表 \n",
    "* `in`  若给定顶点在图中，则`vertex in graph`返回True，否则返回False.   \n"
   ]
  },
  {
   "cell_type": "markdown",
   "metadata": {
    "slideshow": {
     "slide_type": "slide"
    }
   },
   "source": [
    "# 邻接矩阵 "
   ]
  },
  {
   "cell_type": "markdown",
   "metadata": {
    "slideshow": {
     "slide_type": "slide"
    }
   },
   "source": [
    "令图$G=(V,E)$有$n\\ge 1$顶点，$G$的邻接矩阵是$n\\times n$的矩阵，矩阵的每一行和每一列表示一个顶点，第$v$行和第$w$列的元素表示顶点$v$和$w$之间是否存在边。若两个顶点之间有边相连，则称它们是邻接的。第$v$行和第$w$列的元素可能表示边$(v,w)$的权重。"
   ]
  },
  {
   "cell_type": "markdown",
   "metadata": {
    "slideshow": {
     "slide_type": "slide"
    }
   },
   "source": [
    "<img src='images/adjMat.png'>"
   ]
  },
  {
   "cell_type": "markdown",
   "metadata": {
    "slideshow": {
     "slide_type": "slide"
    }
   },
   "source": [
    "邻接矩阵的好处是它很简单，对小图来说非常容易看出顶点之间的连接关系。\n",
    "\n",
    "上图的邻接矩阵中，有大量元素都为零，即为稀疏矩阵。而存储稀疏数据采用矩阵并不是一种有效的方式。\n",
    "\n"
   ]
  },
  {
   "cell_type": "markdown",
   "metadata": {
    "slideshow": {
     "slide_type": "slide"
    }
   },
   "source": [
    "# 邻接表"
   ]
  },
  {
   "cell_type": "markdown",
   "metadata": {
    "slideshow": {
     "slide_type": "slide"
    }
   },
   "source": [
    "实现稀疏连接图的一种有效方式是采用邻接表。"
   ]
  },
  {
   "cell_type": "markdown",
   "metadata": {
    "slideshow": {
     "slide_type": "slide"
    }
   },
   "source": [
    "<img src='images/adjlist.png'>"
   ]
  },
  {
   "cell_type": "markdown",
   "metadata": {
    "slideshow": {
     "slide_type": "slide"
    }
   },
   "source": [
    "邻接表的好处是可以紧凑的表示稀疏图，同时还可以容易地找到与某个顶点直接相邻关系。"
   ]
  },
  {
   "cell_type": "markdown",
   "metadata": {
    "slideshow": {
     "slide_type": "slide"
    }
   },
   "source": [
    "# 实现\n",
    "\n"
   ]
  },
  {
   "cell_type": "code",
   "execution_count": 5,
   "metadata": {
    "collapsed": true,
    "slideshow": {
     "slide_type": "slide"
    }
   },
   "outputs": [],
   "source": [
    "# Each Vertex uses a dictionary to keep track of the vertices to which it is connected, \n",
    "# and the weight of each edge.\n",
    "class Vertex:\n",
    "    def __init__(self, key):\n",
    "        self.id = key\n",
    "        self.connectedTo = {}\n",
    "    \n",
    "    # The addNeighbor method is used add a connection from this vertex to another. \n",
    "    def addNeighbor(self, nbr, weight=0):\n",
    "        self.connectedTo[nbr] = weight\n",
    "\n",
    "    def __str__(self):\n",
    "        return str(self.id) + ' connectedTo: ' + str([x.id for x in self.connectedTo])"
   ]
  },
  {
   "cell_type": "code",
   "execution_count": null,
   "metadata": {
    "collapsed": true,
    "slideshow": {
     "slide_type": "slide"
    }
   },
   "outputs": [],
   "source": [
    "    # The getConnections method returns all of the vertices in the adjacency list, \n",
    "    # as represented by the connectedTo instance variable. \n",
    "    def getConnections(self):\n",
    "        return self.connectedTo.keys()\n",
    "\n",
    "    def getId(self):\n",
    "        return self.id\n",
    "    \n",
    "    # The getWeight method returns the weight of the edge from this vertex \n",
    "    # to the vertex passed as a parameter.\n",
    "    def getWeight(self,nbr):\n",
    "        return self.connectedTo[nbr]"
   ]
  },
  {
   "cell_type": "code",
   "execution_count": 4,
   "metadata": {
    "collapsed": true,
    "slideshow": {
     "slide_type": "slide"
    }
   },
   "outputs": [],
   "source": [
    "class Graph:\n",
    "    def __init__(self):\n",
    "        self.vertList = {}\n",
    "        self.numVertices = 0\n",
    "\n",
    "    def addVertex(self,key):\n",
    "        self.numVertices = self.numVertices + 1\n",
    "        newVertex = Vertex(key)\n",
    "        self.vertList[key] = newVertex\n",
    "        return newVertex"
   ]
  },
  {
   "cell_type": "code",
   "execution_count": null,
   "metadata": {
    "collapsed": true,
    "slideshow": {
     "slide_type": "slide"
    }
   },
   "outputs": [],
   "source": [
    "    def getVertex(self,n):\n",
    "        if n in self.vertList:\n",
    "            return self.vertList[n]\n",
    "        else:\n",
    "            return None\n",
    "\n",
    "    def __contains__(self,n):\n",
    "        return n in self.vertList\n",
    "\n",
    "    def addEdge(self,f,t,cost=0):\n",
    "        if f not in self.vertList:\n",
    "            nv = self.addVertex(f)\n",
    "        if t not in self.vertList:\n",
    "            nv = self.addVertex(t)\n",
    "        self.vertList[f].addNeighbor(self.vertList[t], cost)"
   ]
  },
  {
   "cell_type": "code",
   "execution_count": null,
   "metadata": {
    "collapsed": true,
    "slideshow": {
     "slide_type": "slide"
    }
   },
   "outputs": [],
   "source": [
    "    # The getVertices method returns the names of all of the vertices in the graph. \n",
    "    def getVertices(self):\n",
    "        return self.vertList.keys()\n",
    "\n",
    "    def __iter__(self):\n",
    "        return iter(self.vertList.values())"
   ]
  },
  {
   "cell_type": "markdown",
   "metadata": {
    "slideshow": {
     "slide_type": "slide"
    }
   },
   "source": [
    "# 图的基本操作 "
   ]
  },
  {
   "cell_type": "markdown",
   "metadata": {
    "slideshow": {
     "slide_type": "slide"
    }
   },
   "source": [
    "给定图$G=(V,E)$，从顶点$v$出发，要达到其他顶点，有两种办法：\n",
    "\n",
    "* 广度优先搜索\n",
    "* 深度优先搜索"
   ]
  },
  {
   "cell_type": "markdown",
   "metadata": {
    "slideshow": {
     "slide_type": "slide"
    }
   },
   "source": [
    "# 广度优先算法 "
   ]
  },
  {
   "cell_type": "markdown",
   "metadata": {
    "slideshow": {
     "slide_type": "slide"
    }
   },
   "source": [
    "广度优先搜索的过程如下：\n",
    "\n",
    "先访问顶点$v$，并把它标记为已访问，然后访问$v$的邻接表中的所有顶点，这些顶点访问之后，接着访问这个邻接表第一个顶点的邻接表。\n",
    "\n",
    "为实现广度优先搜索，每次将当前顶点入队列保存，在处理完一个邻接表之后，出列一个顶点，然后处理这个顶点的邻接表，表中每个顶点如果未访问则访问之后入队列，已访问过的顶点忽略，直到队列空为止。"
   ]
  },
  {
   "cell_type": "markdown",
   "metadata": {
    "slideshow": {
     "slide_type": "slide"
    }
   },
   "source": [
    "为了跟踪进度，BFS 将每个顶点着色为白色，灰色或黑色。当它们被构造时，所有顶点被初始化为白色。白色顶点是未访问的顶点。当一个顶点最初被访问时它变成灰色的，当 BFS 完全访问完一个顶点时，它被着色为黑色。这意味着一旦顶点变黑色，就没有与它相邻的白色顶点。另一方面，灰色节点可能有与其相邻的一些白色顶点，表示仍有额外的顶点要探索。"
   ]
  },
  {
   "cell_type": "markdown",
   "metadata": {
    "slideshow": {
     "slide_type": "slide"
    }
   },
   "source": [
    "BFS 从起始顶点开始，颜色从灰色开始，表明它正在被访问。另外两个值，即距离和前导，对于起始顶点分别初始化为 0 和 None 。最后，放到一个队列中。下一步是开始系统地检查队列前面的顶点。我们通过迭代它的邻接表来探索队列前面的每个新节点。当检查邻接表上的每个节点时，检查其颜色。"
   ]
  },
  {
   "cell_type": "markdown",
   "metadata": {
    "slideshow": {
     "slide_type": "slide"
    }
   },
   "source": [
    "如果它是白色的，顶点未被访问，有四件事情发生：\n",
    "1. 新的，未访问的顶点 `nbr`，被着色为灰色。\n",
    "2. `nbr` 的前驱被设置为当前节点 `currentVert`\n",
    "3. 到 `nbr` 的距离设置为到 `currentVert + 1` 的距离\n",
    "4. `nbr` 被添加到队列的末尾。 将 `nbr` 添加到队列的末尾有效地调度此节点以进行进一步探索，但不是直到 `currentVert` 的邻接表上的所有其他顶点都被探索。"
   ]
  },
  {
   "cell_type": "code",
   "execution_count": null,
   "metadata": {
    "slideshow": {
     "slide_type": "slide"
    }
   },
   "outputs": [],
   "source": [
    "from pythonds.graphs import Graph, Vertex\n",
    "from pythonds.basic import Queue\n",
    "\n",
    "def bfs(g, start):\n",
    "  start.setDistance(0)\n",
    "  start.setPred(None)\n",
    "  vertQueue = Queue()\n",
    "  vertQueue.enqueue(start)\n",
    "  while (vertQueue.size() > 0):\n",
    "    currentVert = vertQueue.dequeue()\n",
    "    for nbr in currentVert.getConnections():\n",
    "      if (nbr.getColor() == 'white'):\n",
    "        nbr.setColor('gray')\n",
    "        nbr.setDistance(currentVert.getDistance() + 1)\n",
    "        nbr.setPred(currentVert)\n",
    "        vertQueue.enqueue(nbr)\n",
    "    currentVert.setColor('black')"
   ]
  },
  {
   "cell_type": "markdown",
   "metadata": {
    "slideshow": {
     "slide_type": "slide"
    }
   },
   "source": [
    "# 深度优先搜索 "
   ]
  },
  {
   "cell_type": "markdown",
   "metadata": {
    "slideshow": {
     "slide_type": "slide"
    }
   },
   "source": [
    "深度优先搜索的过程是：\n",
    "\n",
    "先访问$v$，然后在所有$v$的邻接表中选择一个顶点$w$，接着进行深度优先搜索。\n",
    "\n",
    "为了记录搜索过程的当前位置，当前的访问顶点$v$入栈保存。\n",
    "搜索过程中如果遇到一个顶点$u$，它的邻接表中不再有未被访问的顶点，\n",
    "则从栈中弹出一个顶点，如果该顶点已被访问，那么忽略，否则访问这个顶点并把这个顶点入栈。\n",
    "搜索在栈空时结束"
   ]
  },
  {
   "cell_type": "markdown",
   "metadata": {
    "slideshow": {
     "slide_type": "fragment"
    }
   },
   "source": [
    "该搜索过程看似复杂，其实可以简单地递归实现。"
   ]
  },
  {
   "cell_type": "code",
   "execution_count": 12,
   "metadata": {
    "collapsed": true,
    "slideshow": {
     "slide_type": "slide"
    }
   },
   "outputs": [],
   "source": [
    "def dfs(v):\n",
    "    visited[v] = True\n",
    "    for node in v.getConnections():\n",
    "        if not node in visited:\n",
    "            dfs(node)"
   ]
  }
 ],
 "metadata": {
  "celltoolbar": "Slideshow",
  "kernelspec": {
   "display_name": "Python 3",
   "language": "python",
   "name": "python3"
  },
  "language_info": {
   "codemirror_mode": {
    "name": "ipython",
    "version": 3
   },
   "file_extension": ".py",
   "mimetype": "text/x-python",
   "name": "python",
   "nbconvert_exporter": "python",
   "pygments_lexer": "ipython3",
   "version": "3.5.2"
  }
 },
 "nbformat": 4,
 "nbformat_minor": 2
}
