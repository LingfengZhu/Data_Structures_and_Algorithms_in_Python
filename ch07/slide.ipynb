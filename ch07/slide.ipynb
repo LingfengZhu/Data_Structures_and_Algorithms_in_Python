{
 "cells": [
  {
   "cell_type": "markdown",
   "metadata": {
    "slideshow": {
     "slide_type": "slide"
    }
   },
   "source": [
    "# 图的定义"
   ]
  },
  {
   "cell_type": "markdown",
   "metadata": {
    "slideshow": {
     "slide_type": "slide"
    }
   },
   "source": [
    "图论是数学的一个分支，最早可以追溯到1736年，数学家欧拉用图论方法解决了Konigsberg七桥问题，此后七桥问题成为著名的数学经典。Konigsberg城中的Pregel河围绕Kneiphof岛缓缓流过，分成两条支流。Pregel河把Konigsberg城分割成四个区域，四个区域由七座桥连接。"
   ]
  },
  {
   "cell_type": "markdown",
   "metadata": {
    "slideshow": {
     "slide_type": "slide"
    }
   },
   "source": [
    "<img src='images/seven_bridges.png'> <img>"
   ]
  },
  {
   "cell_type": "markdown",
   "metadata": {
    "slideshow": {
     "slide_type": "slide"
    }
   },
   "source": [
    "四个区域用$A,B,C,D$标记，七座桥用$a,b,c,d,e,f,g$标记。七桥问题的提法是：从任何一个区域出发，跨过每座桥一次且一次，问最后能否回到出发的那个区域。"
   ]
  },
  {
   "cell_type": "markdown",
   "metadata": {
    "slideshow": {
     "slide_type": "slide"
    }
   },
   "source": [
    "欧拉解决了这一问题，答案是不能。欧拉首先把这个问题描述为抽象的数学对象：图，用图的顶点表示区域，用图的边表示桥梁。图中顶点的度定义为与该顶点邻接的边数，欧拉证明了：如果从图中的一个顶点出发，经过图中所有边一次且仅一次，最后回到出发的顶点，那么当且仅当所有顶点的度都是偶数。后来为了纪念欧拉的发现，这样的回路称为欧拉回路。七桥问题之所以不存在欧拉回路，是因为所有顶点的度均为奇数。"
   ]
  },
  {
   "cell_type": "markdown",
   "metadata": {
    "slideshow": {
     "slide_type": "slide"
    }
   },
   "source": [
    "## 图的定义\n",
    "\n",
    "* 顶点\n",
    "\n",
    "* 边：一条边连接两个顶点，表示它们之间有关系。边可以有方向，也可以没有方向。\n",
    "    * 若所有的边都有方向，则称该图为有向图。 \n",
    "    \n",
    "    * 若所有的边都无方向，则称该图为无向图。\n",
    "\n",
    "* 权重：边可能有权重，以表明从一个顶点到另一个顶点的代价。\n",
    "\n",
    "    * 比如交通图中，一条边的权重可能表示两个城市之间的距离。"
   ]
  },
  {
   "cell_type": "markdown",
   "metadata": {
    "slideshow": {
     "slide_type": "slide"
    }
   },
   "source": [
    "图$G$由两个集合$V, E$组成，其中$V$是顶点集合，$E$是边集合，顶点二元组称为边。用$G=(V,E)$表示图。\n",
    "\n",
    "\n",
    "子图$s$是边$e$和顶点$v$的集合，其中$e\\subset E, v\\subset V$。"
   ]
  },
  {
   "cell_type": "markdown",
   "metadata": {
    "slideshow": {
     "slide_type": "slide"
    }
   },
   "source": [
    "<img src='images/digraph.png'>"
   ]
  },
  {
   "cell_type": "markdown",
   "metadata": {
    "slideshow": {
     "slide_type": "slide"
    }
   },
   "source": [
    "上图是一个带权有向图，该图由六个顶点\n",
    "    $$\n",
    "    V=\\{v_0, v_1, v_2, v_3, v_4, v_5\\}\n",
    "    $$\n",
    "和九条边\n",
    "    $$\n",
    "    E=\\{(v_0,v_1,5), (v_1，v_2,4),(v_2,v_3,9)\n",
    "        (v_3,v_4,7), (v_4，v_0,1),(v_0,v_5,2)\n",
    "        (v_5,v_4,8), (v_3，v_5,3),(v_5,v_2,1)\\}\n",
    "    $$\n",
    "构成。"
   ]
  },
  {
   "cell_type": "markdown",
   "metadata": {
    "slideshow": {
     "slide_type": "slide"
    }
   },
   "source": [
    "* 路径(path):\n",
    "\n",
    "  图$G$中的顶点序列$u,w_1,w_2,\\cdots,w_k,v$称为从$u$到$v$的路径。 该路径有$E$中的边$(u,w_1), (w_1,w_2), \\cdots, (w_k,v)$组成。\n",
    "  \n",
    "  * 无权图的路径长度为路径中边的条数，即$n-1$。\n",
    "  * 带权图的路径长度为路径中边的权重之和。\n",
    "  \n",
    " \n",
    "上图中，路径$v_3\\to v_1$为顶点序列$(v_3,v_4,v_0,v_1)$，路径长度为$7+1+5=13$。"
   ]
  },
  {
   "cell_type": "markdown",
   "metadata": {
    "slideshow": {
     "slide_type": "slide"
    }
   },
   "source": [
    "* 简单路径：除起点和终点可以相同，其他顶点都不相同的路径。\n",
    "\n",
    "* 环路(Cycle)：起点和终点都相同的简单路径。$(v_5,v_2,v_3,v_5)$为环路。\n"
   ]
  },
  {
   "cell_type": "markdown",
   "metadata": {
    "slideshow": {
     "slide_type": "slide"
    }
   },
   "source": [
    "# 图的抽象数据类型 "
   ]
  },
  {
   "cell_type": "markdown",
   "metadata": {
    "slideshow": {
     "slide_type": "slide"
    }
   },
   "source": [
    "图的抽象数据类型定义如下：\n",
    "\n",
    "* `Graph()` 创建新的空图\n",
    "* `addVertex(vert)` 往图中增加图的一个实例 \n",
    "* `addEdge(fromVert, toVert)` 往图中增加一条新的有向边，以连接两个顶点 \n",
    "* `addEdge(fromVert, toVert, weight)` 往图中增加一条新的有向带权边，以连接两个顶点 \n",
    "* `getVertex(vertKey)` 查找图中名为`vertKey`的顶点 \n",
    "* `getVertices()` 返回图中由所有顶点构成的列表 \n",
    "* `in`  若给定顶点在图中，则`vertex in graph`返回True，否则返回False.   \n"
   ]
  },
  {
   "cell_type": "markdown",
   "metadata": {
    "slideshow": {
     "slide_type": "slide"
    }
   },
   "source": [
    "# 邻接矩阵 "
   ]
  },
  {
   "cell_type": "markdown",
   "metadata": {
    "slideshow": {
     "slide_type": "slide"
    }
   },
   "source": [
    "令图$G=(V,E)$有$n\\ge 1$顶点，$G$的邻接矩阵是$n\\times n$的矩阵，矩阵的每一行和每一列表示一个顶点，第$v$行和第$w$列的元素表示顶点$v$和$w$之间是否存在边。若两个顶点之间有边相连，则称它们是邻接的。第$v$行和第$w$列的元素可能表示边$(v,w)$的权重。"
   ]
  },
  {
   "cell_type": "markdown",
   "metadata": {
    "slideshow": {
     "slide_type": "slide"
    }
   },
   "source": [
    "<img src='images/adjMat.png'>"
   ]
  },
  {
   "cell_type": "markdown",
   "metadata": {
    "slideshow": {
     "slide_type": "slide"
    }
   },
   "source": [
    "邻接矩阵的好处是它很简单，对小图来说非常容易看出顶点之间的连接关系。\n",
    "\n",
    "上图的邻接矩阵中，有大量元素都为零，即为稀疏矩阵。而存储稀疏数据采用矩阵并不是一种有效的方式。\n",
    "\n"
   ]
  },
  {
   "cell_type": "markdown",
   "metadata": {
    "slideshow": {
     "slide_type": "slide"
    }
   },
   "source": [
    "# 邻接表"
   ]
  },
  {
   "cell_type": "markdown",
   "metadata": {
    "slideshow": {
     "slide_type": "slide"
    }
   },
   "source": [
    "实现稀疏连接图的一种有效方式是采用邻接表。"
   ]
  },
  {
   "cell_type": "markdown",
   "metadata": {
    "slideshow": {
     "slide_type": "slide"
    }
   },
   "source": [
    "<img src='images/adjlist.png'>"
   ]
  },
  {
   "cell_type": "markdown",
   "metadata": {
    "slideshow": {
     "slide_type": "slide"
    }
   },
   "source": [
    "邻接表的好处是可以紧凑的表示稀疏图，同时还可以容易地找到与某个顶点直接相邻关系。"
   ]
  },
  {
   "cell_type": "markdown",
   "metadata": {
    "slideshow": {
     "slide_type": "slide"
    }
   },
   "source": [
    "# 实现\n",
    "\n"
   ]
  },
  {
   "cell_type": "code",
   "execution_count": 183,
   "metadata": {
    "collapsed": true,
    "slideshow": {
     "slide_type": "slide"
    }
   },
   "outputs": [],
   "source": [
    "class Vertex:\n",
    "    def __init__(self, node):\n",
    "        self.id = node\n",
    "        self.adjacent = {}\n",
    "        # Set distance to infinity for all nodes\n",
    "        self.distance = 999\n",
    "        # Mark all nodes unvisited        \n",
    "        self.visited = False  \n",
    "        # Predecessor\n",
    "        self.previous = None\n",
    "\n",
    "    def addNeighbor(self, neighbor, weight=0):\n",
    "        self.adjacent[neighbor] = weight\n",
    "\n",
    "    def getConnections(self):\n",
    "        return self.adjacent.keys()  \n",
    "\n",
    "    def getId(self):\n",
    "        return self.id\n",
    "\n",
    "    def getWeight(self, neighbor):\n",
    "        return self.adjacent[neighbor]\n",
    "\n",
    "    def setDistance(self, dist):\n",
    "        self.distance = dist\n",
    "\n",
    "    def getDistance(self):\n",
    "        return self.distance\n",
    "\n",
    "    def setPrevious(self, prev):\n",
    "        self.previous = prev\n",
    "\n",
    "    def setVisited(self):\n",
    "        self.visited = True\n",
    "\n",
    "    def __str__(self):\n",
    "        return str(self.id) + ' adjacent: ' + str([x.id for x in self.adjacent])"
   ]
  },
  {
   "cell_type": "code",
   "execution_count": 186,
   "metadata": {
    "collapsed": true,
    "slideshow": {
     "slide_type": "slide"
    }
   },
   "outputs": [],
   "source": [
    "class Graph:\n",
    "    def __init__(self):\n",
    "        self.vertDict = {}\n",
    "        self.numVertices = 0\n",
    "\n",
    "    def __iter__(self):\n",
    "        return iter(self.vertDict.values())\n",
    "\n",
    "    def addVertex(self, node):\n",
    "        self.num_vertices = self.numVertices + 1\n",
    "        newVertex = Vertex(node)\n",
    "        self.vertDict[node] = newVertex\n",
    "        return newVertex\n",
    "\n",
    "    def getVertex(self, n):\n",
    "        if n in self.vertDict:\n",
    "            return self.vertDict[n]\n",
    "        else:\n",
    "            return None\n",
    "\n",
    "    def addEdge(self, frm, to, cost = 0):\n",
    "        if frm not in self.vertDict:\n",
    "            self.addVertex(frm)\n",
    "        if to not in self.vertDict:\n",
    "            self.addVertex(to)\n",
    "\n",
    "        self.vertDict[frm].addNeighbor(self.vertDict[to], cost)\n",
    "        self.vertDict[to].addNeighbor(self.vertDict[frm], cost)\n",
    "\n",
    "    def getVertices(self):\n",
    "        return self.vert_dict.keys()\n",
    "\n",
    "    def setPrevious(self, current):\n",
    "        self.previous = current\n",
    "\n",
    "    def getPrevious(self):\n",
    "        return self.previous"
   ]
  },
  {
   "cell_type": "code",
   "execution_count": 187,
   "metadata": {},
   "outputs": [
    {
     "name": "stdout",
     "output_type": "stream",
     "text": [
      "0 adjacent: [1, 4, 5]\n",
      "1 adjacent: [2, 0]\n",
      "2 adjacent: [3, 1, 5]\n",
      "3 adjacent: [4, 2, 5]\n",
      "4 adjacent: [3, 5, 0]\n",
      "5 adjacent: [3, 4, 2, 0]\n"
     ]
    }
   ],
   "source": [
    "g = Graph()\n",
    "for i in range(6):\n",
    "    g.addVertex(i)\n",
    "\n",
    "g.addEdge(0, 1, 5)\n",
    "g.addEdge(0, 5, 2)\n",
    "g.addEdge(1, 2, 4)\n",
    "g.addEdge(2, 3, 9)\n",
    "g.addEdge(3, 4, 7)\n",
    "g.addEdge(3, 5, 3)\n",
    "g.addEdge(4, 0, 1)\n",
    "g.addEdge(5, 4, 8)\n",
    "g.addEdge(5, 2, 1)\n",
    "\n",
    "for v in g:\n",
    "    print(v)"
   ]
  },
  {
   "cell_type": "markdown",
   "metadata": {
    "slideshow": {
     "slide_type": "slide"
    }
   },
   "source": [
    "# 图的基本操作 "
   ]
  },
  {
   "cell_type": "markdown",
   "metadata": {
    "slideshow": {
     "slide_type": "slide"
    }
   },
   "source": [
    "给定图$G=(V,E)$，从顶点$v$出发，要达到其他顶点，有两种办法：\n",
    "\n",
    "* 广度优先搜索\n",
    "* 深度优先搜索"
   ]
  },
  {
   "cell_type": "markdown",
   "metadata": {
    "slideshow": {
     "slide_type": "slide"
    }
   },
   "source": [
    "# 广度优先算法 "
   ]
  },
  {
   "cell_type": "markdown",
   "metadata": {
    "slideshow": {
     "slide_type": "slide"
    }
   },
   "source": [
    "广度优先搜索的过程如下：\n",
    "\n",
    "先访问顶点$v$，并把它标记为已访问，然后访问$v$的邻接表中的所有顶点，这些顶点访问之后，接着访问这个邻接表第一个顶点的邻接表。\n",
    "\n",
    "为实现广度优先搜索，每次将当前顶点入队列保存，在处理完一个邻接表之后，出列一个顶点，然后处理这个顶点的邻接表，表中每个顶点如果未访问则访问之后入队列，已访问过的顶点忽略，直到队列空为止。"
   ]
  },
  {
   "cell_type": "code",
   "execution_count": 142,
   "metadata": {
    "collapsed": true
   },
   "outputs": [],
   "source": [
    "class Queue():\n",
    "    def __init__(self):\n",
    "        self.items = []\n",
    "        \n",
    "    def isEmpty(self):\n",
    "        return self.items == []\n",
    "    \n",
    "    def enqueue(self, item):\n",
    "        self.items.insert(0, item)\n",
    "        \n",
    "    def dequeue(self):\n",
    "        return self.items.pop()\n",
    "        \n",
    "    def size(self):\n",
    "        return len(self.items)"
   ]
  },
  {
   "cell_type": "code",
   "execution_count": 189,
   "metadata": {
    "slideshow": {
     "slide_type": "slide"
    }
   },
   "outputs": [
    {
     "name": "stdout",
     "output_type": "stream",
     "text": [
      "0\n",
      "1\n",
      "4\n",
      "5\n",
      "2\n",
      "3\n"
     ]
    }
   ],
   "source": [
    "def bfs(aGraph, start):\n",
    "    vertQueue = Queue()\n",
    "    start.visited = True\n",
    "    print(start.getId())\n",
    "    vertQueue.enqueue(start)\n",
    "    while vertQueue.size() > 0:\n",
    "        currentVert = vertQueue.dequeue()\n",
    "        for nbr in currentVert.getConnections():\n",
    "            if not nbr.visited:\n",
    "                print(nbr.getId())\n",
    "                vertQueue.enqueue(nbr)\n",
    "                nbr.visited = True\n",
    "for v in g:\n",
    "    v.visited = False\n",
    "start = g.vert_dict[0]\n",
    "bfs(g, start)"
   ]
  },
  {
   "cell_type": "markdown",
   "metadata": {
    "slideshow": {
     "slide_type": "slide"
    }
   },
   "source": [
    "# 深度优先搜索 "
   ]
  },
  {
   "cell_type": "markdown",
   "metadata": {
    "slideshow": {
     "slide_type": "slide"
    }
   },
   "source": [
    "深度优先搜索的过程是：\n",
    "\n",
    "先访问$v$，然后在所有$v$的邻接表中选择一个顶点$w$，接着进行深度优先搜索。\n",
    "\n",
    "为了记录搜索过程的当前位置，当前的访问顶点$v$入栈保存。\n",
    "搜索过程中如果遇到一个顶点$u$，它的邻接表中不再有未被访问的顶点，\n",
    "则从栈中弹出一个顶点，如果该顶点已被访问，那么忽略，否则访问这个顶点并把这个顶点入栈。\n",
    "搜索在栈空时结束"
   ]
  },
  {
   "cell_type": "markdown",
   "metadata": {
    "slideshow": {
     "slide_type": "fragment"
    }
   },
   "source": [
    "该搜索过程看似复杂，其实可以简单地递归实现。"
   ]
  },
  {
   "cell_type": "code",
   "execution_count": 190,
   "metadata": {
    "slideshow": {
     "slide_type": "slide"
    }
   },
   "outputs": [
    {
     "name": "stdout",
     "output_type": "stream",
     "text": [
      "0\n",
      "1\n",
      "2\n",
      "3\n",
      "4\n",
      "5\n"
     ]
    }
   ],
   "source": [
    "def dfs(aGraph, start):\n",
    "    start.visited = True\n",
    "    print(start.getId())\n",
    "    for node in start.getConnections():\n",
    "        if not node.visited:\n",
    "            dfs(aGraph, node)\n",
    "            \n",
    "for v in g:\n",
    "    v.visited = False\n",
    "start = g.vert_dict[0]\n",
    "dfs(g, start)"
   ]
  },
  {
   "cell_type": "markdown",
   "metadata": {
    "slideshow": {
     "slide_type": "slide"
    }
   },
   "source": [
    "# Dijkstra算法：单源点至所有其它顶点（边权值非负）"
   ]
  },
  {
   "cell_type": "markdown",
   "metadata": {
    "slideshow": {
     "slide_type": "slide"
    }
   },
   "source": [
    "给定有向图$G=(V,E)$，每条边$e$的权值函数$w(e)>0$，以及源点$v_0$，找出由源点$v_0$到图中其它所有顶点的最短路径。"
   ]
  },
  {
   "cell_type": "markdown",
   "metadata": {
    "slideshow": {
     "slide_type": "slide"
    }
   },
   "source": [
    "要找出上图列出的最短路径，可用贪婪算法(Greedy alogrithom)。\n",
    "\n",
    "用$S$记录已找到最短路径的顶点（包括$v_0$），对不在$S$中的顶点$w$，令 `distance[w]` 表示从$v_0$开始，途径$S$中的顶点到$w$的最短路径长度。有以下观察：\n",
    "\n",
    "* 如果下一条最短路径将达到$u$，那么从$v_0$到$u$的最短路径只能途经$S$中的顶点。\n",
    "\n",
    "* 由 `distance` 的定义可知，顶点$u$是所有当前不在$S$中而相距$S$最近的顶点，即`distant[u]`最小。如果有多于一个这样的顶点，则从中人选一个。\n",
    "\n",
    "* 一旦选定$u$，则$u$归入$S$中。$u$的加入，有可能减少从$v_0$出发，途经$S$中顶点，到达目前还不在$S$中的某顶点$w$的路径长度。如果有这样路径的话，则该路径一定经过$u$。因此，应将原路径$v_0\\to w$修改为$v_0\\to u \\to w$，即由$v_0$途经$S$中的顶点到$u$，然后直接到$w$，并将$w$的原路径长度 `distance[w]` 修改为 `distance[u]+length(<u, w>)`"
   ]
  },
  {
   "cell_type": "markdown",
   "metadata": {
    "slideshow": {
     "slide_type": "slide"
    }
   },
   "source": [
    "为了跟踪从源点到每个终点的总成本，我们将使用顶点类中的 `distance` 实例变量。 \n",
    "\n",
    "`distance` 包含从源点到终点的最小权重路径的当前总权重。\n",
    "\n",
    "该算法遍历图中的每个顶点；在顶点上迭代的顺序由优先级队列控制。用于确定优先级队列中对象顺序的值为`distance`。\n",
    "\n",
    "首次创建顶点时，`distance` 被设置为非常大的数。"
   ]
  },
  {
   "cell_type": "markdown",
   "metadata": {
    "slideshow": {
     "slide_type": "slide"
    }
   },
   "source": [
    "<img src='images/dijkstraa.png' width=800>"
   ]
  },
  {
   "cell_type": "markdown",
   "metadata": {
    "slideshow": {
     "slide_type": "slide"
    }
   },
   "source": [
    "<img src='images/dijkstrab.png' width=800>"
   ]
  },
  {
   "cell_type": "markdown",
   "metadata": {
    "slideshow": {
     "slide_type": "slide"
    }
   },
   "source": [
    "<img src='images/dijkstrac.png' width=800>"
   ]
  },
  {
   "cell_type": "markdown",
   "metadata": {
    "slideshow": {
     "slide_type": "slide"
    }
   },
   "source": [
    "<img src='images/dijkstrad.png'  width=800>"
   ]
  },
  {
   "cell_type": "markdown",
   "metadata": {
    "slideshow": {
     "slide_type": "slide"
    }
   },
   "source": [
    "<img src='images/dijkstrae.png' width=800>"
   ]
  },
  {
   "cell_type": "markdown",
   "metadata": {
    "slideshow": {
     "slide_type": "slide"
    }
   },
   "source": [
    "<img src='images/dijkstraf.png' width=800>"
   ]
  },
  {
   "cell_type": "code",
   "execution_count": 219,
   "metadata": {
    "collapsed": true,
    "slideshow": {
     "slide_type": "slide"
    }
   },
   "outputs": [],
   "source": [
    "class BinHeap():\n",
    "    def __init__(self):\n",
    "        self.heapList = [(0,0)]\n",
    "        self.currentSize = 0\n",
    "\n",
    "    def percUp(self,i):\n",
    "        while i // 2 > 0:\n",
    "            if self.heapList[i][0] < self.heapList[i // 2][0]:\n",
    "                tmp = self.heapList[i // 2]\n",
    "                self.heapList[i // 2] = self.heapList[i]\n",
    "                self.heapList[i] = tmp\n",
    "            i = i // 2\n",
    "\n",
    "    def insert(self,k):\n",
    "        self.heapList.append(k)\n",
    "        self.currentSize = self.currentSize + 1\n",
    "        self.percUp(self.currentSize)\n",
    "\n",
    "    def percDown(self,i):\n",
    "        while (i * 2) <= self.currentSize:\n",
    "            mc = self.minChild(i)\n",
    "            if self.heapList[i][0] > self.heapList[mc][0]:\n",
    "                tmp = self.heapList[i]\n",
    "                self.heapList[i] = self.heapList[mc]\n",
    "                self.heapList[mc] = tmp\n",
    "            i = mc\n",
    "\n",
    "    def minChild(self,i):\n",
    "        if i * 2 + 1 > self.currentSize:\n",
    "            return i * 2\n",
    "        else:\n",
    "            if self.heapList[i*2][0] < self.heapList[i*2+1][0]:\n",
    "                return i * 2\n",
    "            else:\n",
    "                return i * 2 + 1\n",
    "\n",
    "    def delMin(self):\n",
    "        retval = self.heapList[1]\n",
    "        self.heapList[1] = self.heapList[self.currentSize]\n",
    "        self.currentSize = self.currentSize - 1\n",
    "        self.heapList.pop()\n",
    "        self.percDown(1)\n",
    "        return retval\n",
    "\n",
    "    def buildHeap(self, alist):\n",
    "        i = len(alist) // 2\n",
    "        self.currentSize = len(alist)\n",
    "        self.heapList = [(0,0)] + alist[:]\n",
    "        while (i > 0):\n",
    "            self.percDown(i)\n",
    "            i = i - 1"
   ]
  },
  {
   "cell_type": "code",
   "execution_count": 237,
   "metadata": {
    "collapsed": true,
    "slideshow": {
     "slide_type": "slide"
    }
   },
   "outputs": [],
   "source": [
    "def dijkstra(aGraph, start, target):\n",
    "    print ('''Dijkstra's shortest path''')\n",
    "    # Set the distance for the start node to zero \n",
    "    start.setDistance(0)\n",
    "    \n",
    "    # Put tuple pair into the priority queue\n",
    "    pq = BinHeap()\n",
    "    unvisited_queue = [(v.getDistance(),v) for v in aGraph]\n",
    "    pq.buildHeap(unvisited_queue)\n",
    "\n",
    "    while pq.currentSize > 0:\n",
    "        # Pops a vertex with the smallest distance \n",
    "        uv = pq.delMin()\n",
    "        current = uv[1]\n",
    "        current.setVisited()\n",
    "\n",
    "        #for next in v.adjacent:\n",
    "        for next in current.adjacent:\n",
    "            # if visited, skip\n",
    "            if next.visited:\n",
    "                continue\n",
    "            new_dist = current.getDistance() + current.getWeight(next)\n",
    "            \n",
    "            if new_dist < next.getDistance():\n",
    "                next.setDistance(new_dist)\n",
    "                next.setPrevious(current)\n",
    "                print ('updated : current = %s next = %s new_dist = %s' \\\n",
    "                        %(current.getId(), next.getId(), next.getDistance()))\n",
    "            else:\n",
    "                print ('not updated : current = %s next = %s new_dist = %s' \\\n",
    "                        %(current.getId(), next.getId(), next.getDistance()))\n",
    "\n",
    "        # Rebuild heap\n",
    "        # 1. Pop every item\n",
    "        while pq.currentSize > 0:\n",
    "            pq.delMin()\n",
    "        # 2. Put all vertices not visited into the queue\n",
    "        unvisited_queue = [(v.getDistance(),v) for v in aGraph if not v.visited]\n",
    "        pq.buildHeap(unvisited_queue)"
   ]
  },
  {
   "cell_type": "code",
   "execution_count": 241,
   "metadata": {
    "collapsed": true,
    "slideshow": {
     "slide_type": "slide"
    }
   },
   "outputs": [],
   "source": [
    "def shortest(v, path):\n",
    "    ''' make shortest path from v.previous'''\n",
    "    if v.previous:\n",
    "        path.append(v.previous.getId())\n",
    "        shortest(v.previous, path)\n",
    "    return"
   ]
  },
  {
   "cell_type": "code",
   "execution_count": 242,
   "metadata": {
    "scrolled": false,
    "slideshow": {
     "slide_type": "slide"
    }
   },
   "outputs": [
    {
     "name": "stdout",
     "output_type": "stream",
     "text": [
      "Graph data:\n",
      "( f , e,   9)\n",
      "( f , c,   2)\n",
      "( f , a,  14)\n",
      "( a , c,   9)\n",
      "( a , b,   7)\n",
      "( a , f,  14)\n",
      "( c , f,   2)\n",
      "( c , a,   9)\n",
      "( c , d,  11)\n",
      "( c , b,  10)\n",
      "( d , e,   6)\n",
      "( d , c,  11)\n",
      "( d , b,  15)\n",
      "( e , f,   9)\n",
      "( e , d,   6)\n",
      "( b , c,  10)\n",
      "( b , a,   7)\n",
      "( b , d,  15)\n",
      "Dijkstra's shortest path\n",
      "updated : current = a next = c new_dist = 9\n",
      "updated : current = a next = b new_dist = 7\n",
      "updated : current = a next = f new_dist = 14\n",
      "not updated : current = b next = c new_dist = 9\n",
      "updated : current = b next = d new_dist = 22\n",
      "updated : current = c next = f new_dist = 11\n",
      "updated : current = c next = d new_dist = 20\n",
      "updated : current = f next = e new_dist = 20\n",
      "not updated : current = d next = e new_dist = 20\n",
      "The shortest path : ['a', 'c', 'f', 'e']\n"
     ]
    }
   ],
   "source": [
    "if __name__ == '__main__':\n",
    "\n",
    "    g = Graph()\n",
    "\n",
    "    g.addVertex('a')\n",
    "    g.addVertex('b')\n",
    "    g.addVertex('c')\n",
    "    g.addVertex('d')\n",
    "    g.addVertex('e')\n",
    "    g.addVertex('f')\n",
    "\n",
    "    g.addEdge('a', 'b', 7)  \n",
    "    g.addEdge('a', 'c', 9)\n",
    "    g.addEdge('a', 'f', 14)\n",
    "    g.addEdge('b', 'c', 10)\n",
    "    g.addEdge('b', 'd', 15)\n",
    "    g.addEdge('c', 'd', 11)\n",
    "    g.addEdge('c', 'f', 2)\n",
    "    g.addEdge('d', 'e', 6)\n",
    "    g.addEdge('e', 'f', 9)\n",
    "\n",
    "    print('Graph data:')\n",
    "    for v in g:\n",
    "        for w in v.getConnections():\n",
    "            vid = v.getId()\n",
    "            wid = w.getId()\n",
    "            print ('( %s , %s, %3d)'  % ( vid, wid, v.getWeight(w)))\n",
    "\n",
    "    dijkstra(g, g.getVertex('a'), g.getVertex('e')) \n",
    "\n",
    "    target = g.getVertex('e')\n",
    "    path = [target.getId()]\n",
    "    shortest(target, path)\n",
    "    print ('The shortest path : %s' %(path[::-1]))"
   ]
  },
  {
   "cell_type": "markdown",
   "metadata": {
    "slideshow": {
     "slide_type": "slide"
    }
   },
   "source": [
    "需要注意的是，Dijkstra的算法只有当权重都是正数时才起作用。如果你在图的边引入一个负权重，算法永远不会退出。"
   ]
  }
 ],
 "metadata": {
  "celltoolbar": "Slideshow",
  "kernelspec": {
   "display_name": "Python 3",
   "language": "python",
   "name": "python3"
  },
  "language_info": {
   "codemirror_mode": {
    "name": "ipython",
    "version": 3
   },
   "file_extension": ".py",
   "mimetype": "text/x-python",
   "name": "python",
   "nbconvert_exporter": "python",
   "pygments_lexer": "ipython3",
   "version": "3.5.2"
  }
 },
 "nbformat": 4,
 "nbformat_minor": 2
}
